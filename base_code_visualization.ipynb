{
 "cells": [
  {
   "cell_type": "code",
   "execution_count": 1,
   "id": "6c0b9468",
   "metadata": {},
   "outputs": [],
   "source": [
    "import pandas as pd\n",
    "import requests\n",
    "import json\n",
    "from pprint import pprint\n",
    "import matplotlib.pyplot as plt\n",
    "import math\n",
    "\n",
    "\n",
    "#Pull in API key from personal file  \n",
    "from api_keys import geoapify_key\n",
    "\n",
    "import plotly.express as px"
   ]
  },
  {
   "cell_type": "code",
   "execution_count": 2,
   "id": "67d6dd13",
   "metadata": {},
   "outputs": [],
   "source": [
    "#Load in the cleaned Datasets\n",
    "\n",
    "growth = pd.read_csv('Datasets/cleaned_base.csv')\n",
    "education = pd.read_csv('Datasets/education_cleaned.csv')\n",
    "safety = pd.read_csv('Datasets/safety_data_cleaned.csv')\n",
    "poverty = pd.read_csv('Datasets/poverty_cleaned.csv')\n"
   ]
  },
  {
   "cell_type": "markdown",
   "id": "0b311b00",
   "metadata": {},
   "source": [
    "# World Population Growth\n",
    "\n",
    "A look at the base dataset that explores the world's population since 1970."
   ]
  },
  {
   "cell_type": "code",
   "execution_count": 40,
   "id": "74258371",
   "metadata": {},
   "outputs": [
    {
     "data": {
      "text/html": [
       "<div>\n",
       "<style scoped>\n",
       "    .dataframe tbody tr th:only-of-type {\n",
       "        vertical-align: middle;\n",
       "    }\n",
       "\n",
       "    .dataframe tbody tr th {\n",
       "        vertical-align: top;\n",
       "    }\n",
       "\n",
       "    .dataframe thead th {\n",
       "        text-align: right;\n",
       "    }\n",
       "</style>\n",
       "<table border=\"1\" class=\"dataframe\">\n",
       "  <thead>\n",
       "    <tr style=\"text-align: right;\">\n",
       "      <th></th>\n",
       "      <th>Unnamed: 0</th>\n",
       "      <th>country</th>\n",
       "      <th>iso_map</th>\n",
       "      <th>2022_pop</th>\n",
       "      <th>2020_pop</th>\n",
       "      <th>2015_pop</th>\n",
       "      <th>2010_pop</th>\n",
       "      <th>2000_pop</th>\n",
       "      <th>1990_pop</th>\n",
       "      <th>1980_pop</th>\n",
       "      <th>...</th>\n",
       "      <th>area (km)</th>\n",
       "      <th>density</th>\n",
       "      <th>iso_two</th>\n",
       "      <th>iso_three</th>\n",
       "      <th>Capital</th>\n",
       "      <th>Continent</th>\n",
       "      <th>growth_rate_10_22</th>\n",
       "      <th>growth_rate_70_22</th>\n",
       "      <th>growth_rate_00_15</th>\n",
       "      <th>growth_rate_70_15</th>\n",
       "    </tr>\n",
       "  </thead>\n",
       "  <tbody>\n",
       "    <tr>\n",
       "      <th>0</th>\n",
       "      <td>0</td>\n",
       "      <td>Afghanistan</td>\n",
       "      <td>AFG</td>\n",
       "      <td>41128771</td>\n",
       "      <td>38972230</td>\n",
       "      <td>33753499</td>\n",
       "      <td>28189672</td>\n",
       "      <td>19542982</td>\n",
       "      <td>10694796</td>\n",
       "      <td>12486631</td>\n",
       "      <td>...</td>\n",
       "      <td>652230</td>\n",
       "      <td>63.0587</td>\n",
       "      <td>af</td>\n",
       "      <td>afg</td>\n",
       "      <td>Kabul</td>\n",
       "      <td>Asia</td>\n",
       "      <td>3.198007</td>\n",
       "      <td>2.613424</td>\n",
       "      <td>3.710294</td>\n",
       "      <td>2.574589</td>\n",
       "    </tr>\n",
       "    <tr>\n",
       "      <th>1</th>\n",
       "      <td>1</td>\n",
       "      <td>Albania</td>\n",
       "      <td>ALB</td>\n",
       "      <td>2842321</td>\n",
       "      <td>2866849</td>\n",
       "      <td>2882481</td>\n",
       "      <td>2913399</td>\n",
       "      <td>3182021</td>\n",
       "      <td>3295066</td>\n",
       "      <td>2941651</td>\n",
       "      <td>...</td>\n",
       "      <td>28748</td>\n",
       "      <td>98.8702</td>\n",
       "      <td>al</td>\n",
       "      <td>alb</td>\n",
       "      <td>Tirana</td>\n",
       "      <td>Europe</td>\n",
       "      <td>-0.205617</td>\n",
       "      <td>0.387319</td>\n",
       "      <td>-0.656934</td>\n",
       "      <td>0.479026</td>\n",
       "    </tr>\n",
       "    <tr>\n",
       "      <th>2</th>\n",
       "      <td>2</td>\n",
       "      <td>Algeria</td>\n",
       "      <td>DZA</td>\n",
       "      <td>44903225</td>\n",
       "      <td>43451666</td>\n",
       "      <td>39543154</td>\n",
       "      <td>35856344</td>\n",
       "      <td>30774621</td>\n",
       "      <td>25518074</td>\n",
       "      <td>18739378</td>\n",
       "      <td>...</td>\n",
       "      <td>2381741</td>\n",
       "      <td>18.8531</td>\n",
       "      <td>dz</td>\n",
       "      <td>dza</td>\n",
       "      <td>Algiers</td>\n",
       "      <td>Africa</td>\n",
       "      <td>1.892596</td>\n",
       "      <td>2.295443</td>\n",
       "      <td>1.685393</td>\n",
       "      <td>2.367638</td>\n",
       "    </tr>\n",
       "    <tr>\n",
       "      <th>3</th>\n",
       "      <td>3</td>\n",
       "      <td>Andorra</td>\n",
       "      <td>AND</td>\n",
       "      <td>79824</td>\n",
       "      <td>77700</td>\n",
       "      <td>71746</td>\n",
       "      <td>71519</td>\n",
       "      <td>66097</td>\n",
       "      <td>53569</td>\n",
       "      <td>35611</td>\n",
       "      <td>...</td>\n",
       "      <td>468</td>\n",
       "      <td>170.5641</td>\n",
       "      <td>ad</td>\n",
       "      <td>and</td>\n",
       "      <td>Andorra la Vella</td>\n",
       "      <td>Europe</td>\n",
       "      <td>0.919712</td>\n",
       "      <td>2.711330</td>\n",
       "      <td>0.548222</td>\n",
       "      <td>2.895401</td>\n",
       "    </tr>\n",
       "    <tr>\n",
       "      <th>4</th>\n",
       "      <td>4</td>\n",
       "      <td>Angola</td>\n",
       "      <td>AGO</td>\n",
       "      <td>35588987</td>\n",
       "      <td>33428485</td>\n",
       "      <td>28127721</td>\n",
       "      <td>23364185</td>\n",
       "      <td>16394062</td>\n",
       "      <td>11828638</td>\n",
       "      <td>8330047</td>\n",
       "      <td>...</td>\n",
       "      <td>1246700</td>\n",
       "      <td>28.5466</td>\n",
       "      <td>ao</td>\n",
       "      <td>ago</td>\n",
       "      <td>Luanda</td>\n",
       "      <td>Africa</td>\n",
       "      <td>3.569151</td>\n",
       "      <td>3.473063</td>\n",
       "      <td>3.664454</td>\n",
       "      <td>3.481588</td>\n",
       "    </tr>\n",
       "  </tbody>\n",
       "</table>\n",
       "<p>5 rows × 21 columns</p>\n",
       "</div>"
      ],
      "text/plain": [
       "   Unnamed: 0      country iso_map  2022_pop  2020_pop  2015_pop  2010_pop  \\\n",
       "0           0  Afghanistan     AFG  41128771  38972230  33753499  28189672   \n",
       "1           1      Albania     ALB   2842321   2866849   2882481   2913399   \n",
       "2           2      Algeria     DZA  44903225  43451666  39543154  35856344   \n",
       "3           3      Andorra     AND     79824     77700     71746     71519   \n",
       "4           4       Angola     AGO  35588987  33428485  28127721  23364185   \n",
       "\n",
       "   2000_pop  1990_pop  1980_pop  ...  area (km)   density  iso_two iso_three  \\\n",
       "0  19542982  10694796  12486631  ...     652230   63.0587       af       afg   \n",
       "1   3182021   3295066   2941651  ...      28748   98.8702       al       alb   \n",
       "2  30774621  25518074  18739378  ...    2381741   18.8531       dz       dza   \n",
       "3     66097     53569     35611  ...        468  170.5641       ad       and   \n",
       "4  16394062  11828638   8330047  ...    1246700   28.5466       ao       ago   \n",
       "\n",
       "            Capital Continent growth_rate_10_22  growth_rate_70_22  \\\n",
       "0             Kabul      Asia          3.198007           2.613424   \n",
       "1            Tirana    Europe         -0.205617           0.387319   \n",
       "2           Algiers    Africa          1.892596           2.295443   \n",
       "3  Andorra la Vella    Europe          0.919712           2.711330   \n",
       "4            Luanda    Africa          3.569151           3.473063   \n",
       "\n",
       "   growth_rate_00_15  growth_rate_70_15  \n",
       "0           3.710294           2.574589  \n",
       "1          -0.656934           0.479026  \n",
       "2           1.685393           2.367638  \n",
       "3           0.548222           2.895401  \n",
       "4           3.664454           3.481588  \n",
       "\n",
       "[5 rows x 21 columns]"
      ]
     },
     "execution_count": 40,
     "metadata": {},
     "output_type": "execute_result"
    }
   ],
   "source": [
    "\n",
    "\n",
    "#Add the 1970 to 2022 growth rate\n",
    "growth['growth_rate_70_22'] = (((growth['2022_pop'] / growth['1970_pop']) ** (1/52)) - 1)  * 100\n",
    "growth['growth_rate_00_15'] = (((growth['2015_pop'] / growth['2000_pop']) ** (1/15)) - 1)  * 100\n",
    "growth['growth_rate_70_15'] = (((growth['2015_pop'] / growth['1970_pop']) ** (1/45)) - 1)  * 100\n",
    "\n",
    "#Show the dataframe\n",
    "\n",
    "growth.head()"
   ]
  },
  {
   "cell_type": "code",
   "execution_count": 28,
   "id": "bf7eace3",
   "metadata": {},
   "outputs": [
    {
     "data": {
      "application/vnd.plotly.v1+json": {
       "config": {
        "plotlyServerURL": "https://plot.ly"
       },
       "data": [
        {
         "coloraxis": "coloraxis",
         "geo": "geo",
         "hovertemplate": "<b>%{hovertext}</b><br><br>Country=%{location}<br>Growth Rate per year percentage=%{z}<extra></extra>",
         "hovertext": [
          "Afghanistan",
          "Albania",
          "Algeria",
          "Andorra",
          "Angola",
          "Antigua and Barbuda",
          "Argentina",
          "Armenia",
          "Australia",
          "Austria",
          "Azerbaijan",
          "The Bahamas",
          "Bahrain",
          "Bangladesh",
          "Barbados",
          "Belarus",
          "Belgium",
          "Belize",
          "Benin",
          "Bhutan",
          "Bolivia",
          "Bosnia and Herzegovina",
          "Botswana",
          "Brazil",
          "Brunei",
          "Bulgaria",
          "Burkina Faso",
          "Burundi",
          "Cambodia",
          "Cameroon",
          "Canada",
          "Cape Verde",
          "Central African Republic",
          "Chad",
          "Chile",
          "China",
          "Colombia",
          "Comoros",
          "Costa Rica",
          "Croatia",
          "Cuba",
          "Cyprus",
          "Czechia",
          "Denmark",
          "Djibouti",
          "Dominica",
          "Dominican Republic",
          "Democratic Republic of the Congo",
          "Ecuador",
          "Egypt",
          "El Salvador",
          "Equatorial Guinea",
          "Eritrea",
          "Estonia",
          "Eswatini",
          "Ethiopia",
          "Fiji",
          "Finland",
          "France",
          "Gabon",
          "The Gambia",
          "Georgia",
          "Germany",
          "Ghana",
          "Greece",
          "Grenada",
          "Guatemala",
          "Guinea",
          "Guinea-Bissau",
          "Guyana",
          "Haiti",
          "Honduras",
          "Hungary",
          "Iceland",
          "India",
          "Indonesia",
          "Iran",
          "Iraq",
          "Ireland",
          "Israel",
          "Italy",
          "Côte d'Ivoire",
          "Jamaica",
          "Japan",
          "Jordan",
          "Kazakhstan",
          "Kenya",
          "Kiribati",
          "Kuwait",
          "Kyrgyzstan",
          "Laos",
          "Latvia",
          "Lebanon",
          "Lesotho",
          "Liberia",
          "Libya",
          "Liechtenstein",
          "Lithuania",
          "Luxembourg",
          "Madagascar",
          "Malawi",
          "Malaysia",
          "Maldives",
          "Mali",
          "Malta",
          "Marshall Islands",
          "Mauritania",
          "Mauritius",
          "Mexico",
          "Federated States of Micronesia",
          "Moldova",
          "Monaco",
          "Mongolia",
          "Montenegro",
          "Morocco",
          "Mozambique",
          "Myanmar",
          "Namibia",
          "Nauru",
          "Nepal",
          "Netherlands",
          "New Zealand",
          "Nicaragua",
          "Niger",
          "Nigeria",
          "North Korea",
          "North Macedonia",
          "Norway",
          "Oman",
          "Pakistan",
          "Palau",
          "Panama",
          "Papua New Guinea",
          "Paraguay",
          "Peru",
          "Philippines",
          "Poland",
          "Portugal",
          "Qatar",
          "Congo-Brazzaville",
          "Romania",
          "Russia",
          "Rwanda",
          "Saint Kitts and Nevis",
          "Saint Lucia",
          "Saint Vincent and the Grenadines",
          "Samoa",
          "San Marino",
          "São Tomé and Príncipe",
          "Saudi Arabia",
          "Senegal",
          "Serbia",
          "Seychelles",
          "Sierra Leone",
          "Singapore",
          "Slovakia",
          "Slovenia",
          "Solomon Islands",
          "Somalia",
          "South Africa",
          "South Korea",
          "South Sudan",
          "Spain",
          "Sri Lanka",
          "Sudan",
          "Suriname",
          "Sweden",
          "Switzerland",
          "Syria",
          "Tajikistan",
          "Tanzania",
          "Thailand",
          "East Timor",
          "Togo",
          "Tonga",
          "Trinidad and Tobago",
          "Tunisia",
          "Turkey",
          "Turkmenistan",
          "Tuvalu",
          "Uganda",
          "Ukraine",
          "United Arab Emirates",
          "United Kingdom",
          "United States",
          "Uruguay",
          "Uzbekistan",
          "Vanuatu",
          "Venezuela",
          "Vietnam",
          "Yemen",
          "Zambia",
          "Zimbabwe"
         ],
         "locations": [
          "AFG",
          "ALB",
          "DZA",
          "AND",
          "AGO",
          "ATG",
          "ARG",
          "ARM",
          "AUS",
          "AUT",
          "AZE",
          "BHS",
          "BHR",
          "BGD",
          "BRB",
          "BLR",
          "BEL",
          "BLZ",
          "BEN",
          "BTN",
          "BOL",
          "BIH",
          "BWA",
          "BRA",
          "BRN",
          "BGR",
          "BFA",
          "BDI",
          "KHM",
          "CMR",
          "CAN",
          "CPV",
          "CAF",
          "TCD",
          "CHL",
          "CHN",
          "COL",
          "COM",
          "CRI",
          "HRV",
          "CUB",
          "CYP",
          "CZE",
          "DNK",
          "DJI",
          "DMA",
          "DOM",
          "COD",
          "ECU",
          "EGY",
          "SLV",
          "GNQ",
          "ERI",
          "EST",
          "SWZ",
          "ETH",
          "FJI",
          "FIN",
          "FRA",
          "GAB",
          "GMB",
          "GEO",
          "DEU",
          "GHA",
          "GRC",
          "GRD",
          "GTM",
          "GIN",
          "GNB",
          "GUY",
          "HTI",
          "HND",
          "HUN",
          "ISL",
          "IND",
          "IDN",
          "IRN",
          "IRQ",
          "IRL",
          "ISR",
          "ITA",
          "CIV",
          "JAM",
          "JPN",
          "JOR",
          "KAZ",
          "KEN",
          "KIR",
          "KWT",
          "KGZ",
          "LAO",
          "LVA",
          "LBN",
          "LSO",
          "LBR",
          "LBY",
          "LIE",
          "LTU",
          "LUX",
          "MDG",
          "MWI",
          "MYS",
          "MDV",
          "MLI",
          "MLT",
          "MHL",
          "MRT",
          "MUS",
          "MEX",
          "FSM",
          "MDA",
          "MCO",
          "MNG",
          "MNE",
          "MAR",
          "MOZ",
          "MMR",
          "NAM",
          "NRU",
          "NPL",
          "NLD",
          "NZL",
          "NIC",
          "NER",
          "NGA",
          "PRK",
          "MKD",
          "NOR",
          "OMN",
          "PAK",
          "PLW",
          "PAN",
          "PNG",
          "PRY",
          "PER",
          "PHL",
          "POL",
          "PRT",
          "QAT",
          "COG",
          "ROU",
          "RUS",
          "RWA",
          "KNA",
          "LCA",
          "VCT",
          "WSM",
          "SMR",
          "STP",
          "SAU",
          "SEN",
          "SRB",
          "SYC",
          "SLE",
          "SGP",
          "SVK",
          "SVN",
          "SLB",
          "SOM",
          "ZAF",
          "KOR",
          "SSD",
          "ESP",
          "LKA",
          "SDN",
          "SUR",
          "SWE",
          "CHE",
          "SYR",
          "TJK",
          "TZA",
          "THA",
          "TLS",
          "TGO",
          "TON",
          "TTO",
          "TUN",
          "TUR",
          "TKM",
          "TUV",
          "UGA",
          "UKR",
          "ARE",
          "GBR",
          "USA",
          "URY",
          "UZB",
          "VUT",
          "VEN",
          "VNM",
          "YEM",
          "ZMB",
          "ZWE"
         ],
         "name": "",
         "type": "choropleth",
         "z": [
          2.613423683915972,
          0.38731860598626433,
          2.295443349016635,
          2.7113295078633692,
          3.47306322914982,
          0.7215465906259322,
          1.2509455601843689,
          0.17837384151626612,
          1.4168557610062305,
          0.3471916947657361,
          1.2513998715152352,
          1.6050757535794657,
          3.7002014012919915,
          1.8045606662919544,
          0.2969188280553148,
          0.07491538954875754,
          0.3679766029363263,
          2.3533279548309194,
          2.8975994682483908,
          1.8678991044775328,
          1.9034054201566564,
          -0.3177911299837355,
          2.9086779979776933,
          1.557976162614061,
          2.362282792194925,
          -0.4518846911496399,
          2.7216884663830987,
          2.539941678034263,
          1.7773090325659213,
          2.8566480046326337,
          1.1303131134611233,
          1.404094833255476,
          1.9275042538371645,
          3.075974580479013,
          1.338201568781372,
          1.0636151047457743,
          1.7630883485491688,
          2.4116339889558525,
          1.9940529769671533,
          -0.20859915067817925,
          0.45172473360501897,
          1.2955607621893073,
          0.1324998681028644,
          0.34295333383196347,
          4.01984757833358,
          0.10441329869312899,
          1.7845492330681445,
          3.10875206424992,
          2.079734191172955,
          2.2565083438912614,
          1.082911706941414,
          3.253247114747837,
          2.0649335435760197,
          -0.05140952246199815,
          1.9381634649906276,
          2.871444288019398,
          1.0954373784256344,
          0.35569716741854496,
          0.47455756548511197,
          2.7019902656860717,
          3.189707046325263,
          -0.47664366125116375,
          0.1208580346791388,
          2.5888358046686655,
          0.3757584602455344,
          0.4602380461920186,
          2.3059114969865346,
          2.3120181902667403,
          2.4711986354921445,
          0.26360109311287516,
          1.7580425205400818,
          2.57395254354964,
          -0.06598608636296799,
          1.1622719607651932,
          1.8103349152284398,
          1.6904293221459588,
          2.2075442837840242,
          2.9501061118685445,
          1.0369617752417515,
          2.2052031021911,
          0.19593248282161468,
          3.198844729048189,
          0.8095317620990583,
          0.3119654542722783,
          3.8822132683080657,
          0.8854263748101054,
          3.0246262565971183,
          1.601687938037899,
          3.265684419004633,
          1.5262219177825775,
          2.009873940026652,
          -0.49655764711585837,
          1.6187856843855375,
          1.5742414362992951,
          2.506549985496198,
          2.4764428979677344,
          1.205593485113643,
          -0.29704989078120914,
          1.2505689279244336,
          2.916916185718166,
          2.895529667672303,
          2.3183231372028823,
          2.8216266721544425,
          2.5327563861779145,
          1.0150629416371126,
          1.0644588789139542,
          2.807797871411677,
          0.8655450448015856,
          1.8052477768921271,
          1.2778748174044896,
          -0.24131094061830005,
          0.7861927862883533,
          1.8743676364085582,
          0.3230105091601043,
          1.7400511391102658,
          2.6616571177492165,
          1.3279602400602775,
          2.3827252614371686,
          1.2432598077424695,
          1.7330264548820251,
          0.5747377451043922,
          1.1754109596290307,
          2.0290816471800532,
          3.372878815700231,
          2.6683337003317043,
          1.068982285733533,
          0.45102720327447887,
          0.6522093315209476,
          3.7619868994643646,
          2.6906263769921113,
          0.8939649256526572,
          2.0738138081859203,
          2.7384428898526547,
          2.0102532998212075,
          1.7859898978539013,
          2.191277951906323,
          0.3942106776081644,
          0.3233514394705539,
          6.200920717080138,
          2.832644290192232,
          -0.02558680106712341,
          0.2050271713389895,
          2.458452910040032,
          0.11175162280467887,
          1.0760553870900136,
          0.10438243333077413,
          0.8558622674056604,
          1.1928143907924627,
          2.0893630264496865,
          3.4932999635471695,
          2.6842601030285795,
          0.007426362756057792,
          1.312291682682032,
          2.197833314593667,
          2.067437148269047,
          0.4265804045907373,
          0.37902143867607485,
          2.793780584643457,
          3.0331108812785335,
          1.9121467068882403,
          0.8950354824451168,
          2.301621744999127,
          0.6593196186831518,
          1.0955596980648963,
          2.7727526947152414,
          0.9401568536453908,
          0.526700778987732,
          0.6684693439670264,
          2.439131366854097,
          2.337615370449142,
          3.066479219203666,
          1.3449887553882878,
          1.714901921619183,
          2.7150563834253294,
          0.4076390286836151,
          0.8441624186504848,
          1.7365933620997032,
          1.6988286061138114,
          2.082907901924913,
          1.288217923440449,
          2.9694463851181796,
          -0.33534616797961103,
          6.870866848555579,
          0.3721810987330265,
          1.0126805074097023,
          0.3936971962678948,
          2.0570240916413907,
          2.5769480366848674,
          1.7717074144827816,
          1.6498041955776088,
          3.1130147455795676,
          3.0103293633656714,
          2.222814880832824
         ]
        }
       ],
       "layout": {
        "coloraxis": {
         "colorbar": {
          "title": {
           "text": "Growth Rate per year percentage"
          }
         },
         "colorscale": [
          [
           0,
           "rgb(103,0,31)"
          ],
          [
           0.1,
           "rgb(178,24,43)"
          ],
          [
           0.2,
           "rgb(214,96,77)"
          ],
          [
           0.3,
           "rgb(244,165,130)"
          ],
          [
           0.4,
           "rgb(253,219,199)"
          ],
          [
           0.5,
           "rgb(247,247,247)"
          ],
          [
           0.6,
           "rgb(209,229,240)"
          ],
          [
           0.7,
           "rgb(146,197,222)"
          ],
          [
           0.8,
           "rgb(67,147,195)"
          ],
          [
           0.9,
           "rgb(33,102,172)"
          ],
          [
           1,
           "rgb(5,48,97)"
          ]
         ]
        },
        "geo": {
         "center": {},
         "domain": {
          "x": [
           0,
           1
          ],
          "y": [
           0,
           1
          ]
         }
        },
        "legend": {
         "tracegroupgap": 0
        },
        "template": {
         "data": {
          "bar": [
           {
            "error_x": {
             "color": "#2a3f5f"
            },
            "error_y": {
             "color": "#2a3f5f"
            },
            "marker": {
             "line": {
              "color": "#E5ECF6",
              "width": 0.5
             },
             "pattern": {
              "fillmode": "overlay",
              "size": 10,
              "solidity": 0.2
             }
            },
            "type": "bar"
           }
          ],
          "barpolar": [
           {
            "marker": {
             "line": {
              "color": "#E5ECF6",
              "width": 0.5
             },
             "pattern": {
              "fillmode": "overlay",
              "size": 10,
              "solidity": 0.2
             }
            },
            "type": "barpolar"
           }
          ],
          "carpet": [
           {
            "aaxis": {
             "endlinecolor": "#2a3f5f",
             "gridcolor": "white",
             "linecolor": "white",
             "minorgridcolor": "white",
             "startlinecolor": "#2a3f5f"
            },
            "baxis": {
             "endlinecolor": "#2a3f5f",
             "gridcolor": "white",
             "linecolor": "white",
             "minorgridcolor": "white",
             "startlinecolor": "#2a3f5f"
            },
            "type": "carpet"
           }
          ],
          "choropleth": [
           {
            "colorbar": {
             "outlinewidth": 0,
             "ticks": ""
            },
            "type": "choropleth"
           }
          ],
          "contour": [
           {
            "colorbar": {
             "outlinewidth": 0,
             "ticks": ""
            },
            "colorscale": [
             [
              0,
              "#0d0887"
             ],
             [
              0.1111111111111111,
              "#46039f"
             ],
             [
              0.2222222222222222,
              "#7201a8"
             ],
             [
              0.3333333333333333,
              "#9c179e"
             ],
             [
              0.4444444444444444,
              "#bd3786"
             ],
             [
              0.5555555555555556,
              "#d8576b"
             ],
             [
              0.6666666666666666,
              "#ed7953"
             ],
             [
              0.7777777777777778,
              "#fb9f3a"
             ],
             [
              0.8888888888888888,
              "#fdca26"
             ],
             [
              1,
              "#f0f921"
             ]
            ],
            "type": "contour"
           }
          ],
          "contourcarpet": [
           {
            "colorbar": {
             "outlinewidth": 0,
             "ticks": ""
            },
            "type": "contourcarpet"
           }
          ],
          "heatmap": [
           {
            "colorbar": {
             "outlinewidth": 0,
             "ticks": ""
            },
            "colorscale": [
             [
              0,
              "#0d0887"
             ],
             [
              0.1111111111111111,
              "#46039f"
             ],
             [
              0.2222222222222222,
              "#7201a8"
             ],
             [
              0.3333333333333333,
              "#9c179e"
             ],
             [
              0.4444444444444444,
              "#bd3786"
             ],
             [
              0.5555555555555556,
              "#d8576b"
             ],
             [
              0.6666666666666666,
              "#ed7953"
             ],
             [
              0.7777777777777778,
              "#fb9f3a"
             ],
             [
              0.8888888888888888,
              "#fdca26"
             ],
             [
              1,
              "#f0f921"
             ]
            ],
            "type": "heatmap"
           }
          ],
          "heatmapgl": [
           {
            "colorbar": {
             "outlinewidth": 0,
             "ticks": ""
            },
            "colorscale": [
             [
              0,
              "#0d0887"
             ],
             [
              0.1111111111111111,
              "#46039f"
             ],
             [
              0.2222222222222222,
              "#7201a8"
             ],
             [
              0.3333333333333333,
              "#9c179e"
             ],
             [
              0.4444444444444444,
              "#bd3786"
             ],
             [
              0.5555555555555556,
              "#d8576b"
             ],
             [
              0.6666666666666666,
              "#ed7953"
             ],
             [
              0.7777777777777778,
              "#fb9f3a"
             ],
             [
              0.8888888888888888,
              "#fdca26"
             ],
             [
              1,
              "#f0f921"
             ]
            ],
            "type": "heatmapgl"
           }
          ],
          "histogram": [
           {
            "marker": {
             "pattern": {
              "fillmode": "overlay",
              "size": 10,
              "solidity": 0.2
             }
            },
            "type": "histogram"
           }
          ],
          "histogram2d": [
           {
            "colorbar": {
             "outlinewidth": 0,
             "ticks": ""
            },
            "colorscale": [
             [
              0,
              "#0d0887"
             ],
             [
              0.1111111111111111,
              "#46039f"
             ],
             [
              0.2222222222222222,
              "#7201a8"
             ],
             [
              0.3333333333333333,
              "#9c179e"
             ],
             [
              0.4444444444444444,
              "#bd3786"
             ],
             [
              0.5555555555555556,
              "#d8576b"
             ],
             [
              0.6666666666666666,
              "#ed7953"
             ],
             [
              0.7777777777777778,
              "#fb9f3a"
             ],
             [
              0.8888888888888888,
              "#fdca26"
             ],
             [
              1,
              "#f0f921"
             ]
            ],
            "type": "histogram2d"
           }
          ],
          "histogram2dcontour": [
           {
            "colorbar": {
             "outlinewidth": 0,
             "ticks": ""
            },
            "colorscale": [
             [
              0,
              "#0d0887"
             ],
             [
              0.1111111111111111,
              "#46039f"
             ],
             [
              0.2222222222222222,
              "#7201a8"
             ],
             [
              0.3333333333333333,
              "#9c179e"
             ],
             [
              0.4444444444444444,
              "#bd3786"
             ],
             [
              0.5555555555555556,
              "#d8576b"
             ],
             [
              0.6666666666666666,
              "#ed7953"
             ],
             [
              0.7777777777777778,
              "#fb9f3a"
             ],
             [
              0.8888888888888888,
              "#fdca26"
             ],
             [
              1,
              "#f0f921"
             ]
            ],
            "type": "histogram2dcontour"
           }
          ],
          "mesh3d": [
           {
            "colorbar": {
             "outlinewidth": 0,
             "ticks": ""
            },
            "type": "mesh3d"
           }
          ],
          "parcoords": [
           {
            "line": {
             "colorbar": {
              "outlinewidth": 0,
              "ticks": ""
             }
            },
            "type": "parcoords"
           }
          ],
          "pie": [
           {
            "automargin": true,
            "type": "pie"
           }
          ],
          "scatter": [
           {
            "fillpattern": {
             "fillmode": "overlay",
             "size": 10,
             "solidity": 0.2
            },
            "type": "scatter"
           }
          ],
          "scatter3d": [
           {
            "line": {
             "colorbar": {
              "outlinewidth": 0,
              "ticks": ""
             }
            },
            "marker": {
             "colorbar": {
              "outlinewidth": 0,
              "ticks": ""
             }
            },
            "type": "scatter3d"
           }
          ],
          "scattercarpet": [
           {
            "marker": {
             "colorbar": {
              "outlinewidth": 0,
              "ticks": ""
             }
            },
            "type": "scattercarpet"
           }
          ],
          "scattergeo": [
           {
            "marker": {
             "colorbar": {
              "outlinewidth": 0,
              "ticks": ""
             }
            },
            "type": "scattergeo"
           }
          ],
          "scattergl": [
           {
            "marker": {
             "colorbar": {
              "outlinewidth": 0,
              "ticks": ""
             }
            },
            "type": "scattergl"
           }
          ],
          "scattermapbox": [
           {
            "marker": {
             "colorbar": {
              "outlinewidth": 0,
              "ticks": ""
             }
            },
            "type": "scattermapbox"
           }
          ],
          "scatterpolar": [
           {
            "marker": {
             "colorbar": {
              "outlinewidth": 0,
              "ticks": ""
             }
            },
            "type": "scatterpolar"
           }
          ],
          "scatterpolargl": [
           {
            "marker": {
             "colorbar": {
              "outlinewidth": 0,
              "ticks": ""
             }
            },
            "type": "scatterpolargl"
           }
          ],
          "scatterternary": [
           {
            "marker": {
             "colorbar": {
              "outlinewidth": 0,
              "ticks": ""
             }
            },
            "type": "scatterternary"
           }
          ],
          "surface": [
           {
            "colorbar": {
             "outlinewidth": 0,
             "ticks": ""
            },
            "colorscale": [
             [
              0,
              "#0d0887"
             ],
             [
              0.1111111111111111,
              "#46039f"
             ],
             [
              0.2222222222222222,
              "#7201a8"
             ],
             [
              0.3333333333333333,
              "#9c179e"
             ],
             [
              0.4444444444444444,
              "#bd3786"
             ],
             [
              0.5555555555555556,
              "#d8576b"
             ],
             [
              0.6666666666666666,
              "#ed7953"
             ],
             [
              0.7777777777777778,
              "#fb9f3a"
             ],
             [
              0.8888888888888888,
              "#fdca26"
             ],
             [
              1,
              "#f0f921"
             ]
            ],
            "type": "surface"
           }
          ],
          "table": [
           {
            "cells": {
             "fill": {
              "color": "#EBF0F8"
             },
             "line": {
              "color": "white"
             }
            },
            "header": {
             "fill": {
              "color": "#C8D4E3"
             },
             "line": {
              "color": "white"
             }
            },
            "type": "table"
           }
          ]
         },
         "layout": {
          "annotationdefaults": {
           "arrowcolor": "#2a3f5f",
           "arrowhead": 0,
           "arrowwidth": 1
          },
          "autotypenumbers": "strict",
          "coloraxis": {
           "colorbar": {
            "outlinewidth": 0,
            "ticks": ""
           }
          },
          "colorscale": {
           "diverging": [
            [
             0,
             "#8e0152"
            ],
            [
             0.1,
             "#c51b7d"
            ],
            [
             0.2,
             "#de77ae"
            ],
            [
             0.3,
             "#f1b6da"
            ],
            [
             0.4,
             "#fde0ef"
            ],
            [
             0.5,
             "#f7f7f7"
            ],
            [
             0.6,
             "#e6f5d0"
            ],
            [
             0.7,
             "#b8e186"
            ],
            [
             0.8,
             "#7fbc41"
            ],
            [
             0.9,
             "#4d9221"
            ],
            [
             1,
             "#276419"
            ]
           ],
           "sequential": [
            [
             0,
             "#0d0887"
            ],
            [
             0.1111111111111111,
             "#46039f"
            ],
            [
             0.2222222222222222,
             "#7201a8"
            ],
            [
             0.3333333333333333,
             "#9c179e"
            ],
            [
             0.4444444444444444,
             "#bd3786"
            ],
            [
             0.5555555555555556,
             "#d8576b"
            ],
            [
             0.6666666666666666,
             "#ed7953"
            ],
            [
             0.7777777777777778,
             "#fb9f3a"
            ],
            [
             0.8888888888888888,
             "#fdca26"
            ],
            [
             1,
             "#f0f921"
            ]
           ],
           "sequentialminus": [
            [
             0,
             "#0d0887"
            ],
            [
             0.1111111111111111,
             "#46039f"
            ],
            [
             0.2222222222222222,
             "#7201a8"
            ],
            [
             0.3333333333333333,
             "#9c179e"
            ],
            [
             0.4444444444444444,
             "#bd3786"
            ],
            [
             0.5555555555555556,
             "#d8576b"
            ],
            [
             0.6666666666666666,
             "#ed7953"
            ],
            [
             0.7777777777777778,
             "#fb9f3a"
            ],
            [
             0.8888888888888888,
             "#fdca26"
            ],
            [
             1,
             "#f0f921"
            ]
           ]
          },
          "colorway": [
           "#636efa",
           "#EF553B",
           "#00cc96",
           "#ab63fa",
           "#FFA15A",
           "#19d3f3",
           "#FF6692",
           "#B6E880",
           "#FF97FF",
           "#FECB52"
          ],
          "font": {
           "color": "#2a3f5f"
          },
          "geo": {
           "bgcolor": "white",
           "lakecolor": "white",
           "landcolor": "#E5ECF6",
           "showlakes": true,
           "showland": true,
           "subunitcolor": "white"
          },
          "hoverlabel": {
           "align": "left"
          },
          "hovermode": "closest",
          "mapbox": {
           "style": "light"
          },
          "paper_bgcolor": "white",
          "plot_bgcolor": "#E5ECF6",
          "polar": {
           "angularaxis": {
            "gridcolor": "white",
            "linecolor": "white",
            "ticks": ""
           },
           "bgcolor": "#E5ECF6",
           "radialaxis": {
            "gridcolor": "white",
            "linecolor": "white",
            "ticks": ""
           }
          },
          "scene": {
           "xaxis": {
            "backgroundcolor": "#E5ECF6",
            "gridcolor": "white",
            "gridwidth": 2,
            "linecolor": "white",
            "showbackground": true,
            "ticks": "",
            "zerolinecolor": "white"
           },
           "yaxis": {
            "backgroundcolor": "#E5ECF6",
            "gridcolor": "white",
            "gridwidth": 2,
            "linecolor": "white",
            "showbackground": true,
            "ticks": "",
            "zerolinecolor": "white"
           },
           "zaxis": {
            "backgroundcolor": "#E5ECF6",
            "gridcolor": "white",
            "gridwidth": 2,
            "linecolor": "white",
            "showbackground": true,
            "ticks": "",
            "zerolinecolor": "white"
           }
          },
          "shapedefaults": {
           "line": {
            "color": "#2a3f5f"
           }
          },
          "ternary": {
           "aaxis": {
            "gridcolor": "white",
            "linecolor": "white",
            "ticks": ""
           },
           "baxis": {
            "gridcolor": "white",
            "linecolor": "white",
            "ticks": ""
           },
           "bgcolor": "#E5ECF6",
           "caxis": {
            "gridcolor": "white",
            "linecolor": "white",
            "ticks": ""
           }
          },
          "title": {
           "x": 0.05
          },
          "xaxis": {
           "automargin": true,
           "gridcolor": "white",
           "linecolor": "white",
           "ticks": "",
           "title": {
            "standoff": 15
           },
           "zerolinecolor": "white",
           "zerolinewidth": 2
          },
          "yaxis": {
           "automargin": true,
           "gridcolor": "white",
           "linecolor": "white",
           "ticks": "",
           "title": {
            "standoff": 15
           },
           "zerolinecolor": "white",
           "zerolinewidth": 2
          }
         }
        },
        "title": {
         "text": "Growth Rate from 1970 to 2022"
        }
       }
      },
      "text/html": [
       "<div>                            <div id=\"472f31b8-2369-407d-89c7-c8fd3d11b9fc\" class=\"plotly-graph-div\" style=\"height:525px; width:100%;\"></div>            <script type=\"text/javascript\">                require([\"plotly\"], function(Plotly) {                    window.PLOTLYENV=window.PLOTLYENV || {};                                    if (document.getElementById(\"472f31b8-2369-407d-89c7-c8fd3d11b9fc\")) {                    Plotly.newPlot(                        \"472f31b8-2369-407d-89c7-c8fd3d11b9fc\",                        [{\"coloraxis\":\"coloraxis\",\"geo\":\"geo\",\"hovertemplate\":\"<b>%{hovertext}</b><br><br>Country=%{location}<br>Growth Rate per year percentage=%{z}<extra></extra>\",\"hovertext\":[\"Afghanistan\",\"Albania\",\"Algeria\",\"Andorra\",\"Angola\",\"Antigua and Barbuda\",\"Argentina\",\"Armenia\",\"Australia\",\"Austria\",\"Azerbaijan\",\"The Bahamas\",\"Bahrain\",\"Bangladesh\",\"Barbados\",\"Belarus\",\"Belgium\",\"Belize\",\"Benin\",\"Bhutan\",\"Bolivia\",\"Bosnia and Herzegovina\",\"Botswana\",\"Brazil\",\"Brunei\",\"Bulgaria\",\"Burkina Faso\",\"Burundi\",\"Cambodia\",\"Cameroon\",\"Canada\",\"Cape Verde\",\"Central African Republic\",\"Chad\",\"Chile\",\"China\",\"Colombia\",\"Comoros\",\"Costa Rica\",\"Croatia\",\"Cuba\",\"Cyprus\",\"Czechia\",\"Denmark\",\"Djibouti\",\"Dominica\",\"Dominican Republic\",\"Democratic Republic of the Congo\",\"Ecuador\",\"Egypt\",\"El Salvador\",\"Equatorial Guinea\",\"Eritrea\",\"Estonia\",\"Eswatini\",\"Ethiopia\",\"Fiji\",\"Finland\",\"France\",\"Gabon\",\"The Gambia\",\"Georgia\",\"Germany\",\"Ghana\",\"Greece\",\"Grenada\",\"Guatemala\",\"Guinea\",\"Guinea-Bissau\",\"Guyana\",\"Haiti\",\"Honduras\",\"Hungary\",\"Iceland\",\"India\",\"Indonesia\",\"Iran\",\"Iraq\",\"Ireland\",\"Israel\",\"Italy\",\"C\\u00f4te d'Ivoire\",\"Jamaica\",\"Japan\",\"Jordan\",\"Kazakhstan\",\"Kenya\",\"Kiribati\",\"Kuwait\",\"Kyrgyzstan\",\"Laos\",\"Latvia\",\"Lebanon\",\"Lesotho\",\"Liberia\",\"Libya\",\"Liechtenstein\",\"Lithuania\",\"Luxembourg\",\"Madagascar\",\"Malawi\",\"Malaysia\",\"Maldives\",\"Mali\",\"Malta\",\"Marshall Islands\",\"Mauritania\",\"Mauritius\",\"Mexico\",\"Federated States of Micronesia\",\"Moldova\",\"Monaco\",\"Mongolia\",\"Montenegro\",\"Morocco\",\"Mozambique\",\"Myanmar\",\"Namibia\",\"Nauru\",\"Nepal\",\"Netherlands\",\"New Zealand\",\"Nicaragua\",\"Niger\",\"Nigeria\",\"North Korea\",\"North Macedonia\",\"Norway\",\"Oman\",\"Pakistan\",\"Palau\",\"Panama\",\"Papua New Guinea\",\"Paraguay\",\"Peru\",\"Philippines\",\"Poland\",\"Portugal\",\"Qatar\",\"Congo-Brazzaville\",\"Romania\",\"Russia\",\"Rwanda\",\"Saint Kitts and Nevis\",\"Saint Lucia\",\"Saint Vincent and the Grenadines\",\"Samoa\",\"San Marino\",\"S\\u00e3o Tom\\u00e9 and Pr\\u00edncipe\",\"Saudi Arabia\",\"Senegal\",\"Serbia\",\"Seychelles\",\"Sierra Leone\",\"Singapore\",\"Slovakia\",\"Slovenia\",\"Solomon Islands\",\"Somalia\",\"South Africa\",\"South Korea\",\"South Sudan\",\"Spain\",\"Sri Lanka\",\"Sudan\",\"Suriname\",\"Sweden\",\"Switzerland\",\"Syria\",\"Tajikistan\",\"Tanzania\",\"Thailand\",\"East Timor\",\"Togo\",\"Tonga\",\"Trinidad and Tobago\",\"Tunisia\",\"Turkey\",\"Turkmenistan\",\"Tuvalu\",\"Uganda\",\"Ukraine\",\"United Arab Emirates\",\"United Kingdom\",\"United States\",\"Uruguay\",\"Uzbekistan\",\"Vanuatu\",\"Venezuela\",\"Vietnam\",\"Yemen\",\"Zambia\",\"Zimbabwe\"],\"locations\":[\"AFG\",\"ALB\",\"DZA\",\"AND\",\"AGO\",\"ATG\",\"ARG\",\"ARM\",\"AUS\",\"AUT\",\"AZE\",\"BHS\",\"BHR\",\"BGD\",\"BRB\",\"BLR\",\"BEL\",\"BLZ\",\"BEN\",\"BTN\",\"BOL\",\"BIH\",\"BWA\",\"BRA\",\"BRN\",\"BGR\",\"BFA\",\"BDI\",\"KHM\",\"CMR\",\"CAN\",\"CPV\",\"CAF\",\"TCD\",\"CHL\",\"CHN\",\"COL\",\"COM\",\"CRI\",\"HRV\",\"CUB\",\"CYP\",\"CZE\",\"DNK\",\"DJI\",\"DMA\",\"DOM\",\"COD\",\"ECU\",\"EGY\",\"SLV\",\"GNQ\",\"ERI\",\"EST\",\"SWZ\",\"ETH\",\"FJI\",\"FIN\",\"FRA\",\"GAB\",\"GMB\",\"GEO\",\"DEU\",\"GHA\",\"GRC\",\"GRD\",\"GTM\",\"GIN\",\"GNB\",\"GUY\",\"HTI\",\"HND\",\"HUN\",\"ISL\",\"IND\",\"IDN\",\"IRN\",\"IRQ\",\"IRL\",\"ISR\",\"ITA\",\"CIV\",\"JAM\",\"JPN\",\"JOR\",\"KAZ\",\"KEN\",\"KIR\",\"KWT\",\"KGZ\",\"LAO\",\"LVA\",\"LBN\",\"LSO\",\"LBR\",\"LBY\",\"LIE\",\"LTU\",\"LUX\",\"MDG\",\"MWI\",\"MYS\",\"MDV\",\"MLI\",\"MLT\",\"MHL\",\"MRT\",\"MUS\",\"MEX\",\"FSM\",\"MDA\",\"MCO\",\"MNG\",\"MNE\",\"MAR\",\"MOZ\",\"MMR\",\"NAM\",\"NRU\",\"NPL\",\"NLD\",\"NZL\",\"NIC\",\"NER\",\"NGA\",\"PRK\",\"MKD\",\"NOR\",\"OMN\",\"PAK\",\"PLW\",\"PAN\",\"PNG\",\"PRY\",\"PER\",\"PHL\",\"POL\",\"PRT\",\"QAT\",\"COG\",\"ROU\",\"RUS\",\"RWA\",\"KNA\",\"LCA\",\"VCT\",\"WSM\",\"SMR\",\"STP\",\"SAU\",\"SEN\",\"SRB\",\"SYC\",\"SLE\",\"SGP\",\"SVK\",\"SVN\",\"SLB\",\"SOM\",\"ZAF\",\"KOR\",\"SSD\",\"ESP\",\"LKA\",\"SDN\",\"SUR\",\"SWE\",\"CHE\",\"SYR\",\"TJK\",\"TZA\",\"THA\",\"TLS\",\"TGO\",\"TON\",\"TTO\",\"TUN\",\"TUR\",\"TKM\",\"TUV\",\"UGA\",\"UKR\",\"ARE\",\"GBR\",\"USA\",\"URY\",\"UZB\",\"VUT\",\"VEN\",\"VNM\",\"YEM\",\"ZMB\",\"ZWE\"],\"name\":\"\",\"z\":[2.613423683915972,0.38731860598626433,2.295443349016635,2.7113295078633692,3.47306322914982,0.7215465906259322,1.2509455601843689,0.17837384151626612,1.4168557610062305,0.3471916947657361,1.2513998715152352,1.6050757535794657,3.7002014012919915,1.8045606662919544,0.2969188280553148,0.07491538954875754,0.3679766029363263,2.3533279548309194,2.8975994682483908,1.8678991044775328,1.9034054201566564,-0.3177911299837355,2.9086779979776933,1.557976162614061,2.362282792194925,-0.4518846911496399,2.7216884663830987,2.539941678034263,1.7773090325659213,2.8566480046326337,1.1303131134611233,1.404094833255476,1.9275042538371645,3.075974580479013,1.338201568781372,1.0636151047457743,1.7630883485491688,2.4116339889558525,1.9940529769671533,-0.20859915067817925,0.45172473360501897,1.2955607621893073,0.1324998681028644,0.34295333383196347,4.01984757833358,0.10441329869312899,1.7845492330681445,3.10875206424992,2.079734191172955,2.2565083438912614,1.082911706941414,3.253247114747837,2.0649335435760197,-0.05140952246199815,1.9381634649906276,2.871444288019398,1.0954373784256344,0.35569716741854496,0.47455756548511197,2.7019902656860717,3.189707046325263,-0.47664366125116375,0.1208580346791388,2.5888358046686655,0.3757584602455344,0.4602380461920186,2.3059114969865346,2.3120181902667403,2.4711986354921445,0.26360109311287516,1.7580425205400818,2.57395254354964,-0.06598608636296799,1.1622719607651932,1.8103349152284398,1.6904293221459588,2.2075442837840242,2.9501061118685445,1.0369617752417515,2.2052031021911,0.19593248282161468,3.198844729048189,0.8095317620990583,0.3119654542722783,3.8822132683080657,0.8854263748101054,3.0246262565971183,1.601687938037899,3.265684419004633,1.5262219177825775,2.009873940026652,-0.49655764711585837,1.6187856843855375,1.5742414362992951,2.506549985496198,2.4764428979677344,1.205593485113643,-0.29704989078120914,1.2505689279244336,2.916916185718166,2.895529667672303,2.3183231372028823,2.8216266721544425,2.5327563861779145,1.0150629416371126,1.0644588789139542,2.807797871411677,0.8655450448015856,1.8052477768921271,1.2778748174044896,-0.24131094061830005,0.7861927862883533,1.8743676364085582,0.3230105091601043,1.7400511391102658,2.6616571177492165,1.3279602400602775,2.3827252614371686,1.2432598077424695,1.7330264548820251,0.5747377451043922,1.1754109596290307,2.0290816471800532,3.372878815700231,2.6683337003317043,1.068982285733533,0.45102720327447887,0.6522093315209476,3.7619868994643646,2.6906263769921113,0.8939649256526572,2.0738138081859203,2.7384428898526547,2.0102532998212075,1.7859898978539013,2.191277951906323,0.3942106776081644,0.3233514394705539,6.200920717080138,2.832644290192232,-0.02558680106712341,0.2050271713389895,2.458452910040032,0.11175162280467887,1.0760553870900136,0.10438243333077413,0.8558622674056604,1.1928143907924627,2.0893630264496865,3.4932999635471695,2.6842601030285795,0.007426362756057792,1.312291682682032,2.197833314593667,2.067437148269047,0.4265804045907373,0.37902143867607485,2.793780584643457,3.0331108812785335,1.9121467068882403,0.8950354824451168,2.301621744999127,0.6593196186831518,1.0955596980648963,2.7727526947152414,0.9401568536453908,0.526700778987732,0.6684693439670264,2.439131366854097,2.337615370449142,3.066479219203666,1.3449887553882878,1.714901921619183,2.7150563834253294,0.4076390286836151,0.8441624186504848,1.7365933620997032,1.6988286061138114,2.082907901924913,1.288217923440449,2.9694463851181796,-0.33534616797961103,6.870866848555579,0.3721810987330265,1.0126805074097023,0.3936971962678948,2.0570240916413907,2.5769480366848674,1.7717074144827816,1.6498041955776088,3.1130147455795676,3.0103293633656714,2.222814880832824],\"type\":\"choropleth\"}],                        {\"template\":{\"data\":{\"histogram2dcontour\":[{\"type\":\"histogram2dcontour\",\"colorbar\":{\"outlinewidth\":0,\"ticks\":\"\"},\"colorscale\":[[0.0,\"#0d0887\"],[0.1111111111111111,\"#46039f\"],[0.2222222222222222,\"#7201a8\"],[0.3333333333333333,\"#9c179e\"],[0.4444444444444444,\"#bd3786\"],[0.5555555555555556,\"#d8576b\"],[0.6666666666666666,\"#ed7953\"],[0.7777777777777778,\"#fb9f3a\"],[0.8888888888888888,\"#fdca26\"],[1.0,\"#f0f921\"]]}],\"choropleth\":[{\"type\":\"choropleth\",\"colorbar\":{\"outlinewidth\":0,\"ticks\":\"\"}}],\"histogram2d\":[{\"type\":\"histogram2d\",\"colorbar\":{\"outlinewidth\":0,\"ticks\":\"\"},\"colorscale\":[[0.0,\"#0d0887\"],[0.1111111111111111,\"#46039f\"],[0.2222222222222222,\"#7201a8\"],[0.3333333333333333,\"#9c179e\"],[0.4444444444444444,\"#bd3786\"],[0.5555555555555556,\"#d8576b\"],[0.6666666666666666,\"#ed7953\"],[0.7777777777777778,\"#fb9f3a\"],[0.8888888888888888,\"#fdca26\"],[1.0,\"#f0f921\"]]}],\"heatmap\":[{\"type\":\"heatmap\",\"colorbar\":{\"outlinewidth\":0,\"ticks\":\"\"},\"colorscale\":[[0.0,\"#0d0887\"],[0.1111111111111111,\"#46039f\"],[0.2222222222222222,\"#7201a8\"],[0.3333333333333333,\"#9c179e\"],[0.4444444444444444,\"#bd3786\"],[0.5555555555555556,\"#d8576b\"],[0.6666666666666666,\"#ed7953\"],[0.7777777777777778,\"#fb9f3a\"],[0.8888888888888888,\"#fdca26\"],[1.0,\"#f0f921\"]]}],\"heatmapgl\":[{\"type\":\"heatmapgl\",\"colorbar\":{\"outlinewidth\":0,\"ticks\":\"\"},\"colorscale\":[[0.0,\"#0d0887\"],[0.1111111111111111,\"#46039f\"],[0.2222222222222222,\"#7201a8\"],[0.3333333333333333,\"#9c179e\"],[0.4444444444444444,\"#bd3786\"],[0.5555555555555556,\"#d8576b\"],[0.6666666666666666,\"#ed7953\"],[0.7777777777777778,\"#fb9f3a\"],[0.8888888888888888,\"#fdca26\"],[1.0,\"#f0f921\"]]}],\"contourcarpet\":[{\"type\":\"contourcarpet\",\"colorbar\":{\"outlinewidth\":0,\"ticks\":\"\"}}],\"contour\":[{\"type\":\"contour\",\"colorbar\":{\"outlinewidth\":0,\"ticks\":\"\"},\"colorscale\":[[0.0,\"#0d0887\"],[0.1111111111111111,\"#46039f\"],[0.2222222222222222,\"#7201a8\"],[0.3333333333333333,\"#9c179e\"],[0.4444444444444444,\"#bd3786\"],[0.5555555555555556,\"#d8576b\"],[0.6666666666666666,\"#ed7953\"],[0.7777777777777778,\"#fb9f3a\"],[0.8888888888888888,\"#fdca26\"],[1.0,\"#f0f921\"]]}],\"surface\":[{\"type\":\"surface\",\"colorbar\":{\"outlinewidth\":0,\"ticks\":\"\"},\"colorscale\":[[0.0,\"#0d0887\"],[0.1111111111111111,\"#46039f\"],[0.2222222222222222,\"#7201a8\"],[0.3333333333333333,\"#9c179e\"],[0.4444444444444444,\"#bd3786\"],[0.5555555555555556,\"#d8576b\"],[0.6666666666666666,\"#ed7953\"],[0.7777777777777778,\"#fb9f3a\"],[0.8888888888888888,\"#fdca26\"],[1.0,\"#f0f921\"]]}],\"mesh3d\":[{\"type\":\"mesh3d\",\"colorbar\":{\"outlinewidth\":0,\"ticks\":\"\"}}],\"scatter\":[{\"fillpattern\":{\"fillmode\":\"overlay\",\"size\":10,\"solidity\":0.2},\"type\":\"scatter\"}],\"parcoords\":[{\"type\":\"parcoords\",\"line\":{\"colorbar\":{\"outlinewidth\":0,\"ticks\":\"\"}}}],\"scatterpolargl\":[{\"type\":\"scatterpolargl\",\"marker\":{\"colorbar\":{\"outlinewidth\":0,\"ticks\":\"\"}}}],\"bar\":[{\"error_x\":{\"color\":\"#2a3f5f\"},\"error_y\":{\"color\":\"#2a3f5f\"},\"marker\":{\"line\":{\"color\":\"#E5ECF6\",\"width\":0.5},\"pattern\":{\"fillmode\":\"overlay\",\"size\":10,\"solidity\":0.2}},\"type\":\"bar\"}],\"scattergeo\":[{\"type\":\"scattergeo\",\"marker\":{\"colorbar\":{\"outlinewidth\":0,\"ticks\":\"\"}}}],\"scatterpolar\":[{\"type\":\"scatterpolar\",\"marker\":{\"colorbar\":{\"outlinewidth\":0,\"ticks\":\"\"}}}],\"histogram\":[{\"marker\":{\"pattern\":{\"fillmode\":\"overlay\",\"size\":10,\"solidity\":0.2}},\"type\":\"histogram\"}],\"scattergl\":[{\"type\":\"scattergl\",\"marker\":{\"colorbar\":{\"outlinewidth\":0,\"ticks\":\"\"}}}],\"scatter3d\":[{\"type\":\"scatter3d\",\"line\":{\"colorbar\":{\"outlinewidth\":0,\"ticks\":\"\"}},\"marker\":{\"colorbar\":{\"outlinewidth\":0,\"ticks\":\"\"}}}],\"scattermapbox\":[{\"type\":\"scattermapbox\",\"marker\":{\"colorbar\":{\"outlinewidth\":0,\"ticks\":\"\"}}}],\"scatterternary\":[{\"type\":\"scatterternary\",\"marker\":{\"colorbar\":{\"outlinewidth\":0,\"ticks\":\"\"}}}],\"scattercarpet\":[{\"type\":\"scattercarpet\",\"marker\":{\"colorbar\":{\"outlinewidth\":0,\"ticks\":\"\"}}}],\"carpet\":[{\"aaxis\":{\"endlinecolor\":\"#2a3f5f\",\"gridcolor\":\"white\",\"linecolor\":\"white\",\"minorgridcolor\":\"white\",\"startlinecolor\":\"#2a3f5f\"},\"baxis\":{\"endlinecolor\":\"#2a3f5f\",\"gridcolor\":\"white\",\"linecolor\":\"white\",\"minorgridcolor\":\"white\",\"startlinecolor\":\"#2a3f5f\"},\"type\":\"carpet\"}],\"table\":[{\"cells\":{\"fill\":{\"color\":\"#EBF0F8\"},\"line\":{\"color\":\"white\"}},\"header\":{\"fill\":{\"color\":\"#C8D4E3\"},\"line\":{\"color\":\"white\"}},\"type\":\"table\"}],\"barpolar\":[{\"marker\":{\"line\":{\"color\":\"#E5ECF6\",\"width\":0.5},\"pattern\":{\"fillmode\":\"overlay\",\"size\":10,\"solidity\":0.2}},\"type\":\"barpolar\"}],\"pie\":[{\"automargin\":true,\"type\":\"pie\"}]},\"layout\":{\"autotypenumbers\":\"strict\",\"colorway\":[\"#636efa\",\"#EF553B\",\"#00cc96\",\"#ab63fa\",\"#FFA15A\",\"#19d3f3\",\"#FF6692\",\"#B6E880\",\"#FF97FF\",\"#FECB52\"],\"font\":{\"color\":\"#2a3f5f\"},\"hovermode\":\"closest\",\"hoverlabel\":{\"align\":\"left\"},\"paper_bgcolor\":\"white\",\"plot_bgcolor\":\"#E5ECF6\",\"polar\":{\"bgcolor\":\"#E5ECF6\",\"angularaxis\":{\"gridcolor\":\"white\",\"linecolor\":\"white\",\"ticks\":\"\"},\"radialaxis\":{\"gridcolor\":\"white\",\"linecolor\":\"white\",\"ticks\":\"\"}},\"ternary\":{\"bgcolor\":\"#E5ECF6\",\"aaxis\":{\"gridcolor\":\"white\",\"linecolor\":\"white\",\"ticks\":\"\"},\"baxis\":{\"gridcolor\":\"white\",\"linecolor\":\"white\",\"ticks\":\"\"},\"caxis\":{\"gridcolor\":\"white\",\"linecolor\":\"white\",\"ticks\":\"\"}},\"coloraxis\":{\"colorbar\":{\"outlinewidth\":0,\"ticks\":\"\"}},\"colorscale\":{\"sequential\":[[0.0,\"#0d0887\"],[0.1111111111111111,\"#46039f\"],[0.2222222222222222,\"#7201a8\"],[0.3333333333333333,\"#9c179e\"],[0.4444444444444444,\"#bd3786\"],[0.5555555555555556,\"#d8576b\"],[0.6666666666666666,\"#ed7953\"],[0.7777777777777778,\"#fb9f3a\"],[0.8888888888888888,\"#fdca26\"],[1.0,\"#f0f921\"]],\"sequentialminus\":[[0.0,\"#0d0887\"],[0.1111111111111111,\"#46039f\"],[0.2222222222222222,\"#7201a8\"],[0.3333333333333333,\"#9c179e\"],[0.4444444444444444,\"#bd3786\"],[0.5555555555555556,\"#d8576b\"],[0.6666666666666666,\"#ed7953\"],[0.7777777777777778,\"#fb9f3a\"],[0.8888888888888888,\"#fdca26\"],[1.0,\"#f0f921\"]],\"diverging\":[[0,\"#8e0152\"],[0.1,\"#c51b7d\"],[0.2,\"#de77ae\"],[0.3,\"#f1b6da\"],[0.4,\"#fde0ef\"],[0.5,\"#f7f7f7\"],[0.6,\"#e6f5d0\"],[0.7,\"#b8e186\"],[0.8,\"#7fbc41\"],[0.9,\"#4d9221\"],[1,\"#276419\"]]},\"xaxis\":{\"gridcolor\":\"white\",\"linecolor\":\"white\",\"ticks\":\"\",\"title\":{\"standoff\":15},\"zerolinecolor\":\"white\",\"automargin\":true,\"zerolinewidth\":2},\"yaxis\":{\"gridcolor\":\"white\",\"linecolor\":\"white\",\"ticks\":\"\",\"title\":{\"standoff\":15},\"zerolinecolor\":\"white\",\"automargin\":true,\"zerolinewidth\":2},\"scene\":{\"xaxis\":{\"backgroundcolor\":\"#E5ECF6\",\"gridcolor\":\"white\",\"linecolor\":\"white\",\"showbackground\":true,\"ticks\":\"\",\"zerolinecolor\":\"white\",\"gridwidth\":2},\"yaxis\":{\"backgroundcolor\":\"#E5ECF6\",\"gridcolor\":\"white\",\"linecolor\":\"white\",\"showbackground\":true,\"ticks\":\"\",\"zerolinecolor\":\"white\",\"gridwidth\":2},\"zaxis\":{\"backgroundcolor\":\"#E5ECF6\",\"gridcolor\":\"white\",\"linecolor\":\"white\",\"showbackground\":true,\"ticks\":\"\",\"zerolinecolor\":\"white\",\"gridwidth\":2}},\"shapedefaults\":{\"line\":{\"color\":\"#2a3f5f\"}},\"annotationdefaults\":{\"arrowcolor\":\"#2a3f5f\",\"arrowhead\":0,\"arrowwidth\":1},\"geo\":{\"bgcolor\":\"white\",\"landcolor\":\"#E5ECF6\",\"subunitcolor\":\"white\",\"showland\":true,\"showlakes\":true,\"lakecolor\":\"white\"},\"title\":{\"x\":0.05},\"mapbox\":{\"style\":\"light\"}}},\"geo\":{\"domain\":{\"x\":[0.0,1.0],\"y\":[0.0,1.0]},\"center\":{}},\"coloraxis\":{\"colorbar\":{\"title\":{\"text\":\"Growth Rate per year percentage\"}},\"colorscale\":[[0.0,\"rgb(103,0,31)\"],[0.1,\"rgb(178,24,43)\"],[0.2,\"rgb(214,96,77)\"],[0.3,\"rgb(244,165,130)\"],[0.4,\"rgb(253,219,199)\"],[0.5,\"rgb(247,247,247)\"],[0.6,\"rgb(209,229,240)\"],[0.7,\"rgb(146,197,222)\"],[0.8,\"rgb(67,147,195)\"],[0.9,\"rgb(33,102,172)\"],[1.0,\"rgb(5,48,97)\"]]},\"legend\":{\"tracegroupgap\":0},\"title\":{\"text\":\"Growth Rate from 1970 to 2022\"}},                        {\"responsive\": true}                    ).then(function(){\n",
       "                            \n",
       "var gd = document.getElementById('472f31b8-2369-407d-89c7-c8fd3d11b9fc');\n",
       "var x = new MutationObserver(function (mutations, observer) {{\n",
       "        var display = window.getComputedStyle(gd).display;\n",
       "        if (!display || display === 'none') {{\n",
       "            console.log([gd, 'removed!']);\n",
       "            Plotly.purge(gd);\n",
       "            observer.disconnect();\n",
       "        }}\n",
       "}});\n",
       "\n",
       "// Listen for the removal of the full notebook cells\n",
       "var notebookContainer = gd.closest('#notebook-container');\n",
       "if (notebookContainer) {{\n",
       "    x.observe(notebookContainer, {childList: true});\n",
       "}}\n",
       "\n",
       "// Listen for the clearing of the current output cell\n",
       "var outputEl = gd.closest('.output');\n",
       "if (outputEl) {{\n",
       "    x.observe(outputEl, {childList: true});\n",
       "}}\n",
       "\n",
       "                        })                };                });            </script>        </div>"
      ]
     },
     "metadata": {},
     "output_type": "display_data"
    }
   ],
   "source": [
    "#Show the population growth from 1970 to 2022\n",
    "fig = px.choropleth(growth, locations=\"iso_map\",\n",
    "                    color=\"growth_rate_70_22\", \n",
    "                    hover_name=\"country\",\n",
    "                    color_continuous_scale=px.colors.sequential.RdBu,\n",
    "                    labels = {'growth_rate_70_22': 'Growth Rate per year percentage',\n",
    "                              'iso_map': 'Country'}, \n",
    "                    title=\"Growth Rate from 1970 to 2022\")\n",
    "\n",
    "fig.show()\n"
   ]
  },
  {
   "cell_type": "code",
   "execution_count": 124,
   "id": "a2d2abdc",
   "metadata": {},
   "outputs": [
    {
     "name": "stdout",
     "output_type": "stream",
     "text": [
      "Poverty dataset has outlier in Qatar\n",
      "Poverty dataset has outlier in United Arab Emirates\n",
      "--------------------------------------------\n",
      "Education dataset has outlier in Qatar\n",
      "Education dataset has outlier in United Arab Emirates\n",
      "--------------------------------------------\n",
      "Safety dataset has outlier in Marshall Islands\n",
      "--------------------------------------------\n"
     ]
    }
   ],
   "source": [
    "\n",
    "# Set time periods for the forthcoming datasets\n",
    "pov_period = growth['growth_rate_00_15']\n",
    "edu_period = growth['growth_rate_70_15']\n",
    "saf_period = growth['growth_rate_10_22']\n",
    "\n",
    "# Calculate the outliers for each dataset time period\n",
    "def find_outliers(period):\n",
    "    quartiles = period.quantile([0.25, 0.50, 0.75])\n",
    "    firstquart = quartiles[0.25]\n",
    "    thirdquart = quartiles[0.75]\n",
    "    IQR = round(thirdquart - firstquart, 2)\n",
    "    lowbound = round(firstquart - (1.5*IQR), 2)\n",
    "    upbound = round(thirdquart + (1.5*IQR), 2)\n",
    "    outliers = period.loc[(period < lowbound) | (period > upbound)].round(2)\n",
    "    return outliers\n",
    "    \n",
    "pov_outliers = find_outliers(pov_period)\n",
    "edu_outliers = find_outliers(edu_period)\n",
    "saf_outliers = find_outliers(saf_period)\n",
    "\n",
    "#Print the outliers\n",
    "def print_outliers(outliers_set, dataset):\n",
    "    if len(outliers_set) > 0:\n",
    "        for x in range(len(outliers_set)):\n",
    "            print(f\"{dataset} dataset has outlier in {growth.iloc[outliers_set.index[x]]['country']}\")\n",
    "        print('--------------------------------------------')\n",
    "\n",
    "print_outliers(pov_outliers, 'Poverty')\n",
    "print_outliers(edu_outliers, 'Education')\n",
    "print_outliers(saf_outliers, 'Safety')"
   ]
  },
  {
   "cell_type": "code",
   "execution_count": 127,
   "id": "0b423668",
   "metadata": {},
   "outputs": [
    {
     "data": {
      "image/png": "[encoded data removed]",
      "text/plain": [
       "<Figure size 640x480 with 1 Axes>"
      ]
     },
     "metadata": {},
     "output_type": "display_data"
    }
   ],
   "source": [
    "#Create box plots to show outliers\n",
    "dataset_list = ['Poverty', 'Education', 'Safety']\n",
    "plt.boxplot([pov_period, edu_period, saf_period], flierprops = dict(marker = \"s\", markerfacecolor = \"red\"), labels=dataset_list)\n",
    "plt.ylabel('Population growth for dataset range')\n",
    "plt.savefig('Visuals/outliers.png')\n",
    "plt.show()\n"
   ]
  },
  {
   "cell_type": "markdown",
   "id": "55808c5c",
   "metadata": {},
   "source": [
    "# Safety\n"
   ]
  },
  {
   "cell_type": "code",
   "execution_count": 229,
   "id": "b4baf471",
   "metadata": {},
   "outputs": [
    {
     "data": {
      "application/vnd.plotly.v1+json": {
       "config": {
        "plotlyServerURL": "https://plot.ly"
       },
       "data": [
        {
         "coloraxis": "coloraxis",
         "geo": "geo",
         "hovertemplate": "<b>%{hovertext}</b><br><br>Country=%{location}<br>Change in safety rating=%{z}<extra></extra>",
         "hovertext": [
          "Afghanistan",
          "Albania",
          "Algeria",
          "Angola",
          "Argentina",
          "Armenia",
          "Australia",
          "Austria",
          "Azerbaijan",
          "Bahrain",
          "Bangladesh",
          "Belarus",
          "Belgium",
          "Benin",
          "Bhutan",
          "Bolivia",
          "Bosnia and Herzegovina",
          "Botswana",
          "Brazil",
          "Bulgaria",
          "Burkina Faso",
          "Burundi",
          "Cambodia",
          "Cameroon",
          "Canada",
          "Central African Republic",
          "Chad",
          "Chile",
          "China",
          "Colombia",
          "Costa Rica",
          "Cote d' Ivoire",
          "Croatia",
          "Cuba",
          "Cyprus",
          "Czech Republic",
          "Democratic Republic of the Congo",
          "Denmark",
          "Djibouti",
          "Dominican Republic",
          "Ecuador",
          "Egypt",
          "El Salvador",
          "Equatorial Guinea",
          "Eritrea",
          "Estonia",
          "Eswatini",
          "Ethiopia",
          "Finland",
          "France",
          "Gabon",
          "Georgia",
          "Germany",
          "Ghana",
          "Greece",
          "Guatemala",
          "Guinea",
          "Guinea-Bissau",
          "Guyana",
          "Haiti",
          "Honduras",
          "Hungary",
          "Iceland",
          "India",
          "Indonesia",
          "Iran",
          "Iraq",
          "Ireland",
          "Israel",
          "Italy",
          "Jamaica",
          "Japan",
          "Jordan",
          "Kazakhstan",
          "Kenya",
          "Kosovo",
          "Kuwait",
          "Kyrgyz Republic",
          "Laos",
          "Latvia",
          "Lebanon",
          "Lesotho",
          "Liberia",
          "Libya",
          "Lithuania",
          "Madagascar",
          "Malawi",
          "Malaysia",
          "Mali",
          "Mauritania",
          "Mauritius",
          "Mexico",
          "Moldova",
          "Mongolia",
          "Montenegro",
          "Morocco",
          "Mozambique",
          "Myanmar",
          "Namibia",
          "Nepal",
          "Netherlands",
          "New Zealand",
          "Nicaragua",
          "Niger",
          "Nigeria",
          "North Korea",
          "North Macedonia",
          "Norway",
          "Oman",
          "Pakistan",
          "Panama",
          "Papua New Guinea",
          "Paraguay",
          "Peru",
          "Philippines",
          "Poland",
          "Portugal",
          "Qatar",
          "Republic of the Congo",
          "Romania",
          "Russia",
          "Rwanda",
          "Saudi Arabia",
          "Senegal",
          "Serbia",
          "Sierra Leone",
          "Singapore",
          "Slovakia",
          "Slovenia",
          "Somalia",
          "South Africa",
          "South Korea",
          "Spain",
          "Sri Lanka",
          "Sudan",
          "Sweden",
          "Switzerland",
          "Syria",
          "Taiwan",
          "Tajikistan",
          "Tanzania",
          "Thailand",
          "The Gambia",
          "Timor-Leste",
          "Togo",
          "Trinidad and Tobago",
          "Tunisia",
          "Turkey",
          "Turkmenistan",
          "Uganda",
          "Ukraine",
          "United Arab Emirates",
          "United Kingdom",
          "United States of America",
          "Uruguay",
          "Uzbekistan",
          "Venezuela",
          "Vietnam",
          "Yemen",
          "Zambia",
          "Zimbabwe"
         ],
         "locations": [
          "AFG",
          "ALB",
          "DZA",
          "AGO",
          "ARG",
          "ARM",
          "AUS",
          "AUT",
          "AZE",
          "BHR",
          "BGD",
          "BLR",
          "BEL",
          "BEN",
          "BTN",
          "BOL",
          "BIH",
          "BWA",
          "BRA",
          "BGR",
          "BFA",
          "BDI",
          "KHM",
          "CMR",
          "CAN",
          "CAF",
          "TCD",
          "CHL",
          "CHN",
          "COL",
          "CRI",
          "CIV",
          "HRV",
          "CUB",
          "CYP",
          "CZE",
          "COD",
          "DNK",
          "DJI",
          "DOM",
          "ECU",
          "EGY",
          "SLV",
          "GNQ",
          "ERI",
          "EST",
          "SWZ",
          "ETH",
          "FIN",
          "FRA",
          "GAB",
          "GEO",
          "DEU",
          "GHA",
          "GRC",
          "GTM",
          "GIN",
          "GNB",
          "GUY",
          "HTI",
          "HND",
          "HUN",
          "ISL",
          "IND",
          "IDN",
          "IRN",
          "IRQ",
          "IRL",
          "ISR",
          "ITA",
          "JAM",
          "JPN",
          "JOR",
          "KAZ",
          "KEN",
          "KSV",
          "KWT",
          "KGZ",
          "LAO",
          "LVA",
          "LBN",
          "LSO",
          "LBR",
          "LBY",
          "LTU",
          "MDG",
          "MWI",
          "MYS",
          "MLI",
          "MRT",
          "MUS",
          "MEX",
          "MDA",
          "MNG",
          "MNE",
          "MAR",
          "MOZ",
          "MMR",
          "NAM",
          "NPL",
          "NLD",
          "NZL",
          "NIC",
          "NER",
          "NGA",
          "PRK",
          "MKD",
          "NOR",
          "OMN",
          "PAK",
          "PAN",
          "PNG",
          "PRY",
          "PER",
          "PHL",
          "POL",
          "PRT",
          "QAT",
          "COG",
          "ROU",
          "RUS",
          "RWA",
          "SAU",
          "SEN",
          "SRB",
          "SLE",
          "SGP",
          "SVK",
          "SVN",
          "SOM",
          "ZAF",
          "KOR",
          "ESP",
          "LKA",
          "SDN",
          "SWE",
          "CHE",
          "SYR",
          "TWN",
          "TJK",
          "TZA",
          "THA",
          "GMB",
          "TLS",
          "TGO",
          "TTO",
          "TUN",
          "TUR",
          "TKM",
          "UGA",
          "UKR",
          "ARE",
          "GBR",
          "USA",
          "URY",
          "UZB",
          "VEN",
          "VNM",
          "YEM",
          "ZMB",
          "ZWE"
         ],
         "name": "",
         "type": "choropleth",
         "z": [
          0.5139999999999998,
          -0.009000000000000119,
          -0.18700000000000028,
          -0.0239999999999998,
          -0.03600000000000003,
          -0.2370000000000001,
          0.17799999999999994,
          -0.05699999999999994,
          0.09499999999999975,
          0.2729999999999999,
          -0.042999999999999705,
          0.11499999999999977,
          0.03699999999999992,
          0.03200000000000003,
          -0.46599999999999997,
          -0.050000000000000044,
          0.05800000000000005,
          0.03499999999999992,
          0.43500000000000005,
          -0.127,
          1.074,
          0.014000000000000234,
          -0.2390000000000001,
          0.6080000000000001,
          -0.1100000000000001,
          0.4099999999999997,
          -0.3169999999999997,
          0.119,
          -0.16600000000000037,
          -0.07699999999999996,
          0.07699999999999996,
          -0.018999999999999684,
          -0.18300000000000005,
          0.06700000000000017,
          -0.0029999999999998916,
          -0.09799999999999986,
          0.29000000000000004,
          -0.05600000000000005,
          0.20400000000000018,
          -0.08500000000000019,
          -0.20100000000000007,
          0.40000000000000013,
          0.10400000000000009,
          0.018999999999999906,
          0.04700000000000015,
          -0.06700000000000017,
          0.10699999999999998,
          0.39300000000000024,
          0.07000000000000006,
          0.10099999999999998,
          -0.06899999999999973,
          -0.9060000000000001,
          -0.14800000000000013,
          -0.07300000000000018,
          -0.15300000000000002,
          -0.01100000000000012,
          0.005999999999999783,
          -0.17799999999999994,
          -0.006999999999999673,
          0.18999999999999995,
          -0.07399999999999984,
          -0.07000000000000006,
          -0.026000000000000023,
          -0.001000000000000334,
          0.07699999999999996,
          0.22199999999999998,
          -0.2639999999999998,
          -0.14900000000000002,
          -0.31000000000000005,
          -0.07899999999999996,
          -0.009000000000000119,
          -0.06099999999999994,
          -0.03699999999999992,
          -0.07699999999999996,
          -0.24800000000000022,
          -0.04500000000000015,
          0.2140000000000002,
          -0.22299999999999986,
          0.06299999999999994,
          0.007000000000000117,
          0.04200000000000026,
          0.23699999999999988,
          -0.031999999999999806,
          0.907,
          0.040999999999999925,
          0.015000000000000124,
          0.08600000000000008,
          -0.18599999999999994,
          0.5979999999999999,
          -0.04999999999999982,
          -0.04400000000000004,
          0.27600000000000025,
          -0.0990000000000002,
          -0.20600000000000018,
          -0.19300000000000006,
          -0.006999999999999895,
          0.47299999999999986,
          0.24799999999999978,
          -0.14100000000000001,
          -0.15700000000000003,
          -0.03600000000000003,
          -0.04300000000000015,
          0.49,
          0.5379999999999998,
          0.266,
          0.007000000000000117,
          -0.14700000000000002,
          0.025000000000000133,
          0.17599999999999993,
          -0.31199999999999983,
          -0.0050000000000001155,
          0.07899999999999974,
          -0.028999999999999915,
          0.03000000000000025,
          0.03299999999999992,
          -0.09699999999999998,
          -0.1120000000000001,
          0.06699999999999995,
          0.08400000000000007,
          -0.015000000000000124,
          0.22100000000000009,
          -0.028999999999999915,
          0.020000000000000018,
          -0.20599999999999996,
          -0.14500000000000002,
          -0.03200000000000003,
          -0.16399999999999992,
          -0.04399999999999982,
          -0.030999999999999917,
          -0.17499999999999982,
          -0.0820000000000003,
          -0.02300000000000013,
          -0.1160000000000001,
          -0.669,
          -0.03399999999999981,
          0.1200000000000001,
          -0.1120000000000001,
          1.064,
          -0.09299999999999997,
          -0.1459999999999999,
          0.22299999999999986,
          -0.28100000000000014,
          -0.09999999999999987,
          -0.009000000000000119,
          0.17199999999999993,
          -0.07400000000000029,
          0.2390000000000001,
          0.28500000000000014,
          -0.0040000000000000036,
          -0.0019999999999997797,
          0.754,
          0.254,
          -0.11599999999999988,
          0.15399999999999991,
          0.08199999999999985,
          -0.17700000000000005,
          0.43400000000000016,
          -0.08400000000000007,
          0.8320000000000003,
          0.014000000000000012,
          -0.3820000000000001
         ]
        }
       ],
       "layout": {
        "coloraxis": {
         "colorbar": {
          "title": {
           "text": "Change in safety rating"
          }
         },
         "colorscale": [
          [
           0,
           "rgb(255,245,240)"
          ],
          [
           0.125,
           "rgb(254,224,210)"
          ],
          [
           0.25,
           "rgb(252,187,161)"
          ],
          [
           0.375,
           "rgb(252,146,114)"
          ],
          [
           0.5,
           "rgb(251,106,74)"
          ],
          [
           0.625,
           "rgb(239,59,44)"
          ],
          [
           0.75,
           "rgb(203,24,29)"
          ],
          [
           0.875,
           "rgb(165,15,21)"
          ],
          [
           1,
           "rgb(103,0,13)"
          ]
         ]
        },
        "geo": {
         "center": {},
         "domain": {
          "x": [
           0,
           1
          ],
          "y": [
           0,
           1
          ]
         }
        },
        "legend": {
         "tracegroupgap": 0
        },
        "template": {
         "data": {
          "bar": [
           {
            "error_x": {
             "color": "#2a3f5f"
            },
            "error_y": {
             "color": "#2a3f5f"
            },
            "marker": {
             "line": {
              "color": "#E5ECF6",
              "width": 0.5
             },
             "pattern": {
              "fillmode": "overlay",
              "size": 10,
              "solidity": 0.2
             }
            },
            "type": "bar"
           }
          ],
          "barpolar": [
           {
            "marker": {
             "line": {
              "color": "#E5ECF6",
              "width": 0.5
             },
             "pattern": {
              "fillmode": "overlay",
              "size": 10,
              "solidity": 0.2
             }
            },
            "type": "barpolar"
           }
          ],
          "carpet": [
           {
            "aaxis": {
             "endlinecolor": "#2a3f5f",
             "gridcolor": "white",
             "linecolor": "white",
             "minorgridcolor": "white",
             "startlinecolor": "#2a3f5f"
            },
            "baxis": {
             "endlinecolor": "#2a3f5f",
             "gridcolor": "white",
             "linecolor": "white",
             "minorgridcolor": "white",
             "startlinecolor": "#2a3f5f"
            },
            "type": "carpet"
           }
          ],
          "choropleth": [
           {
            "colorbar": {
             "outlinewidth": 0,
             "ticks": ""
            },
            "type": "choropleth"
           }
          ],
          "contour": [
           {
            "colorbar": {
             "outlinewidth": 0,
             "ticks": ""
            },
            "colorscale": [
             [
              0,
              "#0d0887"
             ],
             [
              0.1111111111111111,
              "#46039f"
             ],
             [
              0.2222222222222222,
              "#7201a8"
             ],
             [
              0.3333333333333333,
              "#9c179e"
             ],
             [
              0.4444444444444444,
              "#bd3786"
             ],
             [
              0.5555555555555556,
              "#d8576b"
             ],
             [
              0.6666666666666666,
              "#ed7953"
             ],
             [
              0.7777777777777778,
              "#fb9f3a"
             ],
             [
              0.8888888888888888,
              "#fdca26"
             ],
             [
              1,
              "#f0f921"
             ]
            ],
            "type": "contour"
           }
          ],
          "contourcarpet": [
           {
            "colorbar": {
             "outlinewidth": 0,
             "ticks": ""
            },
            "type": "contourcarpet"
           }
          ],
          "heatmap": [
           {
            "colorbar": {
             "outlinewidth": 0,
             "ticks": ""
            },
            "colorscale": [
             [
              0,
              "#0d0887"
             ],
             [
              0.1111111111111111,
              "#46039f"
             ],
             [
              0.2222222222222222,
              "#7201a8"
             ],
             [
              0.3333333333333333,
              "#9c179e"
             ],
             [
              0.4444444444444444,
              "#bd3786"
             ],
             [
              0.5555555555555556,
              "#d8576b"
             ],
             [
              0.6666666666666666,
              "#ed7953"
             ],
             [
              0.7777777777777778,
              "#fb9f3a"
             ],
             [
              0.8888888888888888,
              "#fdca26"
             ],
             [
              1,
              "#f0f921"
             ]
            ],
            "type": "heatmap"
           }
          ],
          "heatmapgl": [
           {
            "colorbar": {
             "outlinewidth": 0,
             "ticks": ""
            },
            "colorscale": [
             [
              0,
              "#0d0887"
             ],
             [
              0.1111111111111111,
              "#46039f"
             ],
             [
              0.2222222222222222,
              "#7201a8"
             ],
             [
              0.3333333333333333,
              "#9c179e"
             ],
             [
              0.4444444444444444,
              "#bd3786"
             ],
             [
              0.5555555555555556,
              "#d8576b"
             ],
             [
              0.6666666666666666,
              "#ed7953"
             ],
             [
              0.7777777777777778,
              "#fb9f3a"
             ],
             [
              0.8888888888888888,
              "#fdca26"
             ],
             [
              1,
              "#f0f921"
             ]
            ],
            "type": "heatmapgl"
           }
          ],
          "histogram": [
           {
            "marker": {
             "pattern": {
              "fillmode": "overlay",
              "size": 10,
              "solidity": 0.2
             }
            },
            "type": "histogram"
           }
          ],
          "histogram2d": [
           {
            "colorbar": {
             "outlinewidth": 0,
             "ticks": ""
            },
            "colorscale": [
             [
              0,
              "#0d0887"
             ],
             [
              0.1111111111111111,
              "#46039f"
             ],
             [
              0.2222222222222222,
              "#7201a8"
             ],
             [
              0.3333333333333333,
              "#9c179e"
             ],
             [
              0.4444444444444444,
              "#bd3786"
             ],
             [
              0.5555555555555556,
              "#d8576b"
             ],
             [
              0.6666666666666666,
              "#ed7953"
             ],
             [
              0.7777777777777778,
              "#fb9f3a"
             ],
             [
              0.8888888888888888,
              "#fdca26"
             ],
             [
              1,
              "#f0f921"
             ]
            ],
            "type": "histogram2d"
           }
          ],
          "histogram2dcontour": [
           {
            "colorbar": {
             "outlinewidth": 0,
             "ticks": ""
            },
            "colorscale": [
             [
              0,
              "#0d0887"
             ],
             [
              0.1111111111111111,
              "#46039f"
             ],
             [
              0.2222222222222222,
              "#7201a8"
             ],
             [
              0.3333333333333333,
              "#9c179e"
             ],
             [
              0.4444444444444444,
              "#bd3786"
             ],
             [
              0.5555555555555556,
              "#d8576b"
             ],
             [
              0.6666666666666666,
              "#ed7953"
             ],
             [
              0.7777777777777778,
              "#fb9f3a"
             ],
             [
              0.8888888888888888,
              "#fdca26"
             ],
             [
              1,
              "#f0f921"
             ]
            ],
            "type": "histogram2dcontour"
           }
          ],
          "mesh3d": [
           {
            "colorbar": {
             "outlinewidth": 0,
             "ticks": ""
            },
            "type": "mesh3d"
           }
          ],
          "parcoords": [
           {
            "line": {
             "colorbar": {
              "outlinewidth": 0,
              "ticks": ""
             }
            },
            "type": "parcoords"
           }
          ],
          "pie": [
           {
            "automargin": true,
            "type": "pie"
           }
          ],
          "scatter": [
           {
            "fillpattern": {
             "fillmode": "overlay",
             "size": 10,
             "solidity": 0.2
            },
            "type": "scatter"
           }
          ],
          "scatter3d": [
           {
            "line": {
             "colorbar": {
              "outlinewidth": 0,
              "ticks": ""
             }
            },
            "marker": {
             "colorbar": {
              "outlinewidth": 0,
              "ticks": ""
             }
            },
            "type": "scatter3d"
           }
          ],
          "scattercarpet": [
           {
            "marker": {
             "colorbar": {
              "outlinewidth": 0,
              "ticks": ""
             }
            },
            "type": "scattercarpet"
           }
          ],
          "scattergeo": [
           {
            "marker": {
             "colorbar": {
              "outlinewidth": 0,
              "ticks": ""
             }
            },
            "type": "scattergeo"
           }
          ],
          "scattergl": [
           {
            "marker": {
             "colorbar": {
              "outlinewidth": 0,
              "ticks": ""
             }
            },
            "type": "scattergl"
           }
          ],
          "scattermapbox": [
           {
            "marker": {
             "colorbar": {
              "outlinewidth": 0,
              "ticks": ""
             }
            },
            "type": "scattermapbox"
           }
          ],
          "scatterpolar": [
           {
            "marker": {
             "colorbar": {
              "outlinewidth": 0,
              "ticks": ""
             }
            },
            "type": "scatterpolar"
           }
          ],
          "scatterpolargl": [
           {
            "marker": {
             "colorbar": {
              "outlinewidth": 0,
              "ticks": ""
             }
            },
            "type": "scatterpolargl"
           }
          ],
          "scatterternary": [
           {
            "marker": {
             "colorbar": {
              "outlinewidth": 0,
              "ticks": ""
             }
            },
            "type": "scatterternary"
           }
          ],
          "surface": [
           {
            "colorbar": {
             "outlinewidth": 0,
             "ticks": ""
            },
            "colorscale": [
             [
              0,
              "#0d0887"
             ],
             [
              0.1111111111111111,
              "#46039f"
             ],
             [
              0.2222222222222222,
              "#7201a8"
             ],
             [
              0.3333333333333333,
              "#9c179e"
             ],
             [
              0.4444444444444444,
              "#bd3786"
             ],
             [
              0.5555555555555556,
              "#d8576b"
             ],
             [
              0.6666666666666666,
              "#ed7953"
             ],
             [
              0.7777777777777778,
              "#fb9f3a"
             ],
             [
              0.8888888888888888,
              "#fdca26"
             ],
             [
              1,
              "#f0f921"
             ]
            ],
            "type": "surface"
           }
          ],
          "table": [
           {
            "cells": {
             "fill": {
              "color": "#EBF0F8"
             },
             "line": {
              "color": "white"
             }
            },
            "header": {
             "fill": {
              "color": "#C8D4E3"
             },
             "line": {
              "color": "white"
             }
            },
            "type": "table"
           }
          ]
         },
         "layout": {
          "annotationdefaults": {
           "arrowcolor": "#2a3f5f",
           "arrowhead": 0,
           "arrowwidth": 1
          },
          "autotypenumbers": "strict",
          "coloraxis": {
           "colorbar": {
            "outlinewidth": 0,
            "ticks": ""
           }
          },
          "colorscale": {
           "diverging": [
            [
             0,
             "#8e0152"
            ],
            [
             0.1,
             "#c51b7d"
            ],
            [
             0.2,
             "#de77ae"
            ],
            [
             0.3,
             "#f1b6da"
            ],
            [
             0.4,
             "#fde0ef"
            ],
            [
             0.5,
             "#f7f7f7"
            ],
            [
             0.6,
             "#e6f5d0"
            ],
            [
             0.7,
             "#b8e186"
            ],
            [
             0.8,
             "#7fbc41"
            ],
            [
             0.9,
             "#4d9221"
            ],
            [
             1,
             "#276419"
            ]
           ],
           "sequential": [
            [
             0,
             "#0d0887"
            ],
            [
             0.1111111111111111,
             "#46039f"
            ],
            [
             0.2222222222222222,
             "#7201a8"
            ],
            [
             0.3333333333333333,
             "#9c179e"
            ],
            [
             0.4444444444444444,
             "#bd3786"
            ],
            [
             0.5555555555555556,
             "#d8576b"
            ],
            [
             0.6666666666666666,
             "#ed7953"
            ],
            [
             0.7777777777777778,
             "#fb9f3a"
            ],
            [
             0.8888888888888888,
             "#fdca26"
            ],
            [
             1,
             "#f0f921"
            ]
           ],
           "sequentialminus": [
            [
             0,
             "#0d0887"
            ],
            [
             0.1111111111111111,
             "#46039f"
            ],
            [
             0.2222222222222222,
             "#7201a8"
            ],
            [
             0.3333333333333333,
             "#9c179e"
            ],
            [
             0.4444444444444444,
             "#bd3786"
            ],
            [
             0.5555555555555556,
             "#d8576b"
            ],
            [
             0.6666666666666666,
             "#ed7953"
            ],
            [
             0.7777777777777778,
             "#fb9f3a"
            ],
            [
             0.8888888888888888,
             "#fdca26"
            ],
            [
             1,
             "#f0f921"
            ]
           ]
          },
          "colorway": [
           "#636efa",
           "#EF553B",
           "#00cc96",
           "#ab63fa",
           "#FFA15A",
           "#19d3f3",
           "#FF6692",
           "#B6E880",
           "#FF97FF",
           "#FECB52"
          ],
          "font": {
           "color": "#2a3f5f"
          },
          "geo": {
           "bgcolor": "white",
           "lakecolor": "white",
           "landcolor": "#E5ECF6",
           "showlakes": true,
           "showland": true,
           "subunitcolor": "white"
          },
          "hoverlabel": {
           "align": "left"
          },
          "hovermode": "closest",
          "mapbox": {
           "style": "light"
          },
          "paper_bgcolor": "white",
          "plot_bgcolor": "#E5ECF6",
          "polar": {
           "angularaxis": {
            "gridcolor": "white",
            "linecolor": "white",
            "ticks": ""
           },
           "bgcolor": "#E5ECF6",
           "radialaxis": {
            "gridcolor": "white",
            "linecolor": "white",
            "ticks": ""
           }
          },
          "scene": {
           "xaxis": {
            "backgroundcolor": "#E5ECF6",
            "gridcolor": "white",
            "gridwidth": 2,
            "linecolor": "white",
            "showbackground": true,
            "ticks": "",
            "zerolinecolor": "white"
           },
           "yaxis": {
            "backgroundcolor": "#E5ECF6",
            "gridcolor": "white",
            "gridwidth": 2,
            "linecolor": "white",
            "showbackground": true,
            "ticks": "",
            "zerolinecolor": "white"
           },
           "zaxis": {
            "backgroundcolor": "#E5ECF6",
            "gridcolor": "white",
            "gridwidth": 2,
            "linecolor": "white",
            "showbackground": true,
            "ticks": "",
            "zerolinecolor": "white"
           }
          },
          "shapedefaults": {
           "line": {
            "color": "#2a3f5f"
           }
          },
          "ternary": {
           "aaxis": {
            "gridcolor": "white",
            "linecolor": "white",
            "ticks": ""
           },
           "baxis": {
            "gridcolor": "white",
            "linecolor": "white",
            "ticks": ""
           },
           "bgcolor": "#E5ECF6",
           "caxis": {
            "gridcolor": "white",
            "linecolor": "white",
            "ticks": ""
           }
          },
          "title": {
           "x": 0.05
          },
          "xaxis": {
           "automargin": true,
           "gridcolor": "white",
           "linecolor": "white",
           "ticks": "",
           "title": {
            "standoff": 15
           },
           "zerolinecolor": "white",
           "zerolinewidth": 2
          },
          "yaxis": {
           "automargin": true,
           "gridcolor": "white",
           "linecolor": "white",
           "ticks": "",
           "title": {
            "standoff": 15
           },
           "zerolinecolor": "white",
           "zerolinewidth": 2
          }
         }
        },
        "title": {
         "text": "Change in GPI from 2010 to 2022"
        }
       }
      },
      "text/html": [
       "<div>                            <div id=\"88f1a925-0519-4245-b3b7-7d4f06f2f29e\" class=\"plotly-graph-div\" style=\"height:525px; width:100%;\"></div>            <script type=\"text/javascript\">                require([\"plotly\"], function(Plotly) {                    window.PLOTLYENV=window.PLOTLYENV || {};                                    if (document.getElementById(\"88f1a925-0519-4245-b3b7-7d4f06f2f29e\")) {                    Plotly.newPlot(                        \"88f1a925-0519-4245-b3b7-7d4f06f2f29e\",                        [{\"coloraxis\":\"coloraxis\",\"geo\":\"geo\",\"hovertemplate\":\"<b>%{hovertext}</b><br><br>Country=%{location}<br>Change in safety rating=%{z}<extra></extra>\",\"hovertext\":[\"Afghanistan\",\"Albania\",\"Algeria\",\"Angola\",\"Argentina\",\"Armenia\",\"Australia\",\"Austria\",\"Azerbaijan\",\"Bahrain\",\"Bangladesh\",\"Belarus\",\"Belgium\",\"Benin\",\"Bhutan\",\"Bolivia\",\"Bosnia and Herzegovina\",\"Botswana\",\"Brazil\",\"Bulgaria\",\"Burkina Faso\",\"Burundi\",\"Cambodia\",\"Cameroon\",\"Canada\",\"Central African Republic\",\"Chad\",\"Chile\",\"China\",\"Colombia\",\"Costa Rica\",\"Cote d' Ivoire\",\"Croatia\",\"Cuba\",\"Cyprus\",\"Czech Republic\",\"Democratic Republic of the Congo\",\"Denmark\",\"Djibouti\",\"Dominican Republic\",\"Ecuador\",\"Egypt\",\"El Salvador\",\"Equatorial Guinea\",\"Eritrea\",\"Estonia\",\"Eswatini\",\"Ethiopia\",\"Finland\",\"France\",\"Gabon\",\"Georgia\",\"Germany\",\"Ghana\",\"Greece\",\"Guatemala\",\"Guinea\",\"Guinea-Bissau\",\"Guyana\",\"Haiti\",\"Honduras\",\"Hungary\",\"Iceland\",\"India\",\"Indonesia\",\"Iran\",\"Iraq\",\"Ireland\",\"Israel\",\"Italy\",\"Jamaica\",\"Japan\",\"Jordan\",\"Kazakhstan\",\"Kenya\",\"Kosovo\",\"Kuwait\",\"Kyrgyz Republic\",\"Laos\",\"Latvia\",\"Lebanon\",\"Lesotho\",\"Liberia\",\"Libya\",\"Lithuania\",\"Madagascar\",\"Malawi\",\"Malaysia\",\"Mali\",\"Mauritania\",\"Mauritius\",\"Mexico\",\"Moldova\",\"Mongolia\",\"Montenegro\",\"Morocco\",\"Mozambique\",\"Myanmar\",\"Namibia\",\"Nepal\",\"Netherlands\",\"New Zealand\",\"Nicaragua\",\"Niger\",\"Nigeria\",\"North Korea\",\"North Macedonia\",\"Norway\",\"Oman\",\"Pakistan\",\"Panama\",\"Papua New Guinea\",\"Paraguay\",\"Peru\",\"Philippines\",\"Poland\",\"Portugal\",\"Qatar\",\"Republic of the Congo\",\"Romania\",\"Russia\",\"Rwanda\",\"Saudi Arabia\",\"Senegal\",\"Serbia\",\"Sierra Leone\",\"Singapore\",\"Slovakia\",\"Slovenia\",\"Somalia\",\"South Africa\",\"South Korea\",\"Spain\",\"Sri Lanka\",\"Sudan\",\"Sweden\",\"Switzerland\",\"Syria\",\"Taiwan\",\"Tajikistan\",\"Tanzania\",\"Thailand\",\"The Gambia\",\"Timor-Leste\",\"Togo\",\"Trinidad and Tobago\",\"Tunisia\",\"Turkey\",\"Turkmenistan\",\"Uganda\",\"Ukraine\",\"United Arab Emirates\",\"United Kingdom\",\"United States of America\",\"Uruguay\",\"Uzbekistan\",\"Venezuela\",\"Vietnam\",\"Yemen\",\"Zambia\",\"Zimbabwe\"],\"locations\":[\"AFG\",\"ALB\",\"DZA\",\"AGO\",\"ARG\",\"ARM\",\"AUS\",\"AUT\",\"AZE\",\"BHR\",\"BGD\",\"BLR\",\"BEL\",\"BEN\",\"BTN\",\"BOL\",\"BIH\",\"BWA\",\"BRA\",\"BGR\",\"BFA\",\"BDI\",\"KHM\",\"CMR\",\"CAN\",\"CAF\",\"TCD\",\"CHL\",\"CHN\",\"COL\",\"CRI\",\"CIV\",\"HRV\",\"CUB\",\"CYP\",\"CZE\",\"COD\",\"DNK\",\"DJI\",\"DOM\",\"ECU\",\"EGY\",\"SLV\",\"GNQ\",\"ERI\",\"EST\",\"SWZ\",\"ETH\",\"FIN\",\"FRA\",\"GAB\",\"GEO\",\"DEU\",\"GHA\",\"GRC\",\"GTM\",\"GIN\",\"GNB\",\"GUY\",\"HTI\",\"HND\",\"HUN\",\"ISL\",\"IND\",\"IDN\",\"IRN\",\"IRQ\",\"IRL\",\"ISR\",\"ITA\",\"JAM\",\"JPN\",\"JOR\",\"KAZ\",\"KEN\",\"KSV\",\"KWT\",\"KGZ\",\"LAO\",\"LVA\",\"LBN\",\"LSO\",\"LBR\",\"LBY\",\"LTU\",\"MDG\",\"MWI\",\"MYS\",\"MLI\",\"MRT\",\"MUS\",\"MEX\",\"MDA\",\"MNG\",\"MNE\",\"MAR\",\"MOZ\",\"MMR\",\"NAM\",\"NPL\",\"NLD\",\"NZL\",\"NIC\",\"NER\",\"NGA\",\"PRK\",\"MKD\",\"NOR\",\"OMN\",\"PAK\",\"PAN\",\"PNG\",\"PRY\",\"PER\",\"PHL\",\"POL\",\"PRT\",\"QAT\",\"COG\",\"ROU\",\"RUS\",\"RWA\",\"SAU\",\"SEN\",\"SRB\",\"SLE\",\"SGP\",\"SVK\",\"SVN\",\"SOM\",\"ZAF\",\"KOR\",\"ESP\",\"LKA\",\"SDN\",\"SWE\",\"CHE\",\"SYR\",\"TWN\",\"TJK\",\"TZA\",\"THA\",\"GMB\",\"TLS\",\"TGO\",\"TTO\",\"TUN\",\"TUR\",\"TKM\",\"UGA\",\"UKR\",\"ARE\",\"GBR\",\"USA\",\"URY\",\"UZB\",\"VEN\",\"VNM\",\"YEM\",\"ZMB\",\"ZWE\"],\"name\":\"\",\"z\":[0.5139999999999998,-0.009000000000000119,-0.18700000000000028,-0.0239999999999998,-0.03600000000000003,-0.2370000000000001,0.17799999999999994,-0.05699999999999994,0.09499999999999975,0.2729999999999999,-0.042999999999999705,0.11499999999999977,0.03699999999999992,0.03200000000000003,-0.46599999999999997,-0.050000000000000044,0.05800000000000005,0.03499999999999992,0.43500000000000005,-0.127,1.074,0.014000000000000234,-0.2390000000000001,0.6080000000000001,-0.1100000000000001,0.4099999999999997,-0.3169999999999997,0.119,-0.16600000000000037,-0.07699999999999996,0.07699999999999996,-0.018999999999999684,-0.18300000000000005,0.06700000000000017,-0.0029999999999998916,-0.09799999999999986,0.29000000000000004,-0.05600000000000005,0.20400000000000018,-0.08500000000000019,-0.20100000000000007,0.40000000000000013,0.10400000000000009,0.018999999999999906,0.04700000000000015,-0.06700000000000017,0.10699999999999998,0.39300000000000024,0.07000000000000006,0.10099999999999998,-0.06899999999999973,-0.9060000000000001,-0.14800000000000013,-0.07300000000000018,-0.15300000000000002,-0.01100000000000012,0.005999999999999783,-0.17799999999999994,-0.006999999999999673,0.18999999999999995,-0.07399999999999984,-0.07000000000000006,-0.026000000000000023,-0.001000000000000334,0.07699999999999996,0.22199999999999998,-0.2639999999999998,-0.14900000000000002,-0.31000000000000005,-0.07899999999999996,-0.009000000000000119,-0.06099999999999994,-0.03699999999999992,-0.07699999999999996,-0.24800000000000022,-0.04500000000000015,0.2140000000000002,-0.22299999999999986,0.06299999999999994,0.007000000000000117,0.04200000000000026,0.23699999999999988,-0.031999999999999806,0.907,0.040999999999999925,0.015000000000000124,0.08600000000000008,-0.18599999999999994,0.5979999999999999,-0.04999999999999982,-0.04400000000000004,0.27600000000000025,-0.0990000000000002,-0.20600000000000018,-0.19300000000000006,-0.006999999999999895,0.47299999999999986,0.24799999999999978,-0.14100000000000001,-0.15700000000000003,-0.03600000000000003,-0.04300000000000015,0.49,0.5379999999999998,0.266,0.007000000000000117,-0.14700000000000002,0.025000000000000133,0.17599999999999993,-0.31199999999999983,-0.0050000000000001155,0.07899999999999974,-0.028999999999999915,0.03000000000000025,0.03299999999999992,-0.09699999999999998,-0.1120000000000001,0.06699999999999995,0.08400000000000007,-0.015000000000000124,0.22100000000000009,-0.028999999999999915,0.020000000000000018,-0.20599999999999996,-0.14500000000000002,-0.03200000000000003,-0.16399999999999992,-0.04399999999999982,-0.030999999999999917,-0.17499999999999982,-0.0820000000000003,-0.02300000000000013,-0.1160000000000001,-0.669,-0.03399999999999981,0.1200000000000001,-0.1120000000000001,1.064,-0.09299999999999997,-0.1459999999999999,0.22299999999999986,-0.28100000000000014,-0.09999999999999987,-0.009000000000000119,0.17199999999999993,-0.07400000000000029,0.2390000000000001,0.28500000000000014,-0.0040000000000000036,-0.0019999999999997797,0.754,0.254,-0.11599999999999988,0.15399999999999991,0.08199999999999985,-0.17700000000000005,0.43400000000000016,-0.08400000000000007,0.8320000000000003,0.014000000000000012,-0.3820000000000001],\"type\":\"choropleth\"}],                        {\"template\":{\"data\":{\"histogram2dcontour\":[{\"type\":\"histogram2dcontour\",\"colorbar\":{\"outlinewidth\":0,\"ticks\":\"\"},\"colorscale\":[[0.0,\"#0d0887\"],[0.1111111111111111,\"#46039f\"],[0.2222222222222222,\"#7201a8\"],[0.3333333333333333,\"#9c179e\"],[0.4444444444444444,\"#bd3786\"],[0.5555555555555556,\"#d8576b\"],[0.6666666666666666,\"#ed7953\"],[0.7777777777777778,\"#fb9f3a\"],[0.8888888888888888,\"#fdca26\"],[1.0,\"#f0f921\"]]}],\"choropleth\":[{\"type\":\"choropleth\",\"colorbar\":{\"outlinewidth\":0,\"ticks\":\"\"}}],\"histogram2d\":[{\"type\":\"histogram2d\",\"colorbar\":{\"outlinewidth\":0,\"ticks\":\"\"},\"colorscale\":[[0.0,\"#0d0887\"],[0.1111111111111111,\"#46039f\"],[0.2222222222222222,\"#7201a8\"],[0.3333333333333333,\"#9c179e\"],[0.4444444444444444,\"#bd3786\"],[0.5555555555555556,\"#d8576b\"],[0.6666666666666666,\"#ed7953\"],[0.7777777777777778,\"#fb9f3a\"],[0.8888888888888888,\"#fdca26\"],[1.0,\"#f0f921\"]]}],\"heatmap\":[{\"type\":\"heatmap\",\"colorbar\":{\"outlinewidth\":0,\"ticks\":\"\"},\"colorscale\":[[0.0,\"#0d0887\"],[0.1111111111111111,\"#46039f\"],[0.2222222222222222,\"#7201a8\"],[0.3333333333333333,\"#9c179e\"],[0.4444444444444444,\"#bd3786\"],[0.5555555555555556,\"#d8576b\"],[0.6666666666666666,\"#ed7953\"],[0.7777777777777778,\"#fb9f3a\"],[0.8888888888888888,\"#fdca26\"],[1.0,\"#f0f921\"]]}],\"heatmapgl\":[{\"type\":\"heatmapgl\",\"colorbar\":{\"outlinewidth\":0,\"ticks\":\"\"},\"colorscale\":[[0.0,\"#0d0887\"],[0.1111111111111111,\"#46039f\"],[0.2222222222222222,\"#7201a8\"],[0.3333333333333333,\"#9c179e\"],[0.4444444444444444,\"#bd3786\"],[0.5555555555555556,\"#d8576b\"],[0.6666666666666666,\"#ed7953\"],[0.7777777777777778,\"#fb9f3a\"],[0.8888888888888888,\"#fdca26\"],[1.0,\"#f0f921\"]]}],\"contourcarpet\":[{\"type\":\"contourcarpet\",\"colorbar\":{\"outlinewidth\":0,\"ticks\":\"\"}}],\"contour\":[{\"type\":\"contour\",\"colorbar\":{\"outlinewidth\":0,\"ticks\":\"\"},\"colorscale\":[[0.0,\"#0d0887\"],[0.1111111111111111,\"#46039f\"],[0.2222222222222222,\"#7201a8\"],[0.3333333333333333,\"#9c179e\"],[0.4444444444444444,\"#bd3786\"],[0.5555555555555556,\"#d8576b\"],[0.6666666666666666,\"#ed7953\"],[0.7777777777777778,\"#fb9f3a\"],[0.8888888888888888,\"#fdca26\"],[1.0,\"#f0f921\"]]}],\"surface\":[{\"type\":\"surface\",\"colorbar\":{\"outlinewidth\":0,\"ticks\":\"\"},\"colorscale\":[[0.0,\"#0d0887\"],[0.1111111111111111,\"#46039f\"],[0.2222222222222222,\"#7201a8\"],[0.3333333333333333,\"#9c179e\"],[0.4444444444444444,\"#bd3786\"],[0.5555555555555556,\"#d8576b\"],[0.6666666666666666,\"#ed7953\"],[0.7777777777777778,\"#fb9f3a\"],[0.8888888888888888,\"#fdca26\"],[1.0,\"#f0f921\"]]}],\"mesh3d\":[{\"type\":\"mesh3d\",\"colorbar\":{\"outlinewidth\":0,\"ticks\":\"\"}}],\"scatter\":[{\"fillpattern\":{\"fillmode\":\"overlay\",\"size\":10,\"solidity\":0.2},\"type\":\"scatter\"}],\"parcoords\":[{\"type\":\"parcoords\",\"line\":{\"colorbar\":{\"outlinewidth\":0,\"ticks\":\"\"}}}],\"scatterpolargl\":[{\"type\":\"scatterpolargl\",\"marker\":{\"colorbar\":{\"outlinewidth\":0,\"ticks\":\"\"}}}],\"bar\":[{\"error_x\":{\"color\":\"#2a3f5f\"},\"error_y\":{\"color\":\"#2a3f5f\"},\"marker\":{\"line\":{\"color\":\"#E5ECF6\",\"width\":0.5},\"pattern\":{\"fillmode\":\"overlay\",\"size\":10,\"solidity\":0.2}},\"type\":\"bar\"}],\"scattergeo\":[{\"type\":\"scattergeo\",\"marker\":{\"colorbar\":{\"outlinewidth\":0,\"ticks\":\"\"}}}],\"scatterpolar\":[{\"type\":\"scatterpolar\",\"marker\":{\"colorbar\":{\"outlinewidth\":0,\"ticks\":\"\"}}}],\"histogram\":[{\"marker\":{\"pattern\":{\"fillmode\":\"overlay\",\"size\":10,\"solidity\":0.2}},\"type\":\"histogram\"}],\"scattergl\":[{\"type\":\"scattergl\",\"marker\":{\"colorbar\":{\"outlinewidth\":0,\"ticks\":\"\"}}}],\"scatter3d\":[{\"type\":\"scatter3d\",\"line\":{\"colorbar\":{\"outlinewidth\":0,\"ticks\":\"\"}},\"marker\":{\"colorbar\":{\"outlinewidth\":0,\"ticks\":\"\"}}}],\"scattermapbox\":[{\"type\":\"scattermapbox\",\"marker\":{\"colorbar\":{\"outlinewidth\":0,\"ticks\":\"\"}}}],\"scatterternary\":[{\"type\":\"scatterternary\",\"marker\":{\"colorbar\":{\"outlinewidth\":0,\"ticks\":\"\"}}}],\"scattercarpet\":[{\"type\":\"scattercarpet\",\"marker\":{\"colorbar\":{\"outlinewidth\":0,\"ticks\":\"\"}}}],\"carpet\":[{\"aaxis\":{\"endlinecolor\":\"#2a3f5f\",\"gridcolor\":\"white\",\"linecolor\":\"white\",\"minorgridcolor\":\"white\",\"startlinecolor\":\"#2a3f5f\"},\"baxis\":{\"endlinecolor\":\"#2a3f5f\",\"gridcolor\":\"white\",\"linecolor\":\"white\",\"minorgridcolor\":\"white\",\"startlinecolor\":\"#2a3f5f\"},\"type\":\"carpet\"}],\"table\":[{\"cells\":{\"fill\":{\"color\":\"#EBF0F8\"},\"line\":{\"color\":\"white\"}},\"header\":{\"fill\":{\"color\":\"#C8D4E3\"},\"line\":{\"color\":\"white\"}},\"type\":\"table\"}],\"barpolar\":[{\"marker\":{\"line\":{\"color\":\"#E5ECF6\",\"width\":0.5},\"pattern\":{\"fillmode\":\"overlay\",\"size\":10,\"solidity\":0.2}},\"type\":\"barpolar\"}],\"pie\":[{\"automargin\":true,\"type\":\"pie\"}]},\"layout\":{\"autotypenumbers\":\"strict\",\"colorway\":[\"#636efa\",\"#EF553B\",\"#00cc96\",\"#ab63fa\",\"#FFA15A\",\"#19d3f3\",\"#FF6692\",\"#B6E880\",\"#FF97FF\",\"#FECB52\"],\"font\":{\"color\":\"#2a3f5f\"},\"hovermode\":\"closest\",\"hoverlabel\":{\"align\":\"left\"},\"paper_bgcolor\":\"white\",\"plot_bgcolor\":\"#E5ECF6\",\"polar\":{\"bgcolor\":\"#E5ECF6\",\"angularaxis\":{\"gridcolor\":\"white\",\"linecolor\":\"white\",\"ticks\":\"\"},\"radialaxis\":{\"gridcolor\":\"white\",\"linecolor\":\"white\",\"ticks\":\"\"}},\"ternary\":{\"bgcolor\":\"#E5ECF6\",\"aaxis\":{\"gridcolor\":\"white\",\"linecolor\":\"white\",\"ticks\":\"\"},\"baxis\":{\"gridcolor\":\"white\",\"linecolor\":\"white\",\"ticks\":\"\"},\"caxis\":{\"gridcolor\":\"white\",\"linecolor\":\"white\",\"ticks\":\"\"}},\"coloraxis\":{\"colorbar\":{\"outlinewidth\":0,\"ticks\":\"\"}},\"colorscale\":{\"sequential\":[[0.0,\"#0d0887\"],[0.1111111111111111,\"#46039f\"],[0.2222222222222222,\"#7201a8\"],[0.3333333333333333,\"#9c179e\"],[0.4444444444444444,\"#bd3786\"],[0.5555555555555556,\"#d8576b\"],[0.6666666666666666,\"#ed7953\"],[0.7777777777777778,\"#fb9f3a\"],[0.8888888888888888,\"#fdca26\"],[1.0,\"#f0f921\"]],\"sequentialminus\":[[0.0,\"#0d0887\"],[0.1111111111111111,\"#46039f\"],[0.2222222222222222,\"#7201a8\"],[0.3333333333333333,\"#9c179e\"],[0.4444444444444444,\"#bd3786\"],[0.5555555555555556,\"#d8576b\"],[0.6666666666666666,\"#ed7953\"],[0.7777777777777778,\"#fb9f3a\"],[0.8888888888888888,\"#fdca26\"],[1.0,\"#f0f921\"]],\"diverging\":[[0,\"#8e0152\"],[0.1,\"#c51b7d\"],[0.2,\"#de77ae\"],[0.3,\"#f1b6da\"],[0.4,\"#fde0ef\"],[0.5,\"#f7f7f7\"],[0.6,\"#e6f5d0\"],[0.7,\"#b8e186\"],[0.8,\"#7fbc41\"],[0.9,\"#4d9221\"],[1,\"#276419\"]]},\"xaxis\":{\"gridcolor\":\"white\",\"linecolor\":\"white\",\"ticks\":\"\",\"title\":{\"standoff\":15},\"zerolinecolor\":\"white\",\"automargin\":true,\"zerolinewidth\":2},\"yaxis\":{\"gridcolor\":\"white\",\"linecolor\":\"white\",\"ticks\":\"\",\"title\":{\"standoff\":15},\"zerolinecolor\":\"white\",\"automargin\":true,\"zerolinewidth\":2},\"scene\":{\"xaxis\":{\"backgroundcolor\":\"#E5ECF6\",\"gridcolor\":\"white\",\"linecolor\":\"white\",\"showbackground\":true,\"ticks\":\"\",\"zerolinecolor\":\"white\",\"gridwidth\":2},\"yaxis\":{\"backgroundcolor\":\"#E5ECF6\",\"gridcolor\":\"white\",\"linecolor\":\"white\",\"showbackground\":true,\"ticks\":\"\",\"zerolinecolor\":\"white\",\"gridwidth\":2},\"zaxis\":{\"backgroundcolor\":\"#E5ECF6\",\"gridcolor\":\"white\",\"linecolor\":\"white\",\"showbackground\":true,\"ticks\":\"\",\"zerolinecolor\":\"white\",\"gridwidth\":2}},\"shapedefaults\":{\"line\":{\"color\":\"#2a3f5f\"}},\"annotationdefaults\":{\"arrowcolor\":\"#2a3f5f\",\"arrowhead\":0,\"arrowwidth\":1},\"geo\":{\"bgcolor\":\"white\",\"landcolor\":\"#E5ECF6\",\"subunitcolor\":\"white\",\"showland\":true,\"showlakes\":true,\"lakecolor\":\"white\"},\"title\":{\"x\":0.05},\"mapbox\":{\"style\":\"light\"}}},\"geo\":{\"domain\":{\"x\":[0.0,1.0],\"y\":[0.0,1.0]},\"center\":{}},\"coloraxis\":{\"colorbar\":{\"title\":{\"text\":\"Change in safety rating\"}},\"colorscale\":[[0.0,\"rgb(255,245,240)\"],[0.125,\"rgb(254,224,210)\"],[0.25,\"rgb(252,187,161)\"],[0.375,\"rgb(252,146,114)\"],[0.5,\"rgb(251,106,74)\"],[0.625,\"rgb(239,59,44)\"],[0.75,\"rgb(203,24,29)\"],[0.875,\"rgb(165,15,21)\"],[1.0,\"rgb(103,0,13)\"]]},\"legend\":{\"tracegroupgap\":0},\"title\":{\"text\":\"Change in GPI from 2010 to 2022\"}},                        {\"responsive\": true}                    ).then(function(){\n",
       "                            \n",
       "var gd = document.getElementById('88f1a925-0519-4245-b3b7-7d4f06f2f29e');\n",
       "var x = new MutationObserver(function (mutations, observer) {{\n",
       "        var display = window.getComputedStyle(gd).display;\n",
       "        if (!display || display === 'none') {{\n",
       "            console.log([gd, 'removed!']);\n",
       "            Plotly.purge(gd);\n",
       "            observer.disconnect();\n",
       "        }}\n",
       "}});\n",
       "\n",
       "// Listen for the removal of the full notebook cells\n",
       "var notebookContainer = gd.closest('#notebook-container');\n",
       "if (notebookContainer) {{\n",
       "    x.observe(notebookContainer, {childList: true});\n",
       "}}\n",
       "\n",
       "// Listen for the clearing of the current output cell\n",
       "var outputEl = gd.closest('.output');\n",
       "if (outputEl) {{\n",
       "    x.observe(outputEl, {childList: true});\n",
       "}}\n",
       "\n",
       "                        })                };                });            </script>        </div>"
      ]
     },
     "metadata": {},
     "output_type": "display_data"
    }
   ],
   "source": [
    "#Read in csv clean\n",
    "safety = pd.read_csv('Datasets/safety_data_cleaned.csv')\n",
    "\n",
    "#Calculate change from 2022 to 2010\n",
    "safety['change'] = safety['2022'] - safety['2010']\n",
    "\n",
    "#Rename columns and do some case changes for merge\n",
    "safety = safety.rename(columns={'iso3c': 'iso_three'})\n",
    "for index, row in safety.iterrows():\n",
    "    safety.loc[index, 'iso_three'] = safety.loc[index, 'iso_three'].lower()\n",
    "    \n",
    "safety = pd.merge(safety, growth, on='iso_three', how='left')\n",
    "\n",
    "#Re-upper case for mapping and drop rows with 0 rating in 2010\n",
    "for index, row in safety.iterrows():\n",
    "    safety.loc[index, 'iso_three'] = safety.loc[index, 'iso_three'].upper()\n",
    "    if safety.loc[index, '2010'] == 0:\n",
    "        safety = safety.drop(labels=index, axis=0)\n",
    "    \n",
    "\n",
    "\n",
    "#Show the map of change in safety rating\n",
    "fig = px.choropleth(safety, locations=\"iso_three\",\n",
    "                    color=\"change\", \n",
    "                    hover_name=\"Country\",\n",
    "                    color_continuous_scale=px.colors.sequential.Reds,\n",
    "                    labels = {'change': 'Change in safety rating',\n",
    "                              'iso_three': 'Country'}, \n",
    "                    title=\"Change in GPI from 2010 to 2022\")\n",
    "\n",
    "fig.show()"
   ]
  },
  {
   "cell_type": "code",
   "execution_count": 230,
   "id": "6648d78e",
   "metadata": {},
   "outputs": [
    {
     "data": {
      "text/plain": [
       "Text(0, 0.5, 'Growth rate percentage per year from 2010 to 2022')"
      ]
     },
     "execution_count": 230,
     "metadata": {},
     "output_type": "execute_result"
    },
    {
     "data": {
      "image/png": "[encoded data removed]",
      "text/plain": [
       "<Figure size 640x480 with 1 Axes>"
      ]
     },
     "metadata": {},
     "output_type": "display_data"
    }
   ],
   "source": [
    "#Create a box plot showing change in safety rating versus growth\n",
    "\n",
    "plt.scatter(safety['change'], safety['growth_rate_10_22'])\n",
    "plt.xlabel('Safety change from 2010 to 2022')\n",
    "plt.title('Safety Change versus Growth Rate')\n",
    "plt.ylabel('Growth rate percentage per year from 2010 to 2022')"
   ]
  },
  {
   "cell_type": "code",
   "execution_count": 231,
   "id": "735fc460",
   "metadata": {},
   "outputs": [
    {
     "data": {
      "text/html": [
       "<div>\n",
       "<style scoped>\n",
       "    .dataframe tbody tr th:only-of-type {\n",
       "        vertical-align: middle;\n",
       "    }\n",
       "\n",
       "    .dataframe tbody tr th {\n",
       "        vertical-align: top;\n",
       "    }\n",
       "\n",
       "    .dataframe thead th {\n",
       "        text-align: right;\n",
       "    }\n",
       "</style>\n",
       "<table border=\"1\" class=\"dataframe\">\n",
       "  <thead>\n",
       "    <tr style=\"text-align: right;\">\n",
       "      <th></th>\n",
       "      <th>Country</th>\n",
       "      <th>iso_three</th>\n",
       "      <th>2008</th>\n",
       "      <th>2009</th>\n",
       "      <th>2010</th>\n",
       "      <th>2011</th>\n",
       "      <th>2012</th>\n",
       "      <th>2013</th>\n",
       "      <th>2014</th>\n",
       "      <th>2015</th>\n",
       "      <th>...</th>\n",
       "      <th>1970_pop</th>\n",
       "      <th>area (km)</th>\n",
       "      <th>density</th>\n",
       "      <th>iso_two</th>\n",
       "      <th>Capital</th>\n",
       "      <th>Continent</th>\n",
       "      <th>growth_rate_10_22</th>\n",
       "      <th>growth_rate_70_22</th>\n",
       "      <th>growth_rate_00_15</th>\n",
       "      <th>growth_rate_70_15</th>\n",
       "    </tr>\n",
       "  </thead>\n",
       "  <tbody>\n",
       "    <tr>\n",
       "      <th>20</th>\n",
       "      <td>Burkina Faso</td>\n",
       "      <td>BFA</td>\n",
       "      <td>1.858</td>\n",
       "      <td>1.774</td>\n",
       "      <td>1.712</td>\n",
       "      <td>1.735</td>\n",
       "      <td>1.686</td>\n",
       "      <td>1.820</td>\n",
       "      <td>1.723</td>\n",
       "      <td>1.856</td>\n",
       "      <td>...</td>\n",
       "      <td>5611666.0</td>\n",
       "      <td>272967.0</td>\n",
       "      <td>83.0641</td>\n",
       "      <td>bf</td>\n",
       "      <td>Ouagadougou</td>\n",
       "      <td>Africa</td>\n",
       "      <td>2.885371</td>\n",
       "      <td>2.721688</td>\n",
       "      <td>3.075597</td>\n",
       "      <td>2.713128</td>\n",
       "    </tr>\n",
       "    <tr>\n",
       "      <th>139</th>\n",
       "      <td>Syria</td>\n",
       "      <td>SYR</td>\n",
       "      <td>2.154</td>\n",
       "      <td>2.222</td>\n",
       "      <td>2.292</td>\n",
       "      <td>2.305</td>\n",
       "      <td>2.634</td>\n",
       "      <td>2.989</td>\n",
       "      <td>3.278</td>\n",
       "      <td>3.359</td>\n",
       "      <td>...</td>\n",
       "      <td>6319199.0</td>\n",
       "      <td>185180.0</td>\n",
       "      <td>119.4797</td>\n",
       "      <td>sy</td>\n",
       "      <td>Damascus</td>\n",
       "      <td>Asia</td>\n",
       "      <td>-0.079554</td>\n",
       "      <td>2.439131</td>\n",
       "      <td>1.096268</td>\n",
       "      <td>2.500956</td>\n",
       "    </tr>\n",
       "    <tr>\n",
       "      <th>83</th>\n",
       "      <td>Libya</td>\n",
       "      <td>LBY</td>\n",
       "      <td>2.086</td>\n",
       "      <td>2.055</td>\n",
       "      <td>2.023</td>\n",
       "      <td>2.694</td>\n",
       "      <td>2.467</td>\n",
       "      <td>2.558</td>\n",
       "      <td>2.481</td>\n",
       "      <td>2.864</td>\n",
       "      <td>...</td>\n",
       "      <td>1909177.0</td>\n",
       "      <td>1759540.0</td>\n",
       "      <td>3.8717</td>\n",
       "      <td>ly</td>\n",
       "      <td>Tripoli</td>\n",
       "      <td>Africa</td>\n",
       "      <td>0.402198</td>\n",
       "      <td>2.476443</td>\n",
       "      <td>1.229967</td>\n",
       "      <td>2.649203</td>\n",
       "    </tr>\n",
       "    <tr>\n",
       "      <th>160</th>\n",
       "      <td>Yemen</td>\n",
       "      <td>YEM</td>\n",
       "      <td>2.407</td>\n",
       "      <td>2.474</td>\n",
       "      <td>2.562</td>\n",
       "      <td>2.565</td>\n",
       "      <td>2.609</td>\n",
       "      <td>2.547</td>\n",
       "      <td>2.611</td>\n",
       "      <td>2.738</td>\n",
       "      <td>...</td>\n",
       "      <td>6843607.0</td>\n",
       "      <td>527968.0</td>\n",
       "      <td>63.8232</td>\n",
       "      <td>ye</td>\n",
       "      <td>Sanaa</td>\n",
       "      <td>Asia</td>\n",
       "      <td>2.606871</td>\n",
       "      <td>3.113015</td>\n",
       "      <td>2.879211</td>\n",
       "      <td>3.222315</td>\n",
       "    </tr>\n",
       "    <tr>\n",
       "      <th>152</th>\n",
       "      <td>Ukraine</td>\n",
       "      <td>UKR</td>\n",
       "      <td>2.095</td>\n",
       "      <td>2.173</td>\n",
       "      <td>2.217</td>\n",
       "      <td>2.131</td>\n",
       "      <td>2.071</td>\n",
       "      <td>2.191</td>\n",
       "      <td>2.433</td>\n",
       "      <td>2.712</td>\n",
       "      <td>...</td>\n",
       "      <td>47279086.0</td>\n",
       "      <td>603500.0</td>\n",
       "      <td>65.7858</td>\n",
       "      <td>ua</td>\n",
       "      <td>Kiev</td>\n",
       "      <td>Europe</td>\n",
       "      <td>-1.162619</td>\n",
       "      <td>-0.335346</td>\n",
       "      <td>-0.552391</td>\n",
       "      <td>-0.110590</td>\n",
       "    </tr>\n",
       "    <tr>\n",
       "      <th>23</th>\n",
       "      <td>Cameroon</td>\n",
       "      <td>CMR</td>\n",
       "      <td>1.970</td>\n",
       "      <td>2.009</td>\n",
       "      <td>2.101</td>\n",
       "      <td>1.986</td>\n",
       "      <td>2.017</td>\n",
       "      <td>1.921</td>\n",
       "      <td>1.999</td>\n",
       "      <td>2.204</td>\n",
       "      <td>...</td>\n",
       "      <td>6452787.0</td>\n",
       "      <td>475442.0</td>\n",
       "      <td>58.7128</td>\n",
       "      <td>cm</td>\n",
       "      <td>Yaounde</td>\n",
       "      <td>Africa</td>\n",
       "      <td>2.869843</td>\n",
       "      <td>2.856648</td>\n",
       "      <td>2.852637</td>\n",
       "      <td>2.865926</td>\n",
       "    </tr>\n",
       "    <tr>\n",
       "      <th>88</th>\n",
       "      <td>Mali</td>\n",
       "      <td>MLI</td>\n",
       "      <td>2.216</td>\n",
       "      <td>2.232</td>\n",
       "      <td>2.313</td>\n",
       "      <td>2.303</td>\n",
       "      <td>2.313</td>\n",
       "      <td>2.424</td>\n",
       "      <td>2.514</td>\n",
       "      <td>2.589</td>\n",
       "      <td>...</td>\n",
       "      <td>6153587.0</td>\n",
       "      <td>1240192.0</td>\n",
       "      <td>18.2178</td>\n",
       "      <td>ml</td>\n",
       "      <td>Bamako</td>\n",
       "      <td>Africa</td>\n",
       "      <td>3.173871</td>\n",
       "      <td>2.532756</td>\n",
       "      <td>3.232657</td>\n",
       "      <td>2.428098</td>\n",
       "    </tr>\n",
       "    <tr>\n",
       "      <th>103</th>\n",
       "      <td>Niger</td>\n",
       "      <td>NER</td>\n",
       "      <td>2.013</td>\n",
       "      <td>2.091</td>\n",
       "      <td>2.117</td>\n",
       "      <td>2.062</td>\n",
       "      <td>2.057</td>\n",
       "      <td>2.009</td>\n",
       "      <td>1.981</td>\n",
       "      <td>2.237</td>\n",
       "      <td>...</td>\n",
       "      <td>4669708.0</td>\n",
       "      <td>1267000.0</td>\n",
       "      <td>20.6851</td>\n",
       "      <td>ne</td>\n",
       "      <td>Niamey</td>\n",
       "      <td>Africa</td>\n",
       "      <td>3.854092</td>\n",
       "      <td>3.372879</td>\n",
       "      <td>3.728916</td>\n",
       "      <td>3.299995</td>\n",
       "    </tr>\n",
       "    <tr>\n",
       "      <th>0</th>\n",
       "      <td>Afghanistan</td>\n",
       "      <td>AFG</td>\n",
       "      <td>3.095</td>\n",
       "      <td>3.191</td>\n",
       "      <td>3.040</td>\n",
       "      <td>3.021</td>\n",
       "      <td>3.154</td>\n",
       "      <td>3.258</td>\n",
       "      <td>3.212</td>\n",
       "      <td>3.316</td>\n",
       "      <td>...</td>\n",
       "      <td>10752971.0</td>\n",
       "      <td>652230.0</td>\n",
       "      <td>63.0587</td>\n",
       "      <td>af</td>\n",
       "      <td>Kabul</td>\n",
       "      <td>Asia</td>\n",
       "      <td>3.198007</td>\n",
       "      <td>2.613424</td>\n",
       "      <td>3.710294</td>\n",
       "      <td>2.574589</td>\n",
       "    </tr>\n",
       "    <tr>\n",
       "      <th>102</th>\n",
       "      <td>Nicaragua</td>\n",
       "      <td>NIC</td>\n",
       "      <td>1.846</td>\n",
       "      <td>1.850</td>\n",
       "      <td>1.844</td>\n",
       "      <td>1.885</td>\n",
       "      <td>1.930</td>\n",
       "      <td>1.877</td>\n",
       "      <td>1.860</td>\n",
       "      <td>1.948</td>\n",
       "      <td>...</td>\n",
       "      <td>2444767.0</td>\n",
       "      <td>130373.0</td>\n",
       "      <td>53.2962</td>\n",
       "      <td>ni</td>\n",
       "      <td>Managua</td>\n",
       "      <td>North America</td>\n",
       "      <td>1.435953</td>\n",
       "      <td>2.029082</td>\n",
       "      <td>1.386481</td>\n",
       "      <td>2.125331</td>\n",
       "    </tr>\n",
       "    <tr>\n",
       "      <th>96</th>\n",
       "      <td>Mozambique</td>\n",
       "      <td>MOZ</td>\n",
       "      <td>1.870</td>\n",
       "      <td>1.853</td>\n",
       "      <td>1.843</td>\n",
       "      <td>1.969</td>\n",
       "      <td>1.845</td>\n",
       "      <td>1.891</td>\n",
       "      <td>1.972</td>\n",
       "      <td>1.976</td>\n",
       "      <td>...</td>\n",
       "      <td>8411676.0</td>\n",
       "      <td>801590.0</td>\n",
       "      <td>41.1302</td>\n",
       "      <td>mz</td>\n",
       "      <td>Maputo</td>\n",
       "      <td>Africa</td>\n",
       "      <td>3.018742</td>\n",
       "      <td>2.661657</td>\n",
       "      <td>2.788756</td>\n",
       "      <td>2.612187</td>\n",
       "    </tr>\n",
       "    <tr>\n",
       "      <th>18</th>\n",
       "      <td>Brazil</td>\n",
       "      <td>BRA</td>\n",
       "      <td>2.022</td>\n",
       "      <td>2.029</td>\n",
       "      <td>2.030</td>\n",
       "      <td>2.019</td>\n",
       "      <td>2.052</td>\n",
       "      <td>2.038</td>\n",
       "      <td>2.075</td>\n",
       "      <td>2.156</td>\n",
       "      <td>...</td>\n",
       "      <td>96369875.0</td>\n",
       "      <td>8515767.0</td>\n",
       "      <td>25.2841</td>\n",
       "      <td>br</td>\n",
       "      <td>Brasilia</td>\n",
       "      <td>South America</td>\n",
       "      <td>0.771112</td>\n",
       "      <td>1.557976</td>\n",
       "      <td>1.033042</td>\n",
       "      <td>1.693590</td>\n",
       "    </tr>\n",
       "    <tr>\n",
       "      <th>158</th>\n",
       "      <td>Venezuela</td>\n",
       "      <td>VEN</td>\n",
       "      <td>2.313</td>\n",
       "      <td>2.359</td>\n",
       "      <td>2.364</td>\n",
       "      <td>2.337</td>\n",
       "      <td>2.284</td>\n",
       "      <td>2.256</td>\n",
       "      <td>2.333</td>\n",
       "      <td>2.448</td>\n",
       "      <td>...</td>\n",
       "      <td>11355475.0</td>\n",
       "      <td>916445.0</td>\n",
       "      <td>30.8820</td>\n",
       "      <td>ve</td>\n",
       "      <td>Caracas</td>\n",
       "      <td>South America</td>\n",
       "      <td>-0.120749</td>\n",
       "      <td>1.771707</td>\n",
       "      <td>1.497648</td>\n",
       "      <td>2.222108</td>\n",
       "    </tr>\n",
       "    <tr>\n",
       "      <th>25</th>\n",
       "      <td>Central African Republic</td>\n",
       "      <td>CAF</td>\n",
       "      <td>2.810</td>\n",
       "      <td>2.703</td>\n",
       "      <td>2.611</td>\n",
       "      <td>2.679</td>\n",
       "      <td>2.780</td>\n",
       "      <td>2.998</td>\n",
       "      <td>3.144</td>\n",
       "      <td>3.240</td>\n",
       "      <td>...</td>\n",
       "      <td>2067356.0</td>\n",
       "      <td>622984.0</td>\n",
       "      <td>8.9555</td>\n",
       "      <td>cf</td>\n",
       "      <td>Bangui</td>\n",
       "      <td>Africa</td>\n",
       "      <td>1.511353</td>\n",
       "      <td>1.927504</td>\n",
       "      <td>1.670041</td>\n",
       "      <td>1.898610</td>\n",
       "    </tr>\n",
       "    <tr>\n",
       "      <th>41</th>\n",
       "      <td>Egypt</td>\n",
       "      <td>EGY</td>\n",
       "      <td>2.041</td>\n",
       "      <td>1.930</td>\n",
       "      <td>1.942</td>\n",
       "      <td>2.203</td>\n",
       "      <td>2.302</td>\n",
       "      <td>2.382</td>\n",
       "      <td>2.529</td>\n",
       "      <td>2.400</td>\n",
       "      <td>...</td>\n",
       "      <td>34781986.0</td>\n",
       "      <td>1002450.0</td>\n",
       "      <td>110.7188</td>\n",
       "      <td>eg</td>\n",
       "      <td>Cairo</td>\n",
       "      <td>Africa</td>\n",
       "      <td>2.025540</td>\n",
       "      <td>2.256508</td>\n",
       "      <td>2.117088</td>\n",
       "      <td>2.322210</td>\n",
       "    </tr>\n",
       "    <tr>\n",
       "      <th>47</th>\n",
       "      <td>Ethiopia</td>\n",
       "      <td>ETH</td>\n",
       "      <td>2.409</td>\n",
       "      <td>2.650</td>\n",
       "      <td>2.413</td>\n",
       "      <td>2.432</td>\n",
       "      <td>2.587</td>\n",
       "      <td>2.483</td>\n",
       "      <td>2.378</td>\n",
       "      <td>2.300</td>\n",
       "      <td>...</td>\n",
       "      <td>28308246.0</td>\n",
       "      <td>1104300.0</td>\n",
       "      <td>111.7268</td>\n",
       "      <td>et</td>\n",
       "      <td>Addis Ababa</td>\n",
       "      <td>Africa</td>\n",
       "      <td>2.736470</td>\n",
       "      <td>2.871444</td>\n",
       "      <td>2.869879</td>\n",
       "      <td>2.900000</td>\n",
       "    </tr>\n",
       "    <tr>\n",
       "      <th>36</th>\n",
       "      <td>Democratic Republic of the Congo</td>\n",
       "      <td>COD</td>\n",
       "      <td>2.825</td>\n",
       "      <td>2.852</td>\n",
       "      <td>2.876</td>\n",
       "      <td>2.884</td>\n",
       "      <td>2.934</td>\n",
       "      <td>2.862</td>\n",
       "      <td>3.005</td>\n",
       "      <td>3.068</td>\n",
       "      <td>...</td>\n",
       "      <td>20151733.0</td>\n",
       "      <td>2344858.0</td>\n",
       "      <td>42.2244</td>\n",
       "      <td>cd</td>\n",
       "      <td>Kinshasa</td>\n",
       "      <td>Africa</td>\n",
       "      <td>3.386562</td>\n",
       "      <td>3.108752</td>\n",
       "      <td>3.259572</td>\n",
       "      <td>3.072489</td>\n",
       "    </tr>\n",
       "    <tr>\n",
       "      <th>149</th>\n",
       "      <td>Turkey</td>\n",
       "      <td>TUR</td>\n",
       "      <td>2.450</td>\n",
       "      <td>2.515</td>\n",
       "      <td>2.500</td>\n",
       "      <td>2.435</td>\n",
       "      <td>2.375</td>\n",
       "      <td>2.487</td>\n",
       "      <td>2.440</td>\n",
       "      <td>2.490</td>\n",
       "      <td>...</td>\n",
       "      <td>35540990.0</td>\n",
       "      <td>783562.0</td>\n",
       "      <td>108.9145</td>\n",
       "      <td>tr</td>\n",
       "      <td>Ankara</td>\n",
       "      <td>Asia</td>\n",
       "      <td>1.287602</td>\n",
       "      <td>1.698829</td>\n",
       "      <td>1.456765</td>\n",
       "      <td>1.809301</td>\n",
       "    </tr>\n",
       "    <tr>\n",
       "      <th>91</th>\n",
       "      <td>Mexico</td>\n",
       "      <td>MEX</td>\n",
       "      <td>2.251</td>\n",
       "      <td>2.323</td>\n",
       "      <td>2.336</td>\n",
       "      <td>2.404</td>\n",
       "      <td>2.518</td>\n",
       "      <td>2.473</td>\n",
       "      <td>2.416</td>\n",
       "      <td>2.398</td>\n",
       "      <td>...</td>\n",
       "      <td>50289306.0</td>\n",
       "      <td>1964375.0</td>\n",
       "      <td>64.9082</td>\n",
       "      <td>mx</td>\n",
       "      <td>Mexico City</td>\n",
       "      <td>North America</td>\n",
       "      <td>1.046332</td>\n",
       "      <td>1.805248</td>\n",
       "      <td>1.376487</td>\n",
       "      <td>1.954290</td>\n",
       "    </tr>\n",
       "    <tr>\n",
       "      <th>9</th>\n",
       "      <td>Bahrain</td>\n",
       "      <td>BHR</td>\n",
       "      <td>1.869</td>\n",
       "      <td>1.868</td>\n",
       "      <td>1.812</td>\n",
       "      <td>2.147</td>\n",
       "      <td>2.068</td>\n",
       "      <td>2.152</td>\n",
       "      <td>2.206</td>\n",
       "      <td>2.114</td>\n",
       "      <td>...</td>\n",
       "      <td>222555.0</td>\n",
       "      <td>765.0</td>\n",
       "      <td>1924.4876</td>\n",
       "      <td>bh</td>\n",
       "      <td>Manama</td>\n",
       "      <td>Asia</td>\n",
       "      <td>1.622624</td>\n",
       "      <td>3.700201</td>\n",
       "      <td>4.425250</td>\n",
       "      <td>4.108002</td>\n",
       "    </tr>\n",
       "    <tr>\n",
       "      <th>104</th>\n",
       "      <td>Nigeria</td>\n",
       "      <td>NGA</td>\n",
       "      <td>2.499</td>\n",
       "      <td>2.467</td>\n",
       "      <td>2.459</td>\n",
       "      <td>2.455</td>\n",
       "      <td>2.581</td>\n",
       "      <td>2.602</td>\n",
       "      <td>2.719</td>\n",
       "      <td>2.767</td>\n",
       "      <td>...</td>\n",
       "      <td>55569264.0</td>\n",
       "      <td>923768.0</td>\n",
       "      <td>236.5759</td>\n",
       "      <td>ng</td>\n",
       "      <td>Abuja</td>\n",
       "      <td>Africa</td>\n",
       "      <td>2.581621</td>\n",
       "      <td>2.668334</td>\n",
       "      <td>2.729470</td>\n",
       "      <td>2.696339</td>\n",
       "    </tr>\n",
       "    <tr>\n",
       "      <th>153</th>\n",
       "      <td>United Arab Emirates</td>\n",
       "      <td>ARE</td>\n",
       "      <td>1.699</td>\n",
       "      <td>1.627</td>\n",
       "      <td>1.611</td>\n",
       "      <td>1.577</td>\n",
       "      <td>1.633</td>\n",
       "      <td>1.588</td>\n",
       "      <td>1.624</td>\n",
       "      <td>1.710</td>\n",
       "      <td>...</td>\n",
       "      <td>298084.0</td>\n",
       "      <td>83600.0</td>\n",
       "      <td>112.9322</td>\n",
       "      <td>ae</td>\n",
       "      <td>Abu Dhabi</td>\n",
       "      <td>Asia</td>\n",
       "      <td>0.896968</td>\n",
       "      <td>6.870867</td>\n",
       "      <td>6.904805</td>\n",
       "      <td>7.844308</td>\n",
       "    </tr>\n",
       "    <tr>\n",
       "      <th>97</th>\n",
       "      <td>Myanmar</td>\n",
       "      <td>MMR</td>\n",
       "      <td>2.494</td>\n",
       "      <td>2.521</td>\n",
       "      <td>2.383</td>\n",
       "      <td>2.229</td>\n",
       "      <td>2.248</td>\n",
       "      <td>2.295</td>\n",
       "      <td>2.229</td>\n",
       "      <td>2.297</td>\n",
       "      <td>...</td>\n",
       "      <td>27284112.0</td>\n",
       "      <td>676578.0</td>\n",
       "      <td>80.0784</td>\n",
       "      <td>mm</td>\n",
       "      <td>Nay Pyi Taw</td>\n",
       "      <td>Asia</td>\n",
       "      <td>0.774073</td>\n",
       "      <td>1.327960</td>\n",
       "      <td>0.821460</td>\n",
       "      <td>1.421037</td>\n",
       "    </tr>\n",
       "    <tr>\n",
       "      <th>148</th>\n",
       "      <td>Tunisia</td>\n",
       "      <td>TUN</td>\n",
       "      <td>1.814</td>\n",
       "      <td>1.815</td>\n",
       "      <td>1.757</td>\n",
       "      <td>1.901</td>\n",
       "      <td>2.036</td>\n",
       "      <td>2.044</td>\n",
       "      <td>2.038</td>\n",
       "      <td>1.944</td>\n",
       "      <td>...</td>\n",
       "      <td>5047404.0</td>\n",
       "      <td>163610.0</td>\n",
       "      <td>75.5218</td>\n",
       "      <td>tn</td>\n",
       "      <td>Tunis</td>\n",
       "      <td>Africa</td>\n",
       "      <td>1.054197</td>\n",
       "      <td>1.736593</td>\n",
       "      <td>1.042054</td>\n",
       "      <td>1.858129</td>\n",
       "    </tr>\n",
       "    <tr>\n",
       "      <th>81</th>\n",
       "      <td>Lesotho</td>\n",
       "      <td>LSO</td>\n",
       "      <td>1.856</td>\n",
       "      <td>1.857</td>\n",
       "      <td>1.852</td>\n",
       "      <td>1.883</td>\n",
       "      <td>1.858</td>\n",
       "      <td>1.867</td>\n",
       "      <td>1.820</td>\n",
       "      <td>1.870</td>\n",
       "      <td>...</td>\n",
       "      <td>1023481.0</td>\n",
       "      <td>30355.0</td>\n",
       "      <td>75.9620</td>\n",
       "      <td>ls</td>\n",
       "      <td>Maseru</td>\n",
       "      <td>Africa</td>\n",
       "      <td>1.097496</td>\n",
       "      <td>1.574241</td>\n",
       "      <td>0.389130</td>\n",
       "      <td>1.629825</td>\n",
       "    </tr>\n",
       "  </tbody>\n",
       "</table>\n",
       "<p>25 rows × 38 columns</p>\n",
       "</div>"
      ],
      "text/plain": [
       "                              Country iso_three   2008   2009   2010   2011  \\\n",
       "20                       Burkina Faso       BFA  1.858  1.774  1.712  1.735   \n",
       "139                             Syria       SYR  2.154  2.222  2.292  2.305   \n",
       "83                              Libya       LBY  2.086  2.055  2.023  2.694   \n",
       "160                             Yemen       YEM  2.407  2.474  2.562  2.565   \n",
       "152                           Ukraine       UKR  2.095  2.173  2.217  2.131   \n",
       "23                           Cameroon       CMR  1.970  2.009  2.101  1.986   \n",
       "88                               Mali       MLI  2.216  2.232  2.313  2.303   \n",
       "103                             Niger       NER  2.013  2.091  2.117  2.062   \n",
       "0                         Afghanistan       AFG  3.095  3.191  3.040  3.021   \n",
       "102                         Nicaragua       NIC  1.846  1.850  1.844  1.885   \n",
       "96                         Mozambique       MOZ  1.870  1.853  1.843  1.969   \n",
       "18                             Brazil       BRA  2.022  2.029  2.030  2.019   \n",
       "158                         Venezuela       VEN  2.313  2.359  2.364  2.337   \n",
       "25           Central African Republic       CAF  2.810  2.703  2.611  2.679   \n",
       "41                              Egypt       EGY  2.041  1.930  1.942  2.203   \n",
       "47                           Ethiopia       ETH  2.409  2.650  2.413  2.432   \n",
       "36   Democratic Republic of the Congo       COD  2.825  2.852  2.876  2.884   \n",
       "149                            Turkey       TUR  2.450  2.515  2.500  2.435   \n",
       "91                             Mexico       MEX  2.251  2.323  2.336  2.404   \n",
       "9                             Bahrain       BHR  1.869  1.868  1.812  2.147   \n",
       "104                           Nigeria       NGA  2.499  2.467  2.459  2.455   \n",
       "153              United Arab Emirates       ARE  1.699  1.627  1.611  1.577   \n",
       "97                            Myanmar       MMR  2.494  2.521  2.383  2.229   \n",
       "148                           Tunisia       TUN  1.814  1.815  1.757  1.901   \n",
       "81                            Lesotho       LSO  1.856  1.857  1.852  1.883   \n",
       "\n",
       "      2012   2013   2014   2015  ...    1970_pop  area (km)    density  \\\n",
       "20   1.686  1.820  1.723  1.856  ...   5611666.0   272967.0    83.0641   \n",
       "139  2.634  2.989  3.278  3.359  ...   6319199.0   185180.0   119.4797   \n",
       "83   2.467  2.558  2.481  2.864  ...   1909177.0  1759540.0     3.8717   \n",
       "160  2.609  2.547  2.611  2.738  ...   6843607.0   527968.0    63.8232   \n",
       "152  2.071  2.191  2.433  2.712  ...  47279086.0   603500.0    65.7858   \n",
       "23   2.017  1.921  1.999  2.204  ...   6452787.0   475442.0    58.7128   \n",
       "88   2.313  2.424  2.514  2.589  ...   6153587.0  1240192.0    18.2178   \n",
       "103  2.057  2.009  1.981  2.237  ...   4669708.0  1267000.0    20.6851   \n",
       "0    3.154  3.258  3.212  3.316  ...  10752971.0   652230.0    63.0587   \n",
       "102  1.930  1.877  1.860  1.948  ...   2444767.0   130373.0    53.2962   \n",
       "96   1.845  1.891  1.972  1.976  ...   8411676.0   801590.0    41.1302   \n",
       "18   2.052  2.038  2.075  2.156  ...  96369875.0  8515767.0    25.2841   \n",
       "158  2.284  2.256  2.333  2.448  ...  11355475.0   916445.0    30.8820   \n",
       "25   2.780  2.998  3.144  3.240  ...   2067356.0   622984.0     8.9555   \n",
       "41   2.302  2.382  2.529  2.400  ...  34781986.0  1002450.0   110.7188   \n",
       "47   2.587  2.483  2.378  2.300  ...  28308246.0  1104300.0   111.7268   \n",
       "36   2.934  2.862  3.005  3.068  ...  20151733.0  2344858.0    42.2244   \n",
       "149  2.375  2.487  2.440  2.490  ...  35540990.0   783562.0   108.9145   \n",
       "91   2.518  2.473  2.416  2.398  ...  50289306.0  1964375.0    64.9082   \n",
       "9    2.068  2.152  2.206  2.114  ...    222555.0      765.0  1924.4876   \n",
       "104  2.581  2.602  2.719  2.767  ...  55569264.0   923768.0   236.5759   \n",
       "153  1.633  1.588  1.624  1.710  ...    298084.0    83600.0   112.9322   \n",
       "97   2.248  2.295  2.229  2.297  ...  27284112.0   676578.0    80.0784   \n",
       "148  2.036  2.044  2.038  1.944  ...   5047404.0   163610.0    75.5218   \n",
       "81   1.858  1.867  1.820  1.870  ...   1023481.0    30355.0    75.9620   \n",
       "\n",
       "     iso_two      Capital      Continent  growth_rate_10_22  \\\n",
       "20        bf  Ouagadougou         Africa           2.885371   \n",
       "139       sy     Damascus           Asia          -0.079554   \n",
       "83        ly      Tripoli         Africa           0.402198   \n",
       "160       ye        Sanaa           Asia           2.606871   \n",
       "152       ua         Kiev         Europe          -1.162619   \n",
       "23        cm      Yaounde         Africa           2.869843   \n",
       "88        ml       Bamako         Africa           3.173871   \n",
       "103       ne       Niamey         Africa           3.854092   \n",
       "0         af        Kabul           Asia           3.198007   \n",
       "102       ni      Managua  North America           1.435953   \n",
       "96        mz       Maputo         Africa           3.018742   \n",
       "18        br     Brasilia  South America           0.771112   \n",
       "158       ve      Caracas  South America          -0.120749   \n",
       "25        cf       Bangui         Africa           1.511353   \n",
       "41        eg        Cairo         Africa           2.025540   \n",
       "47        et  Addis Ababa         Africa           2.736470   \n",
       "36        cd     Kinshasa         Africa           3.386562   \n",
       "149       tr       Ankara           Asia           1.287602   \n",
       "91        mx  Mexico City  North America           1.046332   \n",
       "9         bh       Manama           Asia           1.622624   \n",
       "104       ng        Abuja         Africa           2.581621   \n",
       "153       ae    Abu Dhabi           Asia           0.896968   \n",
       "97        mm  Nay Pyi Taw           Asia           0.774073   \n",
       "148       tn        Tunis         Africa           1.054197   \n",
       "81        ls       Maseru         Africa           1.097496   \n",
       "\n",
       "     growth_rate_70_22  growth_rate_00_15 growth_rate_70_15  \n",
       "20            2.721688           3.075597          2.713128  \n",
       "139           2.439131           1.096268          2.500956  \n",
       "83            2.476443           1.229967          2.649203  \n",
       "160           3.113015           2.879211          3.222315  \n",
       "152          -0.335346          -0.552391         -0.110590  \n",
       "23            2.856648           2.852637          2.865926  \n",
       "88            2.532756           3.232657          2.428098  \n",
       "103           3.372879           3.728916          3.299995  \n",
       "0             2.613424           3.710294          2.574589  \n",
       "102           2.029082           1.386481          2.125331  \n",
       "96            2.661657           2.788756          2.612187  \n",
       "18            1.557976           1.033042          1.693590  \n",
       "158           1.771707           1.497648          2.222108  \n",
       "25            1.927504           1.670041          1.898610  \n",
       "41            2.256508           2.117088          2.322210  \n",
       "47            2.871444           2.869879          2.900000  \n",
       "36            3.108752           3.259572          3.072489  \n",
       "149           1.698829           1.456765          1.809301  \n",
       "91            1.805248           1.376487          1.954290  \n",
       "9             3.700201           4.425250          4.108002  \n",
       "104           2.668334           2.729470          2.696339  \n",
       "153           6.870867           6.904805          7.844308  \n",
       "97            1.327960           0.821460          1.421037  \n",
       "148           1.736593           1.042054          1.858129  \n",
       "81            1.574241           0.389130          1.629825  \n",
       "\n",
       "[25 rows x 38 columns]"
      ]
     },
     "execution_count": 231,
     "metadata": {},
     "output_type": "execute_result"
    }
   ],
   "source": [
    "safety = safety.sort_values('growth_rate_10_22')\n",
    "top5_lowgrowth = safety.head(25)\n",
    "\n",
    "safety = safety.sort_values('change', ascending=False)\n",
    "top5_lessafe = safety.head(25)\n",
    "\n",
    "top5_lessafe"
   ]
  },
  {
   "cell_type": "code",
   "execution_count": null,
   "id": "2436748a",
   "metadata": {},
   "outputs": [],
   "source": []
  },
  {
   "cell_type": "markdown",
   "id": "e7d3d837",
   "metadata": {},
   "source": [
    "# Education"
   ]
  },
  {
   "cell_type": "code",
   "execution_count": 261,
   "id": "123afa53",
   "metadata": {},
   "outputs": [
    {
     "data": {
      "text/plain": [
       "['iso_two',\n",
       " 'BLcode',\n",
       " 'year',\n",
       " 'sex',\n",
       " 'agefrom',\n",
       " 'ageto',\n",
       " 'lu',\n",
       " 'yr_sch',\n",
       " 'WBcode',\n",
       " 'pop',\n",
       " 'geo_country',\n",
       " 'Unnamed: 0',\n",
       " 'country',\n",
       " 'iso_map',\n",
       " '2022_pop',\n",
       " '2020_pop',\n",
       " '2015_pop',\n",
       " '2010_pop',\n",
       " '2000_pop',\n",
       " '1990_pop',\n",
       " '1980_pop',\n",
       " '1970_pop',\n",
       " 'area (km)',\n",
       " 'density',\n",
       " 'iso_three',\n",
       " 'Capital',\n",
       " 'Continent',\n",
       " 'growth_rate_10_22',\n",
       " 'growth_rate_70_22',\n",
       " 'growth_rate_00_15',\n",
       " 'growth_rate_70_15']"
      ]
     },
     "execution_count": 261,
     "metadata": {},
     "output_type": "execute_result"
    }
   ],
   "source": [
    "education = pd.read_csv('Datasets/education_cleaned.csv')\n",
    "education = pd.merge(education, growth, on='iso_two')\n",
    "# education.groupby(['iso_two', 'year'])['yr_sch'].sum()\n",
    "\n",
    "# education['year'].value_counts()\n",
    "list(education)"
   ]
  },
  {
   "cell_type": "code",
   "execution_count": 262,
   "id": "e780b825",
   "metadata": {},
   "outputs": [
    {
     "data": {
      "text/plain": [
       "iso_two               object\n",
       "BLcode                 int64\n",
       "year                   int64\n",
       "sex                   object\n",
       "agefrom                int64\n",
       "ageto                  int64\n",
       "lu                   float64\n",
       "yr_sch               float64\n",
       "WBcode                object\n",
       "pop                  float64\n",
       "geo_country           object\n",
       "Unnamed: 0             int64\n",
       "country               object\n",
       "iso_map               object\n",
       "2022_pop               int64\n",
       "2020_pop               int64\n",
       "2015_pop               int64\n",
       "2010_pop               int64\n",
       "2000_pop               int64\n",
       "1990_pop               int64\n",
       "1980_pop               int64\n",
       "1970_pop               int64\n",
       "area (km)              int64\n",
       "density              float64\n",
       "iso_three             object\n",
       "Capital               object\n",
       "Continent             object\n",
       "growth_rate_10_22    float64\n",
       "growth_rate_70_22    float64\n",
       "growth_rate_00_15    float64\n",
       "growth_rate_70_15    float64\n",
       "70-15                 object\n",
       "dtype: object"
      ]
     },
     "execution_count": 262,
     "metadata": {},
     "output_type": "execute_result"
    }
   ],
   "source": [
    "education['70-15'] = \"\"\n",
    "\n",
    "education = education.sort_values(['geo_country', 'year'])\n",
    "\n",
    "education.dtypes\n",
    "\n"
   ]
  },
  {
   "cell_type": "code",
   "execution_count": 263,
   "id": "1922c36e",
   "metadata": {},
   "outputs": [],
   "source": [
    "for index, row in education.iterrows():\n",
    "    if education.loc[index, 'year'] == 1970:\n",
    "        store70 = education.loc[index, 'yr_sch']\n",
    "    if education.loc[index, 'year'] == 2015:\n",
    "        change = education.loc[index, 'yr_sch'] - store70\n",
    "        education.loc[index, '70-15'] = change.round(2)\n",
    "        \n",
    "#     #Drop outliers\n",
    "#     if education.loc[index, 'WBcode'] == 'QAT':\n",
    "#         education = education.drop(labels=index, axis=0)\n",
    "#     if education.loc[index, 'WBcode'] == 'ARE':\n",
    "#         education = education.drop(labels=index, axis=0)\n",
    "        \n",
    "education = education.loc[education['year'] == 2015]\n",
    "\n",
    "# education = education['70-15'].astype(float)\n",
    "\n",
    "education.to_csv('Datasets/checkeduu.csv')"
   ]
  },
  {
   "cell_type": "code",
   "execution_count": 259,
   "id": "99936b13",
   "metadata": {},
   "outputs": [
    {
     "data": {
      "text/html": [
       "<div>\n",
       "<style scoped>\n",
       "    .dataframe tbody tr th:only-of-type {\n",
       "        vertical-align: middle;\n",
       "    }\n",
       "\n",
       "    .dataframe tbody tr th {\n",
       "        vertical-align: top;\n",
       "    }\n",
       "\n",
       "    .dataframe thead th {\n",
       "        text-align: right;\n",
       "    }\n",
       "</style>\n",
       "<table border=\"1\" class=\"dataframe\">\n",
       "  <thead>\n",
       "    <tr style=\"text-align: right;\">\n",
       "      <th></th>\n",
       "      <th>iso_two</th>\n",
       "      <th>BLcode</th>\n",
       "      <th>year</th>\n",
       "      <th>sex</th>\n",
       "      <th>agefrom</th>\n",
       "      <th>ageto</th>\n",
       "      <th>lu</th>\n",
       "      <th>yr_sch</th>\n",
       "      <th>WBcode</th>\n",
       "      <th>pop</th>\n",
       "      <th>...</th>\n",
       "      <th>area (km)</th>\n",
       "      <th>density</th>\n",
       "      <th>iso_three</th>\n",
       "      <th>Capital</th>\n",
       "      <th>Continent</th>\n",
       "      <th>growth_rate_10_22</th>\n",
       "      <th>growth_rate_70_22</th>\n",
       "      <th>growth_rate_00_15</th>\n",
       "      <th>growth_rate_70_15</th>\n",
       "      <th>70-15</th>\n",
       "    </tr>\n",
       "  </thead>\n",
       "  <tbody>\n",
       "    <tr>\n",
       "      <th>1064</th>\n",
       "      <td>lv</td>\n",
       "      <td>324</td>\n",
       "      <td>1995</td>\n",
       "      <td>MF</td>\n",
       "      <td>15</td>\n",
       "      <td>64</td>\n",
       "      <td>0.23</td>\n",
       "      <td>9.827</td>\n",
       "      <td>LVA</td>\n",
       "      <td>1635.0</td>\n",
       "      <td>...</td>\n",
       "      <td>64559</td>\n",
       "      <td>28.6660</td>\n",
       "      <td>lva</td>\n",
       "      <td>Riga</td>\n",
       "      <td>Europe</td>\n",
       "      <td>-1.053810</td>\n",
       "      <td>-0.496558</td>\n",
       "      <td>-1.214135</td>\n",
       "      <td>-0.410874</td>\n",
       "      <td></td>\n",
       "    </tr>\n",
       "    <tr>\n",
       "      <th>1066</th>\n",
       "      <td>lv</td>\n",
       "      <td>324</td>\n",
       "      <td>1990</td>\n",
       "      <td>MF</td>\n",
       "      <td>15</td>\n",
       "      <td>64</td>\n",
       "      <td>0.18</td>\n",
       "      <td>8.860</td>\n",
       "      <td>LVA</td>\n",
       "      <td>1808.0</td>\n",
       "      <td>...</td>\n",
       "      <td>64559</td>\n",
       "      <td>28.6660</td>\n",
       "      <td>lva</td>\n",
       "      <td>Riga</td>\n",
       "      <td>Europe</td>\n",
       "      <td>-1.053810</td>\n",
       "      <td>-0.496558</td>\n",
       "      <td>-1.214135</td>\n",
       "      <td>-0.410874</td>\n",
       "      <td></td>\n",
       "    </tr>\n",
       "    <tr>\n",
       "      <th>1069</th>\n",
       "      <td>lv</td>\n",
       "      <td>324</td>\n",
       "      <td>1975</td>\n",
       "      <td>MF</td>\n",
       "      <td>15</td>\n",
       "      <td>64</td>\n",
       "      <td>1.10</td>\n",
       "      <td>6.292</td>\n",
       "      <td>LVA</td>\n",
       "      <td>1627.0</td>\n",
       "      <td>...</td>\n",
       "      <td>64559</td>\n",
       "      <td>28.6660</td>\n",
       "      <td>lva</td>\n",
       "      <td>Riga</td>\n",
       "      <td>Europe</td>\n",
       "      <td>-1.053810</td>\n",
       "      <td>-0.496558</td>\n",
       "      <td>-1.214135</td>\n",
       "      <td>-0.410874</td>\n",
       "      <td></td>\n",
       "    </tr>\n",
       "    <tr>\n",
       "      <th>1075</th>\n",
       "      <td>lv</td>\n",
       "      <td>324</td>\n",
       "      <td>2000</td>\n",
       "      <td>MF</td>\n",
       "      <td>15</td>\n",
       "      <td>64</td>\n",
       "      <td>0.20</td>\n",
       "      <td>10.666</td>\n",
       "      <td>LVA</td>\n",
       "      <td>1587.0</td>\n",
       "      <td>...</td>\n",
       "      <td>64559</td>\n",
       "      <td>28.6660</td>\n",
       "      <td>lva</td>\n",
       "      <td>Riga</td>\n",
       "      <td>Europe</td>\n",
       "      <td>-1.053810</td>\n",
       "      <td>-0.496558</td>\n",
       "      <td>-1.214135</td>\n",
       "      <td>-0.410874</td>\n",
       "      <td></td>\n",
       "    </tr>\n",
       "    <tr>\n",
       "      <th>1076</th>\n",
       "      <td>lv</td>\n",
       "      <td>324</td>\n",
       "      <td>2005</td>\n",
       "      <td>MF</td>\n",
       "      <td>15</td>\n",
       "      <td>64</td>\n",
       "      <td>0.39</td>\n",
       "      <td>11.051</td>\n",
       "      <td>LVA</td>\n",
       "      <td>1579.0</td>\n",
       "      <td>...</td>\n",
       "      <td>64559</td>\n",
       "      <td>28.6660</td>\n",
       "      <td>lva</td>\n",
       "      <td>Riga</td>\n",
       "      <td>Europe</td>\n",
       "      <td>-1.053810</td>\n",
       "      <td>-0.496558</td>\n",
       "      <td>-1.214135</td>\n",
       "      <td>-0.410874</td>\n",
       "      <td></td>\n",
       "    </tr>\n",
       "    <tr>\n",
       "      <th>...</th>\n",
       "      <td>...</td>\n",
       "      <td>...</td>\n",
       "      <td>...</td>\n",
       "      <td>...</td>\n",
       "      <td>...</td>\n",
       "      <td>...</td>\n",
       "      <td>...</td>\n",
       "      <td>...</td>\n",
       "      <td>...</td>\n",
       "      <td>...</td>\n",
       "      <td>...</td>\n",
       "      <td>...</td>\n",
       "      <td>...</td>\n",
       "      <td>...</td>\n",
       "      <td>...</td>\n",
       "      <td>...</td>\n",
       "      <td>...</td>\n",
       "      <td>...</td>\n",
       "      <td>...</td>\n",
       "      <td>...</td>\n",
       "      <td>...</td>\n",
       "    </tr>\n",
       "    <tr>\n",
       "      <th>3</th>\n",
       "      <td>ae</td>\n",
       "      <td>105</td>\n",
       "      <td>1960</td>\n",
       "      <td>MF</td>\n",
       "      <td>15</td>\n",
       "      <td>64</td>\n",
       "      <td>82.81</td>\n",
       "      <td>1.618</td>\n",
       "      <td>ARE</td>\n",
       "      <td>49.0</td>\n",
       "      <td>...</td>\n",
       "      <td>83600</td>\n",
       "      <td>112.9322</td>\n",
       "      <td>are</td>\n",
       "      <td>Abu Dhabi</td>\n",
       "      <td>Asia</td>\n",
       "      <td>0.896968</td>\n",
       "      <td>6.870867</td>\n",
       "      <td>6.904805</td>\n",
       "      <td>7.844308</td>\n",
       "      <td></td>\n",
       "    </tr>\n",
       "    <tr>\n",
       "      <th>2</th>\n",
       "      <td>ae</td>\n",
       "      <td>105</td>\n",
       "      <td>1955</td>\n",
       "      <td>MF</td>\n",
       "      <td>15</td>\n",
       "      <td>64</td>\n",
       "      <td>86.66</td>\n",
       "      <td>1.241</td>\n",
       "      <td>ARE</td>\n",
       "      <td>44.0</td>\n",
       "      <td>...</td>\n",
       "      <td>83600</td>\n",
       "      <td>112.9322</td>\n",
       "      <td>are</td>\n",
       "      <td>Abu Dhabi</td>\n",
       "      <td>Asia</td>\n",
       "      <td>0.896968</td>\n",
       "      <td>6.870867</td>\n",
       "      <td>6.904805</td>\n",
       "      <td>7.844308</td>\n",
       "      <td></td>\n",
       "    </tr>\n",
       "    <tr>\n",
       "      <th>1</th>\n",
       "      <td>ae</td>\n",
       "      <td>105</td>\n",
       "      <td>1950</td>\n",
       "      <td>MF</td>\n",
       "      <td>15</td>\n",
       "      <td>64</td>\n",
       "      <td>90.38</td>\n",
       "      <td>0.863</td>\n",
       "      <td>ARE</td>\n",
       "      <td>38.0</td>\n",
       "      <td>...</td>\n",
       "      <td>83600</td>\n",
       "      <td>112.9322</td>\n",
       "      <td>are</td>\n",
       "      <td>Abu Dhabi</td>\n",
       "      <td>Asia</td>\n",
       "      <td>0.896968</td>\n",
       "      <td>6.870867</td>\n",
       "      <td>6.904805</td>\n",
       "      <td>7.844308</td>\n",
       "      <td></td>\n",
       "    </tr>\n",
       "    <tr>\n",
       "      <th>7</th>\n",
       "      <td>ae</td>\n",
       "      <td>105</td>\n",
       "      <td>1980</td>\n",
       "      <td>MF</td>\n",
       "      <td>15</td>\n",
       "      <td>64</td>\n",
       "      <td>61.18</td>\n",
       "      <td>3.952</td>\n",
       "      <td>ARE</td>\n",
       "      <td>713.0</td>\n",
       "      <td>...</td>\n",
       "      <td>83600</td>\n",
       "      <td>112.9322</td>\n",
       "      <td>are</td>\n",
       "      <td>Abu Dhabi</td>\n",
       "      <td>Asia</td>\n",
       "      <td>0.896968</td>\n",
       "      <td>6.870867</td>\n",
       "      <td>6.904805</td>\n",
       "      <td>7.844308</td>\n",
       "      <td></td>\n",
       "    </tr>\n",
       "    <tr>\n",
       "      <th>12</th>\n",
       "      <td>ae</td>\n",
       "      <td>105</td>\n",
       "      <td>2015</td>\n",
       "      <td>MF</td>\n",
       "      <td>15</td>\n",
       "      <td>64</td>\n",
       "      <td>4.79</td>\n",
       "      <td>11.736</td>\n",
       "      <td>ARE</td>\n",
       "      <td>7864.0</td>\n",
       "      <td>...</td>\n",
       "      <td>83600</td>\n",
       "      <td>112.9322</td>\n",
       "      <td>are</td>\n",
       "      <td>Abu Dhabi</td>\n",
       "      <td>Asia</td>\n",
       "      <td>0.896968</td>\n",
       "      <td>6.870867</td>\n",
       "      <td>6.904805</td>\n",
       "      <td>7.844308</td>\n",
       "      <td></td>\n",
       "    </tr>\n",
       "  </tbody>\n",
       "</table>\n",
       "<p>1959 rows × 32 columns</p>\n",
       "</div>"
      ],
      "text/plain": [
       "     iso_two  BLcode  year sex  agefrom  ageto     lu  yr_sch WBcode     pop  \\\n",
       "1064      lv     324  1995  MF       15     64   0.23   9.827    LVA  1635.0   \n",
       "1066      lv     324  1990  MF       15     64   0.18   8.860    LVA  1808.0   \n",
       "1069      lv     324  1975  MF       15     64   1.10   6.292    LVA  1627.0   \n",
       "1075      lv     324  2000  MF       15     64   0.20  10.666    LVA  1587.0   \n",
       "1076      lv     324  2005  MF       15     64   0.39  11.051    LVA  1579.0   \n",
       "...      ...     ...   ...  ..      ...    ...    ...     ...    ...     ...   \n",
       "3         ae     105  1960  MF       15     64  82.81   1.618    ARE    49.0   \n",
       "2         ae     105  1955  MF       15     64  86.66   1.241    ARE    44.0   \n",
       "1         ae     105  1950  MF       15     64  90.38   0.863    ARE    38.0   \n",
       "7         ae     105  1980  MF       15     64  61.18   3.952    ARE   713.0   \n",
       "12        ae     105  2015  MF       15     64   4.79  11.736    ARE  7864.0   \n",
       "\n",
       "      ... area (km)   density iso_three    Capital  Continent  \\\n",
       "1064  ...     64559   28.6660       lva       Riga     Europe   \n",
       "1066  ...     64559   28.6660       lva       Riga     Europe   \n",
       "1069  ...     64559   28.6660       lva       Riga     Europe   \n",
       "1075  ...     64559   28.6660       lva       Riga     Europe   \n",
       "1076  ...     64559   28.6660       lva       Riga     Europe   \n",
       "...   ...       ...       ...       ...        ...        ...   \n",
       "3     ...     83600  112.9322       are  Abu Dhabi       Asia   \n",
       "2     ...     83600  112.9322       are  Abu Dhabi       Asia   \n",
       "1     ...     83600  112.9322       are  Abu Dhabi       Asia   \n",
       "7     ...     83600  112.9322       are  Abu Dhabi       Asia   \n",
       "12    ...     83600  112.9322       are  Abu Dhabi       Asia   \n",
       "\n",
       "      growth_rate_10_22  growth_rate_70_22  growth_rate_00_15  \\\n",
       "1064          -1.053810          -0.496558          -1.214135   \n",
       "1066          -1.053810          -0.496558          -1.214135   \n",
       "1069          -1.053810          -0.496558          -1.214135   \n",
       "1075          -1.053810          -0.496558          -1.214135   \n",
       "1076          -1.053810          -0.496558          -1.214135   \n",
       "...                 ...                ...                ...   \n",
       "3              0.896968           6.870867           6.904805   \n",
       "2              0.896968           6.870867           6.904805   \n",
       "1              0.896968           6.870867           6.904805   \n",
       "7              0.896968           6.870867           6.904805   \n",
       "12             0.896968           6.870867           6.904805   \n",
       "\n",
       "      growth_rate_70_15  70-15  \n",
       "1064          -0.410874         \n",
       "1066          -0.410874         \n",
       "1069          -0.410874         \n",
       "1075          -0.410874         \n",
       "1076          -0.410874         \n",
       "...                 ...    ...  \n",
       "3              7.844308         \n",
       "2              7.844308         \n",
       "1              7.844308         \n",
       "7              7.844308         \n",
       "12             7.844308         \n",
       "\n",
       "[1959 rows x 32 columns]"
      ]
     },
     "execution_count": 259,
     "metadata": {},
     "output_type": "execute_result"
    }
   ],
   "source": [
    "education.sort_values('growth_rate_70_15')"
   ]
  },
  {
   "cell_type": "code",
   "execution_count": 251,
   "id": "d2870210",
   "metadata": {},
   "outputs": [
    {
     "ename": "ValueError",
     "evalue": "Value of 'hover_name' is not the name of a column in 'data_frame'. Expected one of ['70-15'] but received: country",
     "output_type": "error",
     "traceback": [
      "\u001b[1;31m---------------------------------------------------------------------------\u001b[0m",
      "\u001b[1;31mValueError\u001b[0m                                Traceback (most recent call last)",
      "Cell \u001b[1;32mIn[251], line 4\u001b[0m\n\u001b[0;32m      1\u001b[0m education \u001b[38;5;241m=\u001b[39m education[\u001b[38;5;124m'\u001b[39m\u001b[38;5;124m70-15\u001b[39m\u001b[38;5;124m'\u001b[39m]\u001b[38;5;241m.\u001b[39mastype(\u001b[38;5;28mfloat\u001b[39m)\n\u001b[0;32m      3\u001b[0m \u001b[38;5;66;03m#Show the map of change in years of schooling\u001b[39;00m\n\u001b[1;32m----> 4\u001b[0m fig \u001b[38;5;241m=\u001b[39m \u001b[43mpx\u001b[49m\u001b[38;5;241;43m.\u001b[39;49m\u001b[43mchoropleth\u001b[49m\u001b[43m(\u001b[49m\u001b[43meducation\u001b[49m\u001b[43m,\u001b[49m\u001b[43m \u001b[49m\u001b[43mlocations\u001b[49m\u001b[38;5;241;43m=\u001b[39;49m\u001b[38;5;124;43m\"\u001b[39;49m\u001b[38;5;124;43mWBcode\u001b[39;49m\u001b[38;5;124;43m\"\u001b[39;49m\u001b[43m,\u001b[49m\n\u001b[0;32m      5\u001b[0m \u001b[43m                    \u001b[49m\u001b[43mcolor\u001b[49m\u001b[38;5;241;43m=\u001b[39;49m\u001b[38;5;124;43m\"\u001b[39;49m\u001b[38;5;124;43m70-15\u001b[39;49m\u001b[38;5;124;43m\"\u001b[39;49m\u001b[43m,\u001b[49m\u001b[43m \u001b[49m\n\u001b[0;32m      6\u001b[0m \u001b[43m                    \u001b[49m\u001b[43mhover_name\u001b[49m\u001b[38;5;241;43m=\u001b[39;49m\u001b[38;5;124;43m\"\u001b[39;49m\u001b[38;5;124;43mcountry\u001b[39;49m\u001b[38;5;124;43m\"\u001b[39;49m\u001b[43m,\u001b[49m\n\u001b[0;32m      7\u001b[0m \u001b[43m                    \u001b[49m\u001b[43mcolor_continuous_scale\u001b[49m\u001b[38;5;241;43m=\u001b[39;49m\u001b[43mpx\u001b[49m\u001b[38;5;241;43m.\u001b[39;49m\u001b[43mcolors\u001b[49m\u001b[38;5;241;43m.\u001b[39;49m\u001b[43msequential\u001b[49m\u001b[38;5;241;43m.\u001b[39;49m\u001b[43mRdBu\u001b[49m\u001b[43m,\u001b[49m\n\u001b[0;32m      8\u001b[0m \u001b[43m                    \u001b[49m\u001b[43mlabels\u001b[49m\u001b[43m \u001b[49m\u001b[38;5;241;43m=\u001b[39;49m\u001b[43m \u001b[49m\u001b[43m{\u001b[49m\u001b[38;5;124;43m'\u001b[39;49m\u001b[38;5;124;43m70-15\u001b[39;49m\u001b[38;5;124;43m'\u001b[39;49m\u001b[43m:\u001b[49m\u001b[43m \u001b[49m\u001b[38;5;124;43m'\u001b[39;49m\u001b[38;5;124;43mChange in average schooling\u001b[39;49m\u001b[38;5;124;43m'\u001b[39;49m\u001b[43m,\u001b[49m\n\u001b[0;32m      9\u001b[0m \u001b[43m                              \u001b[49m\u001b[38;5;124;43m'\u001b[39;49m\u001b[38;5;124;43mWBcode\u001b[39;49m\u001b[38;5;124;43m'\u001b[39;49m\u001b[43m:\u001b[49m\u001b[43m \u001b[49m\u001b[38;5;124;43m'\u001b[39;49m\u001b[38;5;124;43mCountry\u001b[39;49m\u001b[38;5;124;43m'\u001b[39;49m\u001b[43m}\u001b[49m\u001b[43m,\u001b[49m\u001b[43m \u001b[49m\n\u001b[0;32m     10\u001b[0m \u001b[43m                    \u001b[49m\u001b[43mtitle\u001b[49m\u001b[38;5;241;43m=\u001b[39;49m\u001b[38;5;124;43m\"\u001b[39;49m\u001b[38;5;124;43mChange in average schooling from 2010 to 2022\u001b[39;49m\u001b[38;5;124;43m\"\u001b[39;49m\u001b[43m)\u001b[49m\n\u001b[0;32m     12\u001b[0m fig\u001b[38;5;241m.\u001b[39mshow()\n",
      "File \u001b[1;32m~\\anaconda3\\envs\\dev\\lib\\site-packages\\plotly\\express\\_chart_types.py:1091\u001b[0m, in \u001b[0;36mchoropleth\u001b[1;34m(data_frame, lat, lon, locations, locationmode, geojson, featureidkey, color, facet_row, facet_col, facet_col_wrap, facet_row_spacing, facet_col_spacing, hover_name, hover_data, custom_data, animation_frame, animation_group, category_orders, labels, color_discrete_sequence, color_discrete_map, color_continuous_scale, range_color, color_continuous_midpoint, projection, scope, center, fitbounds, basemap_visible, title, template, width, height)\u001b[0m\n\u001b[0;32m   1051\u001b[0m \u001b[38;5;28;01mdef\u001b[39;00m \u001b[38;5;21mchoropleth\u001b[39m(\n\u001b[0;32m   1052\u001b[0m     data_frame\u001b[38;5;241m=\u001b[39m\u001b[38;5;28;01mNone\u001b[39;00m,\n\u001b[0;32m   1053\u001b[0m     lat\u001b[38;5;241m=\u001b[39m\u001b[38;5;28;01mNone\u001b[39;00m,\n\u001b[1;32m   (...)\u001b[0m\n\u001b[0;32m   1085\u001b[0m     height\u001b[38;5;241m=\u001b[39m\u001b[38;5;28;01mNone\u001b[39;00m,\n\u001b[0;32m   1086\u001b[0m ) \u001b[38;5;241m-\u001b[39m\u001b[38;5;241m>\u001b[39m go\u001b[38;5;241m.\u001b[39mFigure:\n\u001b[0;32m   1087\u001b[0m     \u001b[38;5;124;03m\"\"\"\u001b[39;00m\n\u001b[0;32m   1088\u001b[0m \u001b[38;5;124;03m    In a choropleth map, each row of `data_frame` is represented by a\u001b[39;00m\n\u001b[0;32m   1089\u001b[0m \u001b[38;5;124;03m    colored region mark on a map.\u001b[39;00m\n\u001b[0;32m   1090\u001b[0m \u001b[38;5;124;03m    \"\"\"\u001b[39;00m\n\u001b[1;32m-> 1091\u001b[0m     \u001b[38;5;28;01mreturn\u001b[39;00m \u001b[43mmake_figure\u001b[49m\u001b[43m(\u001b[49m\n\u001b[0;32m   1092\u001b[0m \u001b[43m        \u001b[49m\u001b[43margs\u001b[49m\u001b[38;5;241;43m=\u001b[39;49m\u001b[38;5;28;43mlocals\u001b[39;49m\u001b[43m(\u001b[49m\u001b[43m)\u001b[49m\u001b[43m,\u001b[49m\n\u001b[0;32m   1093\u001b[0m \u001b[43m        \u001b[49m\u001b[43mconstructor\u001b[49m\u001b[38;5;241;43m=\u001b[39;49m\u001b[43mgo\u001b[49m\u001b[38;5;241;43m.\u001b[39;49m\u001b[43mChoropleth\u001b[49m\u001b[43m,\u001b[49m\n\u001b[0;32m   1094\u001b[0m \u001b[43m        \u001b[49m\u001b[43mtrace_patch\u001b[49m\u001b[38;5;241;43m=\u001b[39;49m\u001b[38;5;28;43mdict\u001b[39;49m\u001b[43m(\u001b[49m\u001b[43mlocationmode\u001b[49m\u001b[38;5;241;43m=\u001b[39;49m\u001b[43mlocationmode\u001b[49m\u001b[43m)\u001b[49m\u001b[43m,\u001b[49m\n\u001b[0;32m   1095\u001b[0m \u001b[43m    \u001b[49m\u001b[43m)\u001b[49m\n",
      "File \u001b[1;32m~\\anaconda3\\envs\\dev\\lib\\site-packages\\plotly\\express\\_core.py:1990\u001b[0m, in \u001b[0;36mmake_figure\u001b[1;34m(args, constructor, trace_patch, layout_patch)\u001b[0m\n\u001b[0;32m   1987\u001b[0m layout_patch \u001b[38;5;241m=\u001b[39m layout_patch \u001b[38;5;129;01mor\u001b[39;00m {}\n\u001b[0;32m   1988\u001b[0m apply_default_cascade(args)\n\u001b[1;32m-> 1990\u001b[0m args \u001b[38;5;241m=\u001b[39m \u001b[43mbuild_dataframe\u001b[49m\u001b[43m(\u001b[49m\u001b[43margs\u001b[49m\u001b[43m,\u001b[49m\u001b[43m \u001b[49m\u001b[43mconstructor\u001b[49m\u001b[43m)\u001b[49m\n\u001b[0;32m   1991\u001b[0m \u001b[38;5;28;01mif\u001b[39;00m constructor \u001b[38;5;129;01min\u001b[39;00m [go\u001b[38;5;241m.\u001b[39mTreemap, go\u001b[38;5;241m.\u001b[39mSunburst, go\u001b[38;5;241m.\u001b[39mIcicle] \u001b[38;5;129;01mand\u001b[39;00m args[\u001b[38;5;124m\"\u001b[39m\u001b[38;5;124mpath\u001b[39m\u001b[38;5;124m\"\u001b[39m] \u001b[38;5;129;01mis\u001b[39;00m \u001b[38;5;129;01mnot\u001b[39;00m \u001b[38;5;28;01mNone\u001b[39;00m:\n\u001b[0;32m   1992\u001b[0m     args \u001b[38;5;241m=\u001b[39m process_dataframe_hierarchy(args)\n",
      "File \u001b[1;32m~\\anaconda3\\envs\\dev\\lib\\site-packages\\plotly\\express\\_core.py:1405\u001b[0m, in \u001b[0;36mbuild_dataframe\u001b[1;34m(args, constructor)\u001b[0m\n\u001b[0;32m   1402\u001b[0m     args[\u001b[38;5;124m\"\u001b[39m\u001b[38;5;124mcolor\u001b[39m\u001b[38;5;124m\"\u001b[39m] \u001b[38;5;241m=\u001b[39m \u001b[38;5;28;01mNone\u001b[39;00m\n\u001b[0;32m   1403\u001b[0m \u001b[38;5;66;03m# now that things have been prepped, we do the systematic rewriting of `args`\u001b[39;00m\n\u001b[1;32m-> 1405\u001b[0m df_output, wide_id_vars \u001b[38;5;241m=\u001b[39m \u001b[43mprocess_args_into_dataframe\u001b[49m\u001b[43m(\u001b[49m\n\u001b[0;32m   1406\u001b[0m \u001b[43m    \u001b[49m\u001b[43margs\u001b[49m\u001b[43m,\u001b[49m\u001b[43m \u001b[49m\u001b[43mwide_mode\u001b[49m\u001b[43m,\u001b[49m\u001b[43m \u001b[49m\u001b[43mvar_name\u001b[49m\u001b[43m,\u001b[49m\u001b[43m \u001b[49m\u001b[43mvalue_name\u001b[49m\n\u001b[0;32m   1407\u001b[0m \u001b[43m\u001b[49m\u001b[43m)\u001b[49m\n\u001b[0;32m   1409\u001b[0m \u001b[38;5;66;03m# now that `df_output` exists and `args` contains only references, we complete\u001b[39;00m\n\u001b[0;32m   1410\u001b[0m \u001b[38;5;66;03m# the special-case and wide-mode handling by further rewriting args and/or mutating\u001b[39;00m\n\u001b[0;32m   1411\u001b[0m \u001b[38;5;66;03m# df_output\u001b[39;00m\n\u001b[0;32m   1413\u001b[0m count_name \u001b[38;5;241m=\u001b[39m _escape_col_name(df_output, \u001b[38;5;124m\"\u001b[39m\u001b[38;5;124mcount\u001b[39m\u001b[38;5;124m\"\u001b[39m, [var_name, value_name])\n",
      "File \u001b[1;32m~\\anaconda3\\envs\\dev\\lib\\site-packages\\plotly\\express\\_core.py:1207\u001b[0m, in \u001b[0;36mprocess_args_into_dataframe\u001b[1;34m(args, wide_mode, var_name, value_name)\u001b[0m\n\u001b[0;32m   1205\u001b[0m         \u001b[38;5;28;01mif\u001b[39;00m argument \u001b[38;5;241m==\u001b[39m \u001b[38;5;124m\"\u001b[39m\u001b[38;5;124mindex\u001b[39m\u001b[38;5;124m\"\u001b[39m:\n\u001b[0;32m   1206\u001b[0m             err_msg \u001b[38;5;241m+\u001b[39m\u001b[38;5;241m=\u001b[39m \u001b[38;5;124m\"\u001b[39m\u001b[38;5;130;01m\\n\u001b[39;00m\u001b[38;5;124m To use the index, pass it in directly as `df.index`.\u001b[39m\u001b[38;5;124m\"\u001b[39m\n\u001b[1;32m-> 1207\u001b[0m         \u001b[38;5;28;01mraise\u001b[39;00m \u001b[38;5;167;01mValueError\u001b[39;00m(err_msg)\n\u001b[0;32m   1208\u001b[0m \u001b[38;5;28;01melif\u001b[39;00m length \u001b[38;5;129;01mand\u001b[39;00m \u001b[38;5;28mlen\u001b[39m(df_input[argument]) \u001b[38;5;241m!=\u001b[39m length:\n\u001b[0;32m   1209\u001b[0m     \u001b[38;5;28;01mraise\u001b[39;00m \u001b[38;5;167;01mValueError\u001b[39;00m(\n\u001b[0;32m   1210\u001b[0m         \u001b[38;5;124m\"\u001b[39m\u001b[38;5;124mAll arguments should have the same length. \u001b[39m\u001b[38;5;124m\"\u001b[39m\n\u001b[0;32m   1211\u001b[0m         \u001b[38;5;124m\"\u001b[39m\u001b[38;5;124mThe length of column argument `df[\u001b[39m\u001b[38;5;132;01m%s\u001b[39;00m\u001b[38;5;124m]` is \u001b[39m\u001b[38;5;132;01m%d\u001b[39;00m\u001b[38;5;124m, whereas the \u001b[39m\u001b[38;5;124m\"\u001b[39m\n\u001b[1;32m   (...)\u001b[0m\n\u001b[0;32m   1218\u001b[0m         )\n\u001b[0;32m   1219\u001b[0m     )\n",
      "\u001b[1;31mValueError\u001b[0m: Value of 'hover_name' is not the name of a column in 'data_frame'. Expected one of ['70-15'] but received: country"
     ]
    }
   ],
   "source": [
    "\n",
    "\n",
    "#Show the map of change in years of schooling\n",
    "fig = px.choropleth(education, locations=\"WBcode\",\n",
    "                    color=\"70-15\", \n",
    "                    hover_name=\"country\",\n",
    "                    color_continuous_scale=px.colors.sequential.RdBu,\n",
    "                    labels = {'70-15': 'Change in average schooling',\n",
    "                              'WBcode': 'Country'}, \n",
    "                    title=\"Change in average schooling from 2010 to 2022\")\n",
    "\n",
    "fig.show()"
   ]
  },
  {
   "cell_type": "code",
   "execution_count": 260,
   "id": "0154cf12",
   "metadata": {},
   "outputs": [
    {
     "ename": "TypeError",
     "evalue": "'value' must be an instance of str or bytes, not a numpy.float64",
     "output_type": "error",
     "traceback": [
      "\u001b[1;31m---------------------------------------------------------------------------\u001b[0m",
      "\u001b[1;31mTypeError\u001b[0m                                 Traceback (most recent call last)",
      "Cell \u001b[1;32mIn[260], line 1\u001b[0m\n\u001b[1;32m----> 1\u001b[0m \u001b[43mplt\u001b[49m\u001b[38;5;241;43m.\u001b[39;49m\u001b[43mscatter\u001b[49m\u001b[43m(\u001b[49m\u001b[43meducation\u001b[49m\u001b[43m[\u001b[49m\u001b[38;5;124;43m'\u001b[39;49m\u001b[38;5;124;43m70-15\u001b[39;49m\u001b[38;5;124;43m'\u001b[39;49m\u001b[43m]\u001b[49m\u001b[43m,\u001b[49m\u001b[43m \u001b[49m\u001b[43meducation\u001b[49m\u001b[43m[\u001b[49m\u001b[38;5;124;43m'\u001b[39;49m\u001b[38;5;124;43mgrowth_rate_70_15\u001b[39;49m\u001b[38;5;124;43m'\u001b[39;49m\u001b[43m]\u001b[49m\u001b[43m)\u001b[49m\n\u001b[0;32m      2\u001b[0m plt\u001b[38;5;241m.\u001b[39mxlabel(\u001b[38;5;124m'\u001b[39m\u001b[38;5;124mAverage years of schooling change from 1970 to 2015\u001b[39m\u001b[38;5;124m'\u001b[39m)\n\u001b[0;32m      3\u001b[0m plt\u001b[38;5;241m.\u001b[39mtitle(\u001b[38;5;124m'\u001b[39m\u001b[38;5;124mYears of Schooling versus Growth Rate\u001b[39m\u001b[38;5;124m'\u001b[39m)\n",
      "File \u001b[1;32m~\\anaconda3\\envs\\dev\\lib\\site-packages\\matplotlib\\pyplot.py:2862\u001b[0m, in \u001b[0;36mscatter\u001b[1;34m(x, y, s, c, marker, cmap, norm, vmin, vmax, alpha, linewidths, edgecolors, plotnonfinite, data, **kwargs)\u001b[0m\n\u001b[0;32m   2857\u001b[0m \u001b[38;5;129m@_copy_docstring_and_deprecators\u001b[39m(Axes\u001b[38;5;241m.\u001b[39mscatter)\n\u001b[0;32m   2858\u001b[0m \u001b[38;5;28;01mdef\u001b[39;00m \u001b[38;5;21mscatter\u001b[39m(\n\u001b[0;32m   2859\u001b[0m         x, y, s\u001b[38;5;241m=\u001b[39m\u001b[38;5;28;01mNone\u001b[39;00m, c\u001b[38;5;241m=\u001b[39m\u001b[38;5;28;01mNone\u001b[39;00m, marker\u001b[38;5;241m=\u001b[39m\u001b[38;5;28;01mNone\u001b[39;00m, cmap\u001b[38;5;241m=\u001b[39m\u001b[38;5;28;01mNone\u001b[39;00m, norm\u001b[38;5;241m=\u001b[39m\u001b[38;5;28;01mNone\u001b[39;00m,\n\u001b[0;32m   2860\u001b[0m         vmin\u001b[38;5;241m=\u001b[39m\u001b[38;5;28;01mNone\u001b[39;00m, vmax\u001b[38;5;241m=\u001b[39m\u001b[38;5;28;01mNone\u001b[39;00m, alpha\u001b[38;5;241m=\u001b[39m\u001b[38;5;28;01mNone\u001b[39;00m, linewidths\u001b[38;5;241m=\u001b[39m\u001b[38;5;28;01mNone\u001b[39;00m, \u001b[38;5;241m*\u001b[39m,\n\u001b[0;32m   2861\u001b[0m         edgecolors\u001b[38;5;241m=\u001b[39m\u001b[38;5;28;01mNone\u001b[39;00m, plotnonfinite\u001b[38;5;241m=\u001b[39m\u001b[38;5;28;01mFalse\u001b[39;00m, data\u001b[38;5;241m=\u001b[39m\u001b[38;5;28;01mNone\u001b[39;00m, \u001b[38;5;241m*\u001b[39m\u001b[38;5;241m*\u001b[39mkwargs):\n\u001b[1;32m-> 2862\u001b[0m     __ret \u001b[38;5;241m=\u001b[39m gca()\u001b[38;5;241m.\u001b[39mscatter(\n\u001b[0;32m   2863\u001b[0m         x, y, s\u001b[38;5;241m=\u001b[39ms, c\u001b[38;5;241m=\u001b[39mc, marker\u001b[38;5;241m=\u001b[39mmarker, cmap\u001b[38;5;241m=\u001b[39mcmap, norm\u001b[38;5;241m=\u001b[39mnorm,\n\u001b[0;32m   2864\u001b[0m         vmin\u001b[38;5;241m=\u001b[39mvmin, vmax\u001b[38;5;241m=\u001b[39mvmax, alpha\u001b[38;5;241m=\u001b[39malpha, linewidths\u001b[38;5;241m=\u001b[39mlinewidths,\n\u001b[0;32m   2865\u001b[0m         edgecolors\u001b[38;5;241m=\u001b[39medgecolors, plotnonfinite\u001b[38;5;241m=\u001b[39mplotnonfinite,\n\u001b[0;32m   2866\u001b[0m         \u001b[38;5;241m*\u001b[39m\u001b[38;5;241m*\u001b[39m({\u001b[38;5;124m\"\u001b[39m\u001b[38;5;124mdata\u001b[39m\u001b[38;5;124m\"\u001b[39m: data} \u001b[38;5;28;01mif\u001b[39;00m data \u001b[38;5;129;01mis\u001b[39;00m \u001b[38;5;129;01mnot\u001b[39;00m \u001b[38;5;28;01mNone\u001b[39;00m \u001b[38;5;28;01melse\u001b[39;00m {}), \u001b[38;5;241m*\u001b[39m\u001b[38;5;241m*\u001b[39mkwargs)\n\u001b[0;32m   2867\u001b[0m     sci(__ret)\n\u001b[0;32m   2868\u001b[0m     \u001b[38;5;28;01mreturn\u001b[39;00m __ret\n",
      "File \u001b[1;32m~\\anaconda3\\envs\\dev\\lib\\site-packages\\matplotlib\\__init__.py:1442\u001b[0m, in \u001b[0;36m_preprocess_data.<locals>.inner\u001b[1;34m(ax, data, *args, **kwargs)\u001b[0m\n\u001b[0;32m   1439\u001b[0m \u001b[38;5;129m@functools\u001b[39m\u001b[38;5;241m.\u001b[39mwraps(func)\n\u001b[0;32m   1440\u001b[0m \u001b[38;5;28;01mdef\u001b[39;00m \u001b[38;5;21minner\u001b[39m(ax, \u001b[38;5;241m*\u001b[39margs, data\u001b[38;5;241m=\u001b[39m\u001b[38;5;28;01mNone\u001b[39;00m, \u001b[38;5;241m*\u001b[39m\u001b[38;5;241m*\u001b[39mkwargs):\n\u001b[0;32m   1441\u001b[0m     \u001b[38;5;28;01mif\u001b[39;00m data \u001b[38;5;129;01mis\u001b[39;00m \u001b[38;5;28;01mNone\u001b[39;00m:\n\u001b[1;32m-> 1442\u001b[0m         \u001b[38;5;28;01mreturn\u001b[39;00m func(ax, \u001b[38;5;241m*\u001b[39m\u001b[38;5;28mmap\u001b[39m(sanitize_sequence, args), \u001b[38;5;241m*\u001b[39m\u001b[38;5;241m*\u001b[39mkwargs)\n\u001b[0;32m   1444\u001b[0m     bound \u001b[38;5;241m=\u001b[39m new_sig\u001b[38;5;241m.\u001b[39mbind(ax, \u001b[38;5;241m*\u001b[39margs, \u001b[38;5;241m*\u001b[39m\u001b[38;5;241m*\u001b[39mkwargs)\n\u001b[0;32m   1445\u001b[0m     auto_label \u001b[38;5;241m=\u001b[39m (bound\u001b[38;5;241m.\u001b[39marguments\u001b[38;5;241m.\u001b[39mget(label_namer)\n\u001b[0;32m   1446\u001b[0m                   \u001b[38;5;129;01mor\u001b[39;00m bound\u001b[38;5;241m.\u001b[39mkwargs\u001b[38;5;241m.\u001b[39mget(label_namer))\n",
      "File \u001b[1;32m~\\anaconda3\\envs\\dev\\lib\\site-packages\\matplotlib\\axes\\_axes.py:4578\u001b[0m, in \u001b[0;36mAxes.scatter\u001b[1;34m(self, x, y, s, c, marker, cmap, norm, vmin, vmax, alpha, linewidths, edgecolors, plotnonfinite, **kwargs)\u001b[0m\n\u001b[0;32m   4468\u001b[0m \u001b[38;5;124;03m\"\"\"\u001b[39;00m\n\u001b[0;32m   4469\u001b[0m \u001b[38;5;124;03mA scatter plot of *y* vs. *x* with varying marker size and/or color.\u001b[39;00m\n\u001b[0;32m   4470\u001b[0m \n\u001b[1;32m   (...)\u001b[0m\n\u001b[0;32m   4575\u001b[0m \n\u001b[0;32m   4576\u001b[0m \u001b[38;5;124;03m\"\"\"\u001b[39;00m\n\u001b[0;32m   4577\u001b[0m \u001b[38;5;66;03m# Process **kwargs to handle aliases, conflicts with explicit kwargs:\u001b[39;00m\n\u001b[1;32m-> 4578\u001b[0m x, y \u001b[38;5;241m=\u001b[39m \u001b[38;5;28;43mself\u001b[39;49m\u001b[38;5;241;43m.\u001b[39;49m\u001b[43m_process_unit_info\u001b[49m\u001b[43m(\u001b[49m\u001b[43m[\u001b[49m\u001b[43m(\u001b[49m\u001b[38;5;124;43m\"\u001b[39;49m\u001b[38;5;124;43mx\u001b[39;49m\u001b[38;5;124;43m\"\u001b[39;49m\u001b[43m,\u001b[49m\u001b[43m \u001b[49m\u001b[43mx\u001b[49m\u001b[43m)\u001b[49m\u001b[43m,\u001b[49m\u001b[43m \u001b[49m\u001b[43m(\u001b[49m\u001b[38;5;124;43m\"\u001b[39;49m\u001b[38;5;124;43my\u001b[39;49m\u001b[38;5;124;43m\"\u001b[39;49m\u001b[43m,\u001b[49m\u001b[43m \u001b[49m\u001b[43my\u001b[49m\u001b[43m)\u001b[49m\u001b[43m]\u001b[49m\u001b[43m,\u001b[49m\u001b[43m \u001b[49m\u001b[43mkwargs\u001b[49m\u001b[43m)\u001b[49m\n\u001b[0;32m   4579\u001b[0m \u001b[38;5;66;03m# np.ma.ravel yields an ndarray, not a masked array,\u001b[39;00m\n\u001b[0;32m   4580\u001b[0m \u001b[38;5;66;03m# unless its argument is a masked array.\u001b[39;00m\n\u001b[0;32m   4581\u001b[0m x \u001b[38;5;241m=\u001b[39m np\u001b[38;5;241m.\u001b[39mma\u001b[38;5;241m.\u001b[39mravel(x)\n",
      "File \u001b[1;32m~\\anaconda3\\envs\\dev\\lib\\site-packages\\matplotlib\\axes\\_base.py:2549\u001b[0m, in \u001b[0;36m_AxesBase._process_unit_info\u001b[1;34m(self, datasets, kwargs, convert)\u001b[0m\n\u001b[0;32m   2547\u001b[0m     \u001b[38;5;66;03m# Update from data if axis is already set but no unit is set yet.\u001b[39;00m\n\u001b[0;32m   2548\u001b[0m     \u001b[38;5;28;01mif\u001b[39;00m axis \u001b[38;5;129;01mis\u001b[39;00m \u001b[38;5;129;01mnot\u001b[39;00m \u001b[38;5;28;01mNone\u001b[39;00m \u001b[38;5;129;01mand\u001b[39;00m data \u001b[38;5;129;01mis\u001b[39;00m \u001b[38;5;129;01mnot\u001b[39;00m \u001b[38;5;28;01mNone\u001b[39;00m \u001b[38;5;129;01mand\u001b[39;00m \u001b[38;5;129;01mnot\u001b[39;00m axis\u001b[38;5;241m.\u001b[39mhave_units():\n\u001b[1;32m-> 2549\u001b[0m         \u001b[43maxis\u001b[49m\u001b[38;5;241;43m.\u001b[39;49m\u001b[43mupdate_units\u001b[49m\u001b[43m(\u001b[49m\u001b[43mdata\u001b[49m\u001b[43m)\u001b[49m\n\u001b[0;32m   2550\u001b[0m \u001b[38;5;28;01mfor\u001b[39;00m axis_name, axis \u001b[38;5;129;01min\u001b[39;00m axis_map\u001b[38;5;241m.\u001b[39mitems():\n\u001b[0;32m   2551\u001b[0m     \u001b[38;5;66;03m# Return if no axis is set.\u001b[39;00m\n\u001b[0;32m   2552\u001b[0m     \u001b[38;5;28;01mif\u001b[39;00m axis \u001b[38;5;129;01mis\u001b[39;00m \u001b[38;5;28;01mNone\u001b[39;00m:\n",
      "File \u001b[1;32m~\\anaconda3\\envs\\dev\\lib\\site-packages\\matplotlib\\axis.py:1675\u001b[0m, in \u001b[0;36mAxis.update_units\u001b[1;34m(self, data)\u001b[0m\n\u001b[0;32m   1673\u001b[0m neednew \u001b[38;5;241m=\u001b[39m \u001b[38;5;28mself\u001b[39m\u001b[38;5;241m.\u001b[39mconverter \u001b[38;5;241m!=\u001b[39m converter\n\u001b[0;32m   1674\u001b[0m \u001b[38;5;28mself\u001b[39m\u001b[38;5;241m.\u001b[39mconverter \u001b[38;5;241m=\u001b[39m converter\n\u001b[1;32m-> 1675\u001b[0m default \u001b[38;5;241m=\u001b[39m \u001b[38;5;28;43mself\u001b[39;49m\u001b[38;5;241;43m.\u001b[39;49m\u001b[43mconverter\u001b[49m\u001b[38;5;241;43m.\u001b[39;49m\u001b[43mdefault_units\u001b[49m\u001b[43m(\u001b[49m\u001b[43mdata\u001b[49m\u001b[43m,\u001b[49m\u001b[43m \u001b[49m\u001b[38;5;28;43mself\u001b[39;49m\u001b[43m)\u001b[49m\n\u001b[0;32m   1676\u001b[0m \u001b[38;5;28;01mif\u001b[39;00m default \u001b[38;5;129;01mis\u001b[39;00m \u001b[38;5;129;01mnot\u001b[39;00m \u001b[38;5;28;01mNone\u001b[39;00m \u001b[38;5;129;01mand\u001b[39;00m \u001b[38;5;28mself\u001b[39m\u001b[38;5;241m.\u001b[39munits \u001b[38;5;129;01mis\u001b[39;00m \u001b[38;5;28;01mNone\u001b[39;00m:\n\u001b[0;32m   1677\u001b[0m     \u001b[38;5;28mself\u001b[39m\u001b[38;5;241m.\u001b[39mset_units(default)\n",
      "File \u001b[1;32m~\\anaconda3\\envs\\dev\\lib\\site-packages\\matplotlib\\category.py:105\u001b[0m, in \u001b[0;36mStrCategoryConverter.default_units\u001b[1;34m(data, axis)\u001b[0m\n\u001b[0;32m    103\u001b[0m \u001b[38;5;66;03m# the conversion call stack is default_units -> axis_info -> convert\u001b[39;00m\n\u001b[0;32m    104\u001b[0m \u001b[38;5;28;01mif\u001b[39;00m axis\u001b[38;5;241m.\u001b[39munits \u001b[38;5;129;01mis\u001b[39;00m \u001b[38;5;28;01mNone\u001b[39;00m:\n\u001b[1;32m--> 105\u001b[0m     axis\u001b[38;5;241m.\u001b[39mset_units(\u001b[43mUnitData\u001b[49m\u001b[43m(\u001b[49m\u001b[43mdata\u001b[49m\u001b[43m)\u001b[49m)\n\u001b[0;32m    106\u001b[0m \u001b[38;5;28;01melse\u001b[39;00m:\n\u001b[0;32m    107\u001b[0m     axis\u001b[38;5;241m.\u001b[39munits\u001b[38;5;241m.\u001b[39mupdate(data)\n",
      "File \u001b[1;32m~\\anaconda3\\envs\\dev\\lib\\site-packages\\matplotlib\\category.py:181\u001b[0m, in \u001b[0;36mUnitData.__init__\u001b[1;34m(self, data)\u001b[0m\n\u001b[0;32m    179\u001b[0m \u001b[38;5;28mself\u001b[39m\u001b[38;5;241m.\u001b[39m_counter \u001b[38;5;241m=\u001b[39m itertools\u001b[38;5;241m.\u001b[39mcount()\n\u001b[0;32m    180\u001b[0m \u001b[38;5;28;01mif\u001b[39;00m data \u001b[38;5;129;01mis\u001b[39;00m \u001b[38;5;129;01mnot\u001b[39;00m \u001b[38;5;28;01mNone\u001b[39;00m:\n\u001b[1;32m--> 181\u001b[0m     \u001b[38;5;28;43mself\u001b[39;49m\u001b[38;5;241;43m.\u001b[39;49m\u001b[43mupdate\u001b[49m\u001b[43m(\u001b[49m\u001b[43mdata\u001b[49m\u001b[43m)\u001b[49m\n",
      "File \u001b[1;32m~\\anaconda3\\envs\\dev\\lib\\site-packages\\matplotlib\\category.py:216\u001b[0m, in \u001b[0;36mUnitData.update\u001b[1;34m(self, data)\u001b[0m\n\u001b[0;32m    213\u001b[0m convertible \u001b[38;5;241m=\u001b[39m \u001b[38;5;28;01mTrue\u001b[39;00m\n\u001b[0;32m    214\u001b[0m \u001b[38;5;28;01mfor\u001b[39;00m val \u001b[38;5;129;01min\u001b[39;00m OrderedDict\u001b[38;5;241m.\u001b[39mfromkeys(data):\n\u001b[0;32m    215\u001b[0m     \u001b[38;5;66;03m# OrderedDict just iterates over unique values in data.\u001b[39;00m\n\u001b[1;32m--> 216\u001b[0m     \u001b[43m_api\u001b[49m\u001b[38;5;241;43m.\u001b[39;49m\u001b[43mcheck_isinstance\u001b[49m\u001b[43m(\u001b[49m\u001b[43m(\u001b[49m\u001b[38;5;28;43mstr\u001b[39;49m\u001b[43m,\u001b[49m\u001b[43m \u001b[49m\u001b[38;5;28;43mbytes\u001b[39;49m\u001b[43m)\u001b[49m\u001b[43m,\u001b[49m\u001b[43m \u001b[49m\u001b[43mvalue\u001b[49m\u001b[38;5;241;43m=\u001b[39;49m\u001b[43mval\u001b[49m\u001b[43m)\u001b[49m\n\u001b[0;32m    217\u001b[0m     \u001b[38;5;28;01mif\u001b[39;00m convertible:\n\u001b[0;32m    218\u001b[0m         \u001b[38;5;66;03m# this will only be called so long as convertible is True.\u001b[39;00m\n\u001b[0;32m    219\u001b[0m         convertible \u001b[38;5;241m=\u001b[39m \u001b[38;5;28mself\u001b[39m\u001b[38;5;241m.\u001b[39m_str_is_convertible(val)\n",
      "File \u001b[1;32m~\\anaconda3\\envs\\dev\\lib\\site-packages\\matplotlib\\_api\\__init__.py:93\u001b[0m, in \u001b[0;36mcheck_isinstance\u001b[1;34m(_types, **kwargs)\u001b[0m\n\u001b[0;32m     91\u001b[0m     names\u001b[38;5;241m.\u001b[39mremove(\u001b[38;5;124m\"\u001b[39m\u001b[38;5;124mNone\u001b[39m\u001b[38;5;124m\"\u001b[39m)\n\u001b[0;32m     92\u001b[0m     names\u001b[38;5;241m.\u001b[39mappend(\u001b[38;5;124m\"\u001b[39m\u001b[38;5;124mNone\u001b[39m\u001b[38;5;124m\"\u001b[39m)\n\u001b[1;32m---> 93\u001b[0m \u001b[38;5;28;01mraise\u001b[39;00m \u001b[38;5;167;01mTypeError\u001b[39;00m(\n\u001b[0;32m     94\u001b[0m     \u001b[38;5;124m\"\u001b[39m\u001b[38;5;132;01m{!r}\u001b[39;00m\u001b[38;5;124m must be an instance of \u001b[39m\u001b[38;5;132;01m{}\u001b[39;00m\u001b[38;5;124m, not a \u001b[39m\u001b[38;5;132;01m{}\u001b[39;00m\u001b[38;5;124m\"\u001b[39m\u001b[38;5;241m.\u001b[39mformat(\n\u001b[0;32m     95\u001b[0m         k,\n\u001b[0;32m     96\u001b[0m         \u001b[38;5;124m\"\u001b[39m\u001b[38;5;124m, \u001b[39m\u001b[38;5;124m\"\u001b[39m\u001b[38;5;241m.\u001b[39mjoin(names[:\u001b[38;5;241m-\u001b[39m\u001b[38;5;241m1\u001b[39m]) \u001b[38;5;241m+\u001b[39m \u001b[38;5;124m\"\u001b[39m\u001b[38;5;124m or \u001b[39m\u001b[38;5;124m\"\u001b[39m \u001b[38;5;241m+\u001b[39m names[\u001b[38;5;241m-\u001b[39m\u001b[38;5;241m1\u001b[39m]\n\u001b[0;32m     97\u001b[0m         \u001b[38;5;28;01mif\u001b[39;00m \u001b[38;5;28mlen\u001b[39m(names) \u001b[38;5;241m>\u001b[39m \u001b[38;5;241m1\u001b[39m \u001b[38;5;28;01melse\u001b[39;00m names[\u001b[38;5;241m0\u001b[39m],\n\u001b[0;32m     98\u001b[0m         type_name(\u001b[38;5;28mtype\u001b[39m(v))))\n",
      "\u001b[1;31mTypeError\u001b[0m: 'value' must be an instance of str or bytes, not a numpy.float64"
     ]
    },
    {
     "data": {
      "image/png": "[encoded data removed]",
      "text/plain": [
       "<Figure size 640x480 with 1 Axes>"
      ]
     },
     "metadata": {},
     "output_type": "display_data"
    }
   ],
   "source": [
    "plt.scatter(education['70-15'], education['growth_rate_70_15'])\n",
    "plt.xlabel('Average years of schooling change from 1970 to 2015')\n",
    "plt.title('Years of Schooling versus Growth Rate')\n",
    "plt.ylabel('Growth rate percentage per year from 2010 to 2022')\n",
    "plt.show()"
   ]
  },
  {
   "cell_type": "markdown",
   "id": "60e4b5ec",
   "metadata": {},
   "source": [
    "# Poverty"
   ]
  },
  {
   "cell_type": "code",
   "execution_count": 213,
   "id": "db0b168d",
   "metadata": {},
   "outputs": [
    {
     "name": "stderr",
     "output_type": "stream",
     "text": [
      "C:\\Users\\seana\\AppData\\Local\\Temp\\ipykernel_17416\\2360080298.py:12: SettingWithCopyWarning:\n",
      "\n",
      "\n",
      "A value is trying to be set on a copy of a slice from a DataFrame\n",
      "\n",
      "See the caveats in the documentation: https://pandas.pydata.org/pandas-docs/stable/user_guide/indexing.html#returning-a-view-versus-a-copy\n",
      "\n"
     ]
    }
   ],
   "source": [
    "poverty['year'].unique()\n",
    "# poverty['reporting_level'].value_counts()\n",
    "poverty2000 = poverty.loc[poverty['year'] == 2000]\n",
    "poverty2015 = poverty.loc[poverty['year'] == 2015]\n",
    "\n",
    "poverty2000['country'].unique()\n",
    "poverty2015['country'].unique()\n",
    "poverty2000 = poverty2000[['country', 'headcount_ratio_international_povline', 'median']]\n",
    "\n",
    "poverty2000.rename(columns={'headcount_ratio_international_povline': '% households below pov 2000',\n",
    "                           'median': 'income median 2000'}, inplace=True)\n",
    "poverty2015.rename(columns={'headcount_ratio_international_povline': '% households below pov 2015',\n",
    "                           'median': 'income median 2015'}, inplace=True)\n",
    "\n",
    "# poverty2000['welfare_type'].value_counts()\n",
    "# # poverty2000.loc[poverty2000['country'] == 'China']"
   ]
  },
  {
   "cell_type": "code",
   "execution_count": 215,
   "id": "d23c9424",
   "metadata": {},
   "outputs": [],
   "source": [
    "poverty0015 = pd.merge(poverty2015, poverty2000, on='country', how='left')\n",
    "poverty0015 = poverty0015.dropna()\n",
    "\n",
    "\n",
    "\n",
    "poverty0015['change'] = poverty0015['income median 2015'] - poverty0015['income median 2000']"
   ]
  },
  {
   "cell_type": "code",
   "execution_count": 220,
   "id": "a93d95d1",
   "metadata": {},
   "outputs": [
    {
     "data": {
      "text/html": [
       "<div>\n",
       "<style scoped>\n",
       "    .dataframe tbody tr th:only-of-type {\n",
       "        vertical-align: middle;\n",
       "    }\n",
       "\n",
       "    .dataframe tbody tr th {\n",
       "        vertical-align: top;\n",
       "    }\n",
       "\n",
       "    .dataframe thead th {\n",
       "        text-align: right;\n",
       "    }\n",
       "</style>\n",
       "<table border=\"1\" class=\"dataframe\">\n",
       "  <thead>\n",
       "    <tr style=\"text-align: right;\">\n",
       "      <th></th>\n",
       "      <th>Unnamed: 0_x</th>\n",
       "      <th>country_x</th>\n",
       "      <th>year</th>\n",
       "      <th>ppp_version</th>\n",
       "      <th>reporting_level</th>\n",
       "      <th>welfare_type</th>\n",
       "      <th>% households below pov 2015</th>\n",
       "      <th>income median 2015</th>\n",
       "      <th>geo_country</th>\n",
       "      <th>iso_two</th>\n",
       "      <th>...</th>\n",
       "      <th>1970_pop</th>\n",
       "      <th>area (km)</th>\n",
       "      <th>density</th>\n",
       "      <th>iso_three</th>\n",
       "      <th>Capital</th>\n",
       "      <th>Continent</th>\n",
       "      <th>growth_rate_10_22</th>\n",
       "      <th>growth_rate_70_22</th>\n",
       "      <th>growth_rate_00_15</th>\n",
       "      <th>growth_rate_70_15</th>\n",
       "    </tr>\n",
       "  </thead>\n",
       "  <tbody>\n",
       "    <tr>\n",
       "      <th>0</th>\n",
       "      <td>2542</td>\n",
       "      <td>Austria</td>\n",
       "      <td>2015</td>\n",
       "      <td>2017</td>\n",
       "      <td>national</td>\n",
       "      <td>income</td>\n",
       "      <td>0.677193</td>\n",
       "      <td>54.984206</td>\n",
       "      <td>Austria</td>\n",
       "      <td>at</td>\n",
       "      <td>...</td>\n",
       "      <td>7465301</td>\n",
       "      <td>83871</td>\n",
       "      <td>106.5877</td>\n",
       "      <td>aut</td>\n",
       "      <td>Vienna</td>\n",
       "      <td>Europe</td>\n",
       "      <td>0.557347</td>\n",
       "      <td>0.347192</td>\n",
       "      <td>0.507541</td>\n",
       "      <td>0.325901</td>\n",
       "    </tr>\n",
       "    <tr>\n",
       "      <th>1</th>\n",
       "      <td>2604</td>\n",
       "      <td>Belgium</td>\n",
       "      <td>2015</td>\n",
       "      <td>2017</td>\n",
       "      <td>national</td>\n",
       "      <td>income</td>\n",
       "      <td>0.070759</td>\n",
       "      <td>50.488321</td>\n",
       "      <td>Belgium</td>\n",
       "      <td>be</td>\n",
       "      <td>...</td>\n",
       "      <td>9629376</td>\n",
       "      <td>30528</td>\n",
       "      <td>381.8111</td>\n",
       "      <td>bel</td>\n",
       "      <td>Brussels</td>\n",
       "      <td>Europe</td>\n",
       "      <td>0.577306</td>\n",
       "      <td>0.367977</td>\n",
       "      <td>0.612141</td>\n",
       "      <td>0.345928</td>\n",
       "    </tr>\n",
       "    <tr>\n",
       "      <th>2</th>\n",
       "      <td>2641</td>\n",
       "      <td>Bolivia</td>\n",
       "      <td>2015</td>\n",
       "      <td>2017</td>\n",
       "      <td>national</td>\n",
       "      <td>income</td>\n",
       "      <td>4.629964</td>\n",
       "      <td>13.981904</td>\n",
       "      <td>Bolivia</td>\n",
       "      <td>bo</td>\n",
       "      <td>...</td>\n",
       "      <td>4585693</td>\n",
       "      <td>1098581</td>\n",
       "      <td>11.1272</td>\n",
       "      <td>bol</td>\n",
       "      <td>Sucre</td>\n",
       "      <td>South America</td>\n",
       "      <td>1.500680</td>\n",
       "      <td>1.903405</td>\n",
       "      <td>1.715506</td>\n",
       "      <td>1.981850</td>\n",
       "    </tr>\n",
       "    <tr>\n",
       "      <th>3</th>\n",
       "      <td>2743</td>\n",
       "      <td>Canada</td>\n",
       "      <td>2015</td>\n",
       "      <td>2017</td>\n",
       "      <td>national</td>\n",
       "      <td>income</td>\n",
       "      <td>0.245904</td>\n",
       "      <td>53.678290</td>\n",
       "      <td>Canada</td>\n",
       "      <td>ca</td>\n",
       "      <td>...</td>\n",
       "      <td>21434577</td>\n",
       "      <td>9984670</td>\n",
       "      <td>3.8513</td>\n",
       "      <td>can</td>\n",
       "      <td>Ottawa</td>\n",
       "      <td>North America</td>\n",
       "      <td>1.040269</td>\n",
       "      <td>1.130313</td>\n",
       "      <td>1.020716</td>\n",
       "      <td>1.142128</td>\n",
       "    </tr>\n",
       "    <tr>\n",
       "      <th>4</th>\n",
       "      <td>2766</td>\n",
       "      <td>Chile</td>\n",
       "      <td>2015</td>\n",
       "      <td>2017</td>\n",
       "      <td>national</td>\n",
       "      <td>income</td>\n",
       "      <td>0.431434</td>\n",
       "      <td>15.184600</td>\n",
       "      <td>Chile</td>\n",
       "      <td>cl</td>\n",
       "      <td>...</td>\n",
       "      <td>9820481</td>\n",
       "      <td>756102</td>\n",
       "      <td>25.9274</td>\n",
       "      <td>chl</td>\n",
       "      <td>Santiago</td>\n",
       "      <td>South America</td>\n",
       "      <td>1.192571</td>\n",
       "      <td>1.338202</td>\n",
       "      <td>1.017795</td>\n",
       "      <td>1.339245</td>\n",
       "    </tr>\n",
       "    <tr>\n",
       "      <th>5</th>\n",
       "      <td>2849</td>\n",
       "      <td>Colombia</td>\n",
       "      <td>2015</td>\n",
       "      <td>2017</td>\n",
       "      <td>national</td>\n",
       "      <td>income</td>\n",
       "      <td>4.925476</td>\n",
       "      <td>9.650994</td>\n",
       "      <td>Colombia</td>\n",
       "      <td>co</td>\n",
       "      <td>...</td>\n",
       "      <td>20905254</td>\n",
       "      <td>1141748</td>\n",
       "      <td>45.4339</td>\n",
       "      <td>col</td>\n",
       "      <td>Bogota</td>\n",
       "      <td>South America</td>\n",
       "      <td>1.226212</td>\n",
       "      <td>1.763088</td>\n",
       "      <td>1.231717</td>\n",
       "      <td>1.822387</td>\n",
       "    </tr>\n",
       "    <tr>\n",
       "      <th>6</th>\n",
       "      <td>2887</td>\n",
       "      <td>Costa Rica</td>\n",
       "      <td>2015</td>\n",
       "      <td>2017</td>\n",
       "      <td>national</td>\n",
       "      <td>income</td>\n",
       "      <td>1.573227</td>\n",
       "      <td>15.757311</td>\n",
       "      <td>Costa Rica</td>\n",
       "      <td>cr</td>\n",
       "      <td>...</td>\n",
       "      <td>1855697</td>\n",
       "      <td>51100</td>\n",
       "      <td>101.3861</td>\n",
       "      <td>cri</td>\n",
       "      <td>San José</td>\n",
       "      <td>North America</td>\n",
       "      <td>0.955226</td>\n",
       "      <td>1.994053</td>\n",
       "      <td>1.390814</td>\n",
       "      <td>2.178963</td>\n",
       "    </tr>\n",
       "    <tr>\n",
       "      <th>7</th>\n",
       "      <td>2977</td>\n",
       "      <td>Denmark</td>\n",
       "      <td>2015</td>\n",
       "      <td>2017</td>\n",
       "      <td>national</td>\n",
       "      <td>income</td>\n",
       "      <td>0.175426</td>\n",
       "      <td>51.132123</td>\n",
       "      <td>Denmark</td>\n",
       "      <td>dk</td>\n",
       "      <td>...</td>\n",
       "      <td>4922963</td>\n",
       "      <td>43094</td>\n",
       "      <td>136.4984</td>\n",
       "      <td>dnk</td>\n",
       "      <td>Copenhagen</td>\n",
       "      <td>Europe</td>\n",
       "      <td>0.484422</td>\n",
       "      <td>0.342953</td>\n",
       "      <td>0.408933</td>\n",
       "      <td>0.317509</td>\n",
       "    </tr>\n",
       "    <tr>\n",
       "      <th>8</th>\n",
       "      <td>3006</td>\n",
       "      <td>Dominican Republic</td>\n",
       "      <td>2015</td>\n",
       "      <td>2017</td>\n",
       "      <td>national</td>\n",
       "      <td>income</td>\n",
       "      <td>2.534987</td>\n",
       "      <td>9.981742</td>\n",
       "      <td>Dominican Republic</td>\n",
       "      <td>do</td>\n",
       "      <td>...</td>\n",
       "      <td>4475871</td>\n",
       "      <td>48671</td>\n",
       "      <td>230.7087</td>\n",
       "      <td>dom</td>\n",
       "      <td>Santo Domingo</td>\n",
       "      <td>North America</td>\n",
       "      <td>1.161514</td>\n",
       "      <td>1.784549</td>\n",
       "      <td>1.325459</td>\n",
       "      <td>1.892497</td>\n",
       "    </tr>\n",
       "    <tr>\n",
       "      <th>9</th>\n",
       "      <td>3060</td>\n",
       "      <td>Ecuador</td>\n",
       "      <td>2015</td>\n",
       "      <td>2017</td>\n",
       "      <td>national</td>\n",
       "      <td>income</td>\n",
       "      <td>3.440066</td>\n",
       "      <td>10.667513</td>\n",
       "      <td>Ecuador</td>\n",
       "      <td>ec</td>\n",
       "      <td>...</td>\n",
       "      <td>6172215</td>\n",
       "      <td>276841</td>\n",
       "      <td>65.0229</td>\n",
       "      <td>ecu</td>\n",
       "      <td>Quito</td>\n",
       "      <td>South America</td>\n",
       "      <td>1.537294</td>\n",
       "      <td>2.079734</td>\n",
       "      <td>1.673583</td>\n",
       "      <td>2.166923</td>\n",
       "    </tr>\n",
       "    <tr>\n",
       "      <th>10</th>\n",
       "      <td>3096</td>\n",
       "      <td>El Salvador</td>\n",
       "      <td>2015</td>\n",
       "      <td>2017</td>\n",
       "      <td>national</td>\n",
       "      <td>income</td>\n",
       "      <td>2.308848</td>\n",
       "      <td>8.078951</td>\n",
       "      <td>El Salvador</td>\n",
       "      <td>sv</td>\n",
       "      <td>...</td>\n",
       "      <td>3619090</td>\n",
       "      <td>21041</td>\n",
       "      <td>301.1450</td>\n",
       "      <td>slv</td>\n",
       "      <td>San Salvador</td>\n",
       "      <td>North America</td>\n",
       "      <td>0.298133</td>\n",
       "      <td>1.082912</td>\n",
       "      <td>0.298656</td>\n",
       "      <td>1.214707</td>\n",
       "    </tr>\n",
       "    <tr>\n",
       "      <th>11</th>\n",
       "      <td>3186</td>\n",
       "      <td>Finland</td>\n",
       "      <td>2015</td>\n",
       "      <td>2017</td>\n",
       "      <td>national</td>\n",
       "      <td>income</td>\n",
       "      <td>0.070209</td>\n",
       "      <td>48.046368</td>\n",
       "      <td>Finland</td>\n",
       "      <td>fi</td>\n",
       "      <td>...</td>\n",
       "      <td>4606621</td>\n",
       "      <td>338424</td>\n",
       "      <td>16.3722</td>\n",
       "      <td>fin</td>\n",
       "      <td>Helsinki</td>\n",
       "      <td>Europe</td>\n",
       "      <td>0.271659</td>\n",
       "      <td>0.355697</td>\n",
       "      <td>0.380280</td>\n",
       "      <td>0.386327</td>\n",
       "    </tr>\n",
       "    <tr>\n",
       "      <th>12</th>\n",
       "      <td>3208</td>\n",
       "      <td>France</td>\n",
       "      <td>2015</td>\n",
       "      <td>2017</td>\n",
       "      <td>national</td>\n",
       "      <td>income</td>\n",
       "      <td>0.133555</td>\n",
       "      <td>49.097524</td>\n",
       "      <td>France</td>\n",
       "      <td>fr</td>\n",
       "      <td>...</td>\n",
       "      <td>50523586</td>\n",
       "      <td>551695</td>\n",
       "      <td>117.1419</td>\n",
       "      <td>fra</td>\n",
       "      <td>Paris</td>\n",
       "      <td>Europe</td>\n",
       "      <td>0.286637</td>\n",
       "      <td>0.474558</td>\n",
       "      <td>0.561942</td>\n",
       "      <td>0.520162</td>\n",
       "    </tr>\n",
       "    <tr>\n",
       "      <th>13</th>\n",
       "      <td>3267</td>\n",
       "      <td>Germany</td>\n",
       "      <td>2015</td>\n",
       "      <td>2017</td>\n",
       "      <td>national</td>\n",
       "      <td>income</td>\n",
       "      <td>0.000000</td>\n",
       "      <td>51.582032</td>\n",
       "      <td>Germany</td>\n",
       "      <td>de</td>\n",
       "      <td>...</td>\n",
       "      <td>78294583</td>\n",
       "      <td>357114</td>\n",
       "      <td>233.4544</td>\n",
       "      <td>deu</td>\n",
       "      <td>Berlin</td>\n",
       "      <td>Europe</td>\n",
       "      <td>0.207148</td>\n",
       "      <td>0.120858</td>\n",
       "      <td>0.042509</td>\n",
       "      <td>0.104796</td>\n",
       "    </tr>\n",
       "    <tr>\n",
       "      <th>14</th>\n",
       "      <td>3292</td>\n",
       "      <td>Greece</td>\n",
       "      <td>2015</td>\n",
       "      <td>2017</td>\n",
       "      <td>national</td>\n",
       "      <td>income</td>\n",
       "      <td>1.370091</td>\n",
       "      <td>21.114287</td>\n",
       "      <td>Greece</td>\n",
       "      <td>gr</td>\n",
       "      <td>...</td>\n",
       "      <td>8544873</td>\n",
       "      <td>131990</td>\n",
       "      <td>78.6800</td>\n",
       "      <td>grc</td>\n",
       "      <td>Athens</td>\n",
       "      <td>Europe</td>\n",
       "      <td>-0.503744</td>\n",
       "      <td>0.375758</td>\n",
       "      <td>-0.141186</td>\n",
       "      <td>0.523207</td>\n",
       "    </tr>\n",
       "    <tr>\n",
       "      <th>15</th>\n",
       "      <td>3583</td>\n",
       "      <td>Ireland</td>\n",
       "      <td>2015</td>\n",
       "      <td>2017</td>\n",
       "      <td>national</td>\n",
       "      <td>income</td>\n",
       "      <td>0.367628</td>\n",
       "      <td>39.228739</td>\n",
       "      <td>Ireland</td>\n",
       "      <td>ie</td>\n",
       "      <td>...</td>\n",
       "      <td>2937637</td>\n",
       "      <td>70273</td>\n",
       "      <td>71.4799</td>\n",
       "      <td>irl</td>\n",
       "      <td>Dublin</td>\n",
       "      <td>Europe</td>\n",
       "      <td>0.874831</td>\n",
       "      <td>1.036962</td>\n",
       "      <td>1.433202</td>\n",
       "      <td>1.033404</td>\n",
       "    </tr>\n",
       "    <tr>\n",
       "      <th>16</th>\n",
       "      <td>3629</td>\n",
       "      <td>Italy</td>\n",
       "      <td>2015</td>\n",
       "      <td>2017</td>\n",
       "      <td>national</td>\n",
       "      <td>income</td>\n",
       "      <td>1.948866</td>\n",
       "      <td>39.452458</td>\n",
       "      <td>Italy</td>\n",
       "      <td>it</td>\n",
       "      <td>...</td>\n",
       "      <td>53324036</td>\n",
       "      <td>301336</td>\n",
       "      <td>195.9191</td>\n",
       "      <td>ita</td>\n",
       "      <td>Rome</td>\n",
       "      <td>Europe</td>\n",
       "      <td>-0.110011</td>\n",
       "      <td>0.195932</td>\n",
       "      <td>0.372407</td>\n",
       "      <td>0.271104</td>\n",
       "    </tr>\n",
       "    <tr>\n",
       "      <th>17</th>\n",
       "      <td>3825</td>\n",
       "      <td>Luxembourg</td>\n",
       "      <td>2015</td>\n",
       "      <td>2017</td>\n",
       "      <td>national</td>\n",
       "      <td>income</td>\n",
       "      <td>0.300125</td>\n",
       "      <td>61.960957</td>\n",
       "      <td>Luxembourg</td>\n",
       "      <td>lu</td>\n",
       "      <td>...</td>\n",
       "      <td>339342</td>\n",
       "      <td>2586</td>\n",
       "      <td>250.4250</td>\n",
       "      <td>lux</td>\n",
       "      <td>Luxembourg</td>\n",
       "      <td>Europe</td>\n",
       "      <td>2.059442</td>\n",
       "      <td>1.250569</td>\n",
       "      <td>1.801424</td>\n",
       "      <td>1.156837</td>\n",
       "    </tr>\n",
       "    <tr>\n",
       "      <th>18</th>\n",
       "      <td>4090</td>\n",
       "      <td>Norway</td>\n",
       "      <td>2015</td>\n",
       "      <td>2017</td>\n",
       "      <td>national</td>\n",
       "      <td>income</td>\n",
       "      <td>0.170049</td>\n",
       "      <td>64.996091</td>\n",
       "      <td>Norway</td>\n",
       "      <td>no</td>\n",
       "      <td>...</td>\n",
       "      <td>3875546</td>\n",
       "      <td>323802</td>\n",
       "      <td>16.7828</td>\n",
       "      <td>nor</td>\n",
       "      <td>Oslo</td>\n",
       "      <td>Europe</td>\n",
       "      <td>0.883840</td>\n",
       "      <td>0.652209</td>\n",
       "      <td>0.969213</td>\n",
       "      <td>0.651258</td>\n",
       "    </tr>\n",
       "    <tr>\n",
       "      <th>19</th>\n",
       "      <td>4138</td>\n",
       "      <td>Panama</td>\n",
       "      <td>2015</td>\n",
       "      <td>2017</td>\n",
       "      <td>national</td>\n",
       "      <td>income</td>\n",
       "      <td>1.513955</td>\n",
       "      <td>18.755541</td>\n",
       "      <td>Panama</td>\n",
       "      <td>pa</td>\n",
       "      <td>...</td>\n",
       "      <td>1516188</td>\n",
       "      <td>75417</td>\n",
       "      <td>58.4561</td>\n",
       "      <td>pan</td>\n",
       "      <td>Panama City</td>\n",
       "      <td>North America</td>\n",
       "      <td>1.647424</td>\n",
       "      <td>2.073814</td>\n",
       "      <td>1.859219</td>\n",
       "      <td>2.154689</td>\n",
       "    </tr>\n",
       "    <tr>\n",
       "      <th>20</th>\n",
       "      <td>4189</td>\n",
       "      <td>Peru</td>\n",
       "      <td>2015</td>\n",
       "      <td>2017</td>\n",
       "      <td>national</td>\n",
       "      <td>income</td>\n",
       "      <td>4.741670</td>\n",
       "      <td>9.604249</td>\n",
       "      <td>Peru</td>\n",
       "      <td>pe</td>\n",
       "      <td>...</td>\n",
       "      <td>13562371</td>\n",
       "      <td>1285216</td>\n",
       "      <td>26.4933</td>\n",
       "      <td>per</td>\n",
       "      <td>Lima</td>\n",
       "      <td>South America</td>\n",
       "      <td>1.280099</td>\n",
       "      <td>1.785990</td>\n",
       "      <td>0.949098</td>\n",
       "      <td>1.832929</td>\n",
       "    </tr>\n",
       "    <tr>\n",
       "      <th>21</th>\n",
       "      <td>4211</td>\n",
       "      <td>Philippines</td>\n",
       "      <td>2015</td>\n",
       "      <td>2017</td>\n",
       "      <td>national</td>\n",
       "      <td>income</td>\n",
       "      <td>6.490449</td>\n",
       "      <td>5.607012</td>\n",
       "      <td>Philippines</td>\n",
       "      <td>ph</td>\n",
       "      <td>...</td>\n",
       "      <td>37435586</td>\n",
       "      <td>342353</td>\n",
       "      <td>337.5434</td>\n",
       "      <td>phl</td>\n",
       "      <td>Manila</td>\n",
       "      <td>Asia</td>\n",
       "      <td>1.678396</td>\n",
       "      <td>2.191278</td>\n",
       "      <td>1.876457</td>\n",
       "      <td>2.275303</td>\n",
       "    </tr>\n",
       "    <tr>\n",
       "      <th>22</th>\n",
       "      <td>4500</td>\n",
       "      <td>Spain</td>\n",
       "      <td>2015</td>\n",
       "      <td>2017</td>\n",
       "      <td>national</td>\n",
       "      <td>income</td>\n",
       "      <td>0.903527</td>\n",
       "      <td>35.959326</td>\n",
       "      <td>Spain</td>\n",
       "      <td>es</td>\n",
       "      <td>...</td>\n",
       "      <td>33792617</td>\n",
       "      <td>505992</td>\n",
       "      <td>93.9909</td>\n",
       "      <td>esp</td>\n",
       "      <td>Madrid</td>\n",
       "      <td>Europe</td>\n",
       "      <td>0.174712</td>\n",
       "      <td>0.659320</td>\n",
       "      <td>0.875300</td>\n",
       "      <td>0.708570</td>\n",
       "    </tr>\n",
       "    <tr>\n",
       "      <th>23</th>\n",
       "      <td>4565</td>\n",
       "      <td>Sweden</td>\n",
       "      <td>2015</td>\n",
       "      <td>2017</td>\n",
       "      <td>national</td>\n",
       "      <td>income</td>\n",
       "      <td>0.569155</td>\n",
       "      <td>48.042765</td>\n",
       "      <td>Sweden</td>\n",
       "      <td>se</td>\n",
       "      <td>...</td>\n",
       "      <td>8027702</td>\n",
       "      <td>450295</td>\n",
       "      <td>23.4276</td>\n",
       "      <td>swe</td>\n",
       "      <td>Stockholm</td>\n",
       "      <td>Europe</td>\n",
       "      <td>0.982292</td>\n",
       "      <td>0.526701</td>\n",
       "      <td>0.699858</td>\n",
       "      <td>0.455494</td>\n",
       "    </tr>\n",
       "    <tr>\n",
       "      <th>24</th>\n",
       "      <td>4583</td>\n",
       "      <td>Switzerland</td>\n",
       "      <td>2015</td>\n",
       "      <td>2017</td>\n",
       "      <td>national</td>\n",
       "      <td>income</td>\n",
       "      <td>0.030543</td>\n",
       "      <td>64.761868</td>\n",
       "      <td>Switzerland</td>\n",
       "      <td>ch</td>\n",
       "      <td>...</td>\n",
       "      <td>6181227</td>\n",
       "      <td>41284</td>\n",
       "      <td>211.7157</td>\n",
       "      <td>che</td>\n",
       "      <td>Bern</td>\n",
       "      <td>Europe</td>\n",
       "      <td>0.929025</td>\n",
       "      <td>0.668469</td>\n",
       "      <td>0.954298</td>\n",
       "      <td>0.652196</td>\n",
       "    </tr>\n",
       "    <tr>\n",
       "      <th>25</th>\n",
       "      <td>4739</td>\n",
       "      <td>United Kingdom</td>\n",
       "      <td>2015</td>\n",
       "      <td>2017</td>\n",
       "      <td>national</td>\n",
       "      <td>income</td>\n",
       "      <td>0.147457</td>\n",
       "      <td>42.169643</td>\n",
       "      <td>United Kingdom</td>\n",
       "      <td>gb</td>\n",
       "      <td>...</td>\n",
       "      <td>55650166</td>\n",
       "      <td>242900</td>\n",
       "      <td>277.9289</td>\n",
       "      <td>gbr</td>\n",
       "      <td>London</td>\n",
       "      <td>Europe</td>\n",
       "      <td>0.609696</td>\n",
       "      <td>0.372181</td>\n",
       "      <td>0.687959</td>\n",
       "      <td>0.353396</td>\n",
       "    </tr>\n",
       "    <tr>\n",
       "      <th>26</th>\n",
       "      <td>4769</td>\n",
       "      <td>United States</td>\n",
       "      <td>2015</td>\n",
       "      <td>2017</td>\n",
       "      <td>national</td>\n",
       "      <td>income</td>\n",
       "      <td>1.249188</td>\n",
       "      <td>54.421294</td>\n",
       "      <td>United States</td>\n",
       "      <td>us</td>\n",
       "      <td>...</td>\n",
       "      <td>200328340</td>\n",
       "      <td>9372610</td>\n",
       "      <td>36.0935</td>\n",
       "      <td>usa</td>\n",
       "      <td>Washington, D.C.</td>\n",
       "      <td>North America</td>\n",
       "      <td>0.698448</td>\n",
       "      <td>1.012681</td>\n",
       "      <td>0.932980</td>\n",
       "      <td>1.078350</td>\n",
       "    </tr>\n",
       "  </tbody>\n",
       "</table>\n",
       "<p>27 rows × 33 columns</p>\n",
       "</div>"
      ],
      "text/plain": [
       "    Unnamed: 0_x           country_x  year  ppp_version reporting_level  \\\n",
       "0           2542             Austria  2015         2017        national   \n",
       "1           2604             Belgium  2015         2017        national   \n",
       "2           2641             Bolivia  2015         2017        national   \n",
       "3           2743              Canada  2015         2017        national   \n",
       "4           2766               Chile  2015         2017        national   \n",
       "5           2849            Colombia  2015         2017        national   \n",
       "6           2887          Costa Rica  2015         2017        national   \n",
       "7           2977             Denmark  2015         2017        national   \n",
       "8           3006  Dominican Republic  2015         2017        national   \n",
       "9           3060             Ecuador  2015         2017        national   \n",
       "10          3096         El Salvador  2015         2017        national   \n",
       "11          3186             Finland  2015         2017        national   \n",
       "12          3208              France  2015         2017        national   \n",
       "13          3267             Germany  2015         2017        national   \n",
       "14          3292              Greece  2015         2017        national   \n",
       "15          3583             Ireland  2015         2017        national   \n",
       "16          3629               Italy  2015         2017        national   \n",
       "17          3825          Luxembourg  2015         2017        national   \n",
       "18          4090              Norway  2015         2017        national   \n",
       "19          4138              Panama  2015         2017        national   \n",
       "20          4189                Peru  2015         2017        national   \n",
       "21          4211         Philippines  2015         2017        national   \n",
       "22          4500               Spain  2015         2017        national   \n",
       "23          4565              Sweden  2015         2017        national   \n",
       "24          4583         Switzerland  2015         2017        national   \n",
       "25          4739      United Kingdom  2015         2017        national   \n",
       "26          4769       United States  2015         2017        national   \n",
       "\n",
       "   welfare_type  % households below pov 2015  income median 2015  \\\n",
       "0        income                     0.677193           54.984206   \n",
       "1        income                     0.070759           50.488321   \n",
       "2        income                     4.629964           13.981904   \n",
       "3        income                     0.245904           53.678290   \n",
       "4        income                     0.431434           15.184600   \n",
       "5        income                     4.925476            9.650994   \n",
       "6        income                     1.573227           15.757311   \n",
       "7        income                     0.175426           51.132123   \n",
       "8        income                     2.534987            9.981742   \n",
       "9        income                     3.440066           10.667513   \n",
       "10       income                     2.308848            8.078951   \n",
       "11       income                     0.070209           48.046368   \n",
       "12       income                     0.133555           49.097524   \n",
       "13       income                     0.000000           51.582032   \n",
       "14       income                     1.370091           21.114287   \n",
       "15       income                     0.367628           39.228739   \n",
       "16       income                     1.948866           39.452458   \n",
       "17       income                     0.300125           61.960957   \n",
       "18       income                     0.170049           64.996091   \n",
       "19       income                     1.513955           18.755541   \n",
       "20       income                     4.741670            9.604249   \n",
       "21       income                     6.490449            5.607012   \n",
       "22       income                     0.903527           35.959326   \n",
       "23       income                     0.569155           48.042765   \n",
       "24       income                     0.030543           64.761868   \n",
       "25       income                     0.147457           42.169643   \n",
       "26       income                     1.249188           54.421294   \n",
       "\n",
       "           geo_country iso_two  ...   1970_pop  area (km)   density  \\\n",
       "0              Austria      at  ...    7465301      83871  106.5877   \n",
       "1              Belgium      be  ...    9629376      30528  381.8111   \n",
       "2              Bolivia      bo  ...    4585693    1098581   11.1272   \n",
       "3               Canada      ca  ...   21434577    9984670    3.8513   \n",
       "4                Chile      cl  ...    9820481     756102   25.9274   \n",
       "5             Colombia      co  ...   20905254    1141748   45.4339   \n",
       "6           Costa Rica      cr  ...    1855697      51100  101.3861   \n",
       "7              Denmark      dk  ...    4922963      43094  136.4984   \n",
       "8   Dominican Republic      do  ...    4475871      48671  230.7087   \n",
       "9              Ecuador      ec  ...    6172215     276841   65.0229   \n",
       "10         El Salvador      sv  ...    3619090      21041  301.1450   \n",
       "11             Finland      fi  ...    4606621     338424   16.3722   \n",
       "12              France      fr  ...   50523586     551695  117.1419   \n",
       "13             Germany      de  ...   78294583     357114  233.4544   \n",
       "14              Greece      gr  ...    8544873     131990   78.6800   \n",
       "15             Ireland      ie  ...    2937637      70273   71.4799   \n",
       "16               Italy      it  ...   53324036     301336  195.9191   \n",
       "17          Luxembourg      lu  ...     339342       2586  250.4250   \n",
       "18              Norway      no  ...    3875546     323802   16.7828   \n",
       "19              Panama      pa  ...    1516188      75417   58.4561   \n",
       "20                Peru      pe  ...   13562371    1285216   26.4933   \n",
       "21         Philippines      ph  ...   37435586     342353  337.5434   \n",
       "22               Spain      es  ...   33792617     505992   93.9909   \n",
       "23              Sweden      se  ...    8027702     450295   23.4276   \n",
       "24         Switzerland      ch  ...    6181227      41284  211.7157   \n",
       "25      United Kingdom      gb  ...   55650166     242900  277.9289   \n",
       "26       United States      us  ...  200328340    9372610   36.0935   \n",
       "\n",
       "    iso_three           Capital      Continent  growth_rate_10_22  \\\n",
       "0         aut            Vienna         Europe           0.557347   \n",
       "1         bel          Brussels         Europe           0.577306   \n",
       "2         bol             Sucre  South America           1.500680   \n",
       "3         can            Ottawa  North America           1.040269   \n",
       "4         chl          Santiago  South America           1.192571   \n",
       "5         col            Bogota  South America           1.226212   \n",
       "6         cri          San José  North America           0.955226   \n",
       "7         dnk        Copenhagen         Europe           0.484422   \n",
       "8         dom     Santo Domingo  North America           1.161514   \n",
       "9         ecu             Quito  South America           1.537294   \n",
       "10        slv      San Salvador  North America           0.298133   \n",
       "11        fin          Helsinki         Europe           0.271659   \n",
       "12        fra             Paris         Europe           0.286637   \n",
       "13        deu            Berlin         Europe           0.207148   \n",
       "14        grc            Athens         Europe          -0.503744   \n",
       "15        irl            Dublin         Europe           0.874831   \n",
       "16        ita              Rome         Europe          -0.110011   \n",
       "17        lux        Luxembourg         Europe           2.059442   \n",
       "18        nor              Oslo         Europe           0.883840   \n",
       "19        pan       Panama City  North America           1.647424   \n",
       "20        per              Lima  South America           1.280099   \n",
       "21        phl            Manila           Asia           1.678396   \n",
       "22        esp            Madrid         Europe           0.174712   \n",
       "23        swe         Stockholm         Europe           0.982292   \n",
       "24        che              Bern         Europe           0.929025   \n",
       "25        gbr            London         Europe           0.609696   \n",
       "26        usa  Washington, D.C.  North America           0.698448   \n",
       "\n",
       "    growth_rate_70_22  growth_rate_00_15  growth_rate_70_15  \n",
       "0            0.347192           0.507541           0.325901  \n",
       "1            0.367977           0.612141           0.345928  \n",
       "2            1.903405           1.715506           1.981850  \n",
       "3            1.130313           1.020716           1.142128  \n",
       "4            1.338202           1.017795           1.339245  \n",
       "5            1.763088           1.231717           1.822387  \n",
       "6            1.994053           1.390814           2.178963  \n",
       "7            0.342953           0.408933           0.317509  \n",
       "8            1.784549           1.325459           1.892497  \n",
       "9            2.079734           1.673583           2.166923  \n",
       "10           1.082912           0.298656           1.214707  \n",
       "11           0.355697           0.380280           0.386327  \n",
       "12           0.474558           0.561942           0.520162  \n",
       "13           0.120858           0.042509           0.104796  \n",
       "14           0.375758          -0.141186           0.523207  \n",
       "15           1.036962           1.433202           1.033404  \n",
       "16           0.195932           0.372407           0.271104  \n",
       "17           1.250569           1.801424           1.156837  \n",
       "18           0.652209           0.969213           0.651258  \n",
       "19           2.073814           1.859219           2.154689  \n",
       "20           1.785990           0.949098           1.832929  \n",
       "21           2.191278           1.876457           2.275303  \n",
       "22           0.659320           0.875300           0.708570  \n",
       "23           0.526701           0.699858           0.455494  \n",
       "24           0.668469           0.954298           0.652196  \n",
       "25           0.372181           0.687959           0.353396  \n",
       "26           1.012681           0.932980           1.078350  \n",
       "\n",
       "[27 rows x 33 columns]"
      ]
     },
     "execution_count": 220,
     "metadata": {},
     "output_type": "execute_result"
    }
   ],
   "source": [
    "povertygrowth = pd.merge(poverty0015, growth, on='iso_two')\n",
    "list(povertygrowth)\n",
    "povertygrowth\n",
    "\n",
    "\n",
    "# povertygrowth['15-00'] = (((povertygrowth['2015_pop'] / povertygrowth['2000_pop']) ** (1/12)) - 1)  * 100\n",
    "# povertygrowth"
   ]
  },
  {
   "cell_type": "code",
   "execution_count": 219,
   "id": "97420764",
   "metadata": {},
   "outputs": [
    {
     "data": {
      "image/png": "[encoded data removed]",
      "text/plain": [
       "<Figure size 640x480 with 1 Axes>"
      ]
     },
     "metadata": {},
     "output_type": "display_data"
    }
   ],
   "source": [
    "plt.scatter(povertygrowth['change'], povertygrowth['growth_rate_00_15'])\n",
    "plt.xlabel('Median Income change from 2000 to 2015')\n",
    "plt.title('Median Income versus Growth Rate')\n",
    "plt.ylabel('Growth rate percentage per year from 2000 to 2015')\n",
    "plt.show()"
   ]
  }
 ],
 "metadata": {
  "kernelspec": {
   "display_name": "Python 3 (ipykernel)",
   "language": "python",
   "name": "python3"
  },
  "language_info": {
   "codemirror_mode": {
    "name": "ipython",
    "version": 3
   },
   "file_extension": ".py",
   "mimetype": "text/x-python",
   "name": "python",
   "nbconvert_exporter": "python",
   "pygments_lexer": "ipython3",
   "version": "3.10.11"
  }
 },
 "nbformat": 4,
 "nbformat_minor": 5
}
