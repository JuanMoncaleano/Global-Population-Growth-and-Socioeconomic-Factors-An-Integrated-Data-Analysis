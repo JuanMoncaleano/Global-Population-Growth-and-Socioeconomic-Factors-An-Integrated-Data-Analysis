{
 "cells": [
  {
   "cell_type": "code",
   "execution_count": 2,
   "id": "52442043",
   "metadata": {},
   "outputs": [],
   "source": [
    "import pandas as pd\n",
    "import requests\n",
    "import json\n",
    "from pprint import pprint\n",
    "import matplotlib.pyplot as plt\n",
    "import math\n",
    "\n",
    "\n",
    "#This was a map option that I found first, but required new libraries\n",
    "# # https://towardsdatascience.com/how-to-visualize-data-on-top-of-a-map-in-python-using-the-geoviews-library-part-2-e61a48ee6c3d\n",
    "# import geopandas as gpd\n",
    "# import geoviews as gv\n",
    "# import geoviews.tile_sources as gvts\n",
    "# from geoviews import opts\n",
    "# gv.extension('bokeh')\n",
    "\n",
    "#THis was a library for the above mapping, but could not get to work\n",
    "# # https://github.com/Toblerity/Fiona\n",
    "# import fiona\n",
    "# from fiona import Feature, Geometry\n",
    "# from shapely.geometry import mapping, shape\n",
    "# import warnings\n",
    "# warnings.filterwarnings('ignore')\n",
    "\n",
    "#Pull in API key from personal file\n",
    "from api_keys import geoapify_key"
   ]
  },
  {
   "cell_type": "code",
   "execution_count": 3,
   "id": "fc419f3b",
   "metadata": {},
   "outputs": [
    {
     "data": {
      "text/html": [
       "<div>\n",
       "<style scoped>\n",
       "    .dataframe tbody tr th:only-of-type {\n",
       "        vertical-align: middle;\n",
       "    }\n",
       "\n",
       "    .dataframe tbody tr th {\n",
       "        vertical-align: top;\n",
       "    }\n",
       "\n",
       "    .dataframe thead th {\n",
       "        text-align: right;\n",
       "    }\n",
       "</style>\n",
       "<table border=\"1\" class=\"dataframe\">\n",
       "  <thead>\n",
       "    <tr style=\"text-align: right;\">\n",
       "      <th></th>\n",
       "      <th>Rank</th>\n",
       "      <th>CCA3</th>\n",
       "      <th>Country/Territory</th>\n",
       "      <th>Capital</th>\n",
       "      <th>Continent</th>\n",
       "      <th>2022 Population</th>\n",
       "      <th>2020 Population</th>\n",
       "      <th>2015 Population</th>\n",
       "      <th>2010 Population</th>\n",
       "      <th>2000 Population</th>\n",
       "      <th>1990 Population</th>\n",
       "      <th>1980 Population</th>\n",
       "      <th>1970 Population</th>\n",
       "      <th>Area (km²)</th>\n",
       "      <th>Density (per km²)</th>\n",
       "      <th>Growth Rate</th>\n",
       "      <th>World Population Percentage</th>\n",
       "      <th>geo_country</th>\n",
       "      <th>iso_two</th>\n",
       "    </tr>\n",
       "  </thead>\n",
       "  <tbody>\n",
       "    <tr>\n",
       "      <th>0</th>\n",
       "      <td>36</td>\n",
       "      <td>AFG</td>\n",
       "      <td>Afghanistan</td>\n",
       "      <td>Kabul</td>\n",
       "      <td>Asia</td>\n",
       "      <td>41128771</td>\n",
       "      <td>38972230</td>\n",
       "      <td>33753499</td>\n",
       "      <td>28189672</td>\n",
       "      <td>19542982</td>\n",
       "      <td>10694796</td>\n",
       "      <td>12486631</td>\n",
       "      <td>10752971</td>\n",
       "      <td>652230</td>\n",
       "      <td>63.0587</td>\n",
       "      <td>1.0257</td>\n",
       "      <td>0.52</td>\n",
       "      <td></td>\n",
       "      <td></td>\n",
       "    </tr>\n",
       "    <tr>\n",
       "      <th>1</th>\n",
       "      <td>138</td>\n",
       "      <td>ALB</td>\n",
       "      <td>Albania</td>\n",
       "      <td>Tirana</td>\n",
       "      <td>Europe</td>\n",
       "      <td>2842321</td>\n",
       "      <td>2866849</td>\n",
       "      <td>2882481</td>\n",
       "      <td>2913399</td>\n",
       "      <td>3182021</td>\n",
       "      <td>3295066</td>\n",
       "      <td>2941651</td>\n",
       "      <td>2324731</td>\n",
       "      <td>28748</td>\n",
       "      <td>98.8702</td>\n",
       "      <td>0.9957</td>\n",
       "      <td>0.04</td>\n",
       "      <td></td>\n",
       "      <td></td>\n",
       "    </tr>\n",
       "    <tr>\n",
       "      <th>2</th>\n",
       "      <td>34</td>\n",
       "      <td>DZA</td>\n",
       "      <td>Algeria</td>\n",
       "      <td>Algiers</td>\n",
       "      <td>Africa</td>\n",
       "      <td>44903225</td>\n",
       "      <td>43451666</td>\n",
       "      <td>39543154</td>\n",
       "      <td>35856344</td>\n",
       "      <td>30774621</td>\n",
       "      <td>25518074</td>\n",
       "      <td>18739378</td>\n",
       "      <td>13795915</td>\n",
       "      <td>2381741</td>\n",
       "      <td>18.8531</td>\n",
       "      <td>1.0164</td>\n",
       "      <td>0.56</td>\n",
       "      <td></td>\n",
       "      <td></td>\n",
       "    </tr>\n",
       "    <tr>\n",
       "      <th>3</th>\n",
       "      <td>213</td>\n",
       "      <td>ASM</td>\n",
       "      <td>American Samoa</td>\n",
       "      <td>Pago Pago</td>\n",
       "      <td>Oceania</td>\n",
       "      <td>44273</td>\n",
       "      <td>46189</td>\n",
       "      <td>51368</td>\n",
       "      <td>54849</td>\n",
       "      <td>58230</td>\n",
       "      <td>47818</td>\n",
       "      <td>32886</td>\n",
       "      <td>27075</td>\n",
       "      <td>199</td>\n",
       "      <td>222.4774</td>\n",
       "      <td>0.9831</td>\n",
       "      <td>0.00</td>\n",
       "      <td></td>\n",
       "      <td></td>\n",
       "    </tr>\n",
       "    <tr>\n",
       "      <th>4</th>\n",
       "      <td>203</td>\n",
       "      <td>AND</td>\n",
       "      <td>Andorra</td>\n",
       "      <td>Andorra la Vella</td>\n",
       "      <td>Europe</td>\n",
       "      <td>79824</td>\n",
       "      <td>77700</td>\n",
       "      <td>71746</td>\n",
       "      <td>71519</td>\n",
       "      <td>66097</td>\n",
       "      <td>53569</td>\n",
       "      <td>35611</td>\n",
       "      <td>19860</td>\n",
       "      <td>468</td>\n",
       "      <td>170.5641</td>\n",
       "      <td>1.0100</td>\n",
       "      <td>0.00</td>\n",
       "      <td></td>\n",
       "      <td></td>\n",
       "    </tr>\n",
       "  </tbody>\n",
       "</table>\n",
       "</div>"
      ],
      "text/plain": [
       "   Rank CCA3 Country/Territory           Capital Continent  2022 Population  \\\n",
       "0    36  AFG       Afghanistan             Kabul      Asia         41128771   \n",
       "1   138  ALB           Albania            Tirana    Europe          2842321   \n",
       "2    34  DZA           Algeria           Algiers    Africa         44903225   \n",
       "3   213  ASM    American Samoa         Pago Pago   Oceania            44273   \n",
       "4   203  AND           Andorra  Andorra la Vella    Europe            79824   \n",
       "\n",
       "   2020 Population  2015 Population  2010 Population  2000 Population  \\\n",
       "0         38972230         33753499         28189672         19542982   \n",
       "1          2866849          2882481          2913399          3182021   \n",
       "2         43451666         39543154         35856344         30774621   \n",
       "3            46189            51368            54849            58230   \n",
       "4            77700            71746            71519            66097   \n",
       "\n",
       "   1990 Population  1980 Population  1970 Population  Area (km²)  \\\n",
       "0         10694796         12486631         10752971      652230   \n",
       "1          3295066          2941651          2324731       28748   \n",
       "2         25518074         18739378         13795915     2381741   \n",
       "3            47818            32886            27075         199   \n",
       "4            53569            35611            19860         468   \n",
       "\n",
       "   Density (per km²)  Growth Rate  World Population Percentage geo_country  \\\n",
       "0            63.0587       1.0257                         0.52               \n",
       "1            98.8702       0.9957                         0.04               \n",
       "2            18.8531       1.0164                         0.56               \n",
       "3           222.4774       0.9831                         0.00               \n",
       "4           170.5641       1.0100                         0.00               \n",
       "\n",
       "  iso_two  \n",
       "0          \n",
       "1          \n",
       "2          \n",
       "3          \n",
       "4          "
      ]
     },
     "execution_count": 3,
     "metadata": {},
     "output_type": "execute_result"
    }
   ],
   "source": [
    "\n",
    "#Read in our base dataset as a dataframe\n",
    "world_data_df = pd.read_csv('Datasets/world_population.csv')\n",
    "\n",
    "#set parameters for later API searches on GeoApify\n",
    "base_url = \"https://api.geoapify.com/v1/geocode/search\"\n",
    "params = {\n",
    "    \"apiKey\":geoapify_key,\n",
    "    \"format\":\"json\",\n",
    "    \"limit\": 1\n",
    "}\n",
    "\n",
    "#Add columns for geoapify country name and iso_alpha to normalize across datasets\n",
    "world_data_df['geo_country'] = \"\"\n",
    "world_data_df['iso_two'] = \"\"\n",
    "\n",
    "#Briefly explored this as a better way to add columns, but removed because it kept adding if code executed again\n",
    "# world_data_df = world_data_df.reindex(columns = world_data_df.columns.tolist() + ['geo_country'])\n",
    "# world_data_df = world_data_df.reindex(columns = world_data_df.columns.tolist() + ['iso_two'])\n",
    "# # world_data_df = world_data_df.reindex(columns = world_data_df.columns.tolist() + ['iso_three'])\n",
    "\n",
    "#Look at first five rows of base dataset to confirm new columns\n",
    "world_data_df.head()"
   ]
  },
  {
   "cell_type": "code",
   "execution_count": 4,
   "id": "c99cc5d0",
   "metadata": {},
   "outputs": [
    {
     "name": "stdout",
     "output_type": "stream",
     "text": [
      "{'query': {'parsed': {'country': 'New Caledonia', 'expected_type': 'unknown'},\n",
      "           'text': ''},\n",
      " 'results': [{'address_line1': 'France',\n",
      "              'address_line2': '',\n",
      "              'archipelago': 'New Caledonia',\n",
      "              'bbox': {'lat1': -23.2217509,\n",
      "                       'lat2': -17.6868616,\n",
      "                       'lon1': 157.9847541,\n",
      "                       'lon2': 172.3057152},\n",
      "              'category': 'administrative',\n",
      "              'country': 'France',\n",
      "              'country_code': 'fr',\n",
      "              'datasource': {'attribution': '© OpenStreetMap contributors',\n",
      "                             'license': 'Open Database License',\n",
      "                             'sourcename': 'openstreetmap',\n",
      "                             'url': 'https://www.openstreetmap.org/copyright'},\n",
      "              'formatted': 'France',\n",
      "              'lat': -21.3019905,\n",
      "              'lon': 165.4880773,\n",
      "              'place_id': '51702d49549eaf644059e333d93f4f4d35c0f00101f9011bff330000000000c0020b',\n",
      "              'rank': {'confidence': 0,\n",
      "                       'importance': 0.8530281909202375,\n",
      "                       'match_type': 'match_by_country_or_state',\n",
      "                       'popularity': 0.3579637476718822},\n",
      "              'result_type': 'country',\n",
      "              'timezone': {'name': 'Pacific/Noumea',\n",
      "                           'offset_DST': '+11:00',\n",
      "                           'offset_DST_seconds': 39600,\n",
      "                           'offset_STD': '+11:00',\n",
      "                           'offset_STD_seconds': 39600}}]}\n"
     ]
    }
   ],
   "source": [
    "#This code was used to test specific API pulls to see how the errors and duplication were occuring in the data\n",
    "\n",
    "\n",
    "#Manual country input to trace errors/dupes\n",
    "params['country'] = 'New Caledonia'\n",
    "current_country = requests.get(base_url, params).json()\n",
    "\n",
    "pprint(current_country)"
   ]
  },
  {
   "cell_type": "code",
   "execution_count": 5,
   "id": "a74b3c1c",
   "metadata": {
    "scrolled": true
   },
   "outputs": [
    {
     "name": "stdout",
     "output_type": "stream",
     "text": [
      "Indexing: Afghanistan as af and confidence: 1\n",
      "Indexing: Albania as al and confidence: 1\n",
      "Indexing: Algeria as dz and confidence: 1\n",
      "Dropping: {'results': [], 'query': {'text': '', 'parsed': {'country': 'American Samoa', 'expected_type': 'unknown'}}}\n",
      "Indexing: Andorra as ad and confidence: 1\n",
      "Indexing: Angola as ao and confidence: 1\n",
      "Indexing: Anguilla as ai and confidence: 1\n",
      "Indexing: Antigua and Barbuda as ag and confidence: 1\n",
      "Indexing: Argentina as ar and confidence: 1\n",
      "Indexing: Armenia as am and confidence: 1\n",
      "Indexing: Aruba as aw and confidence: 1\n",
      "Indexing: Australia as au and confidence: 1\n",
      "Indexing: Austria as at and confidence: 1\n",
      "Indexing: Azerbaijan as az and confidence: 1\n",
      "Indexing: The Bahamas as bs and confidence: 1\n",
      "Indexing: Bahrain as bh and confidence: 1\n",
      "Indexing: Bangladesh as bd and confidence: 1\n",
      "Indexing: Barbados as bb and confidence: 1\n",
      "Indexing: Belarus as by and confidence: 1\n",
      "Indexing: Belgium as be and confidence: 1\n",
      "Indexing: Belize as bz and confidence: 1\n",
      "Indexing: Benin as bj and confidence: 1\n",
      "Indexing: Bermuda as bm and confidence: 1\n",
      "Indexing: Bhutan as bt and confidence: 1\n",
      "Indexing: Bolivia as bo and confidence: 1\n",
      "Indexing: Bosnia and Herzegovina as ba and confidence: 1\n",
      "Indexing: Botswana as bw and confidence: 1\n",
      "Indexing: Brazil as br and confidence: 1\n",
      "Indexing: British Virgin Islands as vg and confidence: 1\n",
      "Indexing: Brunei as bn and confidence: 1\n",
      "Indexing: Bulgaria as bg and confidence: 1\n",
      "Indexing: Burkina Faso as bf and confidence: 1\n",
      "Indexing: Burundi as bi and confidence: 1\n",
      "Indexing: Cambodia as kh and confidence: 1\n",
      "Indexing: Cameroon as cm and confidence: 1\n",
      "Indexing: Canada as ca and confidence: 1\n",
      "Indexing: Cape Verde as cv and confidence: 1\n",
      "Indexing: Cayman Islands as ky and confidence: 1\n",
      "Indexing: Central African Republic as cf and confidence: 1\n",
      "Indexing: Chad as td and confidence: 1\n",
      "Indexing: Chile as cl and confidence: 1\n",
      "Indexing: China as cn and confidence: 1\n",
      "Indexing: Colombia as co and confidence: 1\n",
      "Indexing: Comoros as km and confidence: 1\n",
      "Indexing: Cook Islands as ck and confidence: 1\n",
      "Indexing: Costa Rica as cr and confidence: 1\n",
      "Indexing: Croatia as hr and confidence: 1\n",
      "Indexing: Cuba as cu and confidence: 1\n",
      "Indexing: Curacao as cw and confidence: 1\n",
      "Indexing: Cyprus as cy and confidence: 1\n",
      "Indexing: Czechia as cz and confidence: 1\n",
      "Indexing: Denmark as dk and confidence: 1\n",
      "Indexing: Djibouti as dj and confidence: 1\n",
      "Indexing: Dominica as dm and confidence: 1\n",
      "Indexing: Dominican Republic as do and confidence: 1\n",
      "Indexing: Democratic Republic of the Congo as cd and confidence: 1\n",
      "Indexing: Ecuador as ec and confidence: 1\n",
      "Indexing: Egypt as eg and confidence: 1\n",
      "Indexing: El Salvador as sv and confidence: 1\n",
      "Indexing: Equatorial Guinea as gq and confidence: 1\n",
      "Indexing: Eritrea as er and confidence: 1\n",
      "Indexing: Estonia as ee and confidence: 1\n",
      "Indexing: Eswatini as sz and confidence: 1\n",
      "Indexing: Ethiopia as et and confidence: 1\n",
      "Indexing: Falkland Islands as fk and confidence: 1\n",
      "Indexing: Faroe Islands as fo and confidence: 1\n",
      "Indexing: Fiji as fj and confidence: 1\n",
      "Indexing: Finland as fi and confidence: 1\n",
      "Indexing: France as fr and confidence: 1\n",
      "Dropping: {'results': [], 'query': {'text': '', 'parsed': {'country': 'French Guiana', 'expected_type': 'unknown'}}}\n",
      "Dropping: {'results': [], 'query': {'text': '', 'parsed': {'country': 'French Polynesia', 'expected_type': 'unknown'}}}\n",
      "Indexing: Gabon as ga and confidence: 1\n",
      "Indexing: The Gambia as gm and confidence: 1\n",
      "Indexing: Georgia as ge and confidence: 1\n",
      "Indexing: Germany as de and confidence: 1\n",
      "Indexing: Ghana as gh and confidence: 1\n",
      "Indexing: Gibraltar as gi and confidence: 1\n",
      "Indexing: Greece as gr and confidence: 1\n",
      "Indexing: Greenland as gl and confidence: 1\n",
      "Indexing: Grenada as gd and confidence: 1\n",
      "Dropping: {'results': [], 'query': {'text': '', 'parsed': {'country': 'Guadeloupe', 'expected_type': 'unknown'}}}\n",
      "Dropping: {'results': [], 'query': {'text': '', 'parsed': {'country': 'Guam', 'expected_type': 'unknown'}}}\n",
      "Indexing: Guatemala as gt and confidence: 1\n",
      "Indexing: Guernsey as gg and confidence: 1\n",
      "Indexing: Guinea as gn and confidence: 1\n",
      "Indexing: Guinea-Bissau as gw and confidence: 1\n",
      "Indexing: Guyana as gy and confidence: 1\n",
      "Indexing: Haiti as ht and confidence: 1\n",
      "Indexing: Honduras as hn and confidence: 1\n",
      "Indexing: Hong Kong S.A.R. as hk and confidence: 1\n",
      "Indexing: Hungary as hu and confidence: 1\n",
      "Indexing: Iceland as is and confidence: 1\n",
      "Indexing: India as in and confidence: 1\n",
      "Indexing: Indonesia as id and confidence: 1\n",
      "Indexing: Iran as ir and confidence: 1\n",
      "Indexing: Iraq as iq and confidence: 1\n",
      "Indexing: Ireland as ie and confidence: 1\n",
      "Indexing: Isle of Man as im and confidence: 1\n",
      "Indexing: Israel as il and confidence: 1\n",
      "Indexing: Italy as it and confidence: 1\n",
      "Indexing: Côte d'Ivoire as ci and confidence: 1\n",
      "Indexing: Jamaica as jm and confidence: 1\n",
      "Indexing: Japan as jp and confidence: 1\n",
      "Indexing: Jersey as je and confidence: 1\n",
      "Indexing: Jordan as jo and confidence: 1\n",
      "Indexing: Kazakhstan as kz and confidence: 1\n",
      "Indexing: Kenya as ke and confidence: 1\n",
      "Indexing: Kiribati as ki and confidence: 1\n",
      "Indexing: Kuwait as kw and confidence: 1\n",
      "Indexing: Kyrgyzstan as kg and confidence: 1\n",
      "Indexing: Laos as la and confidence: 1\n",
      "Indexing: Latvia as lv and confidence: 1\n",
      "Indexing: Lebanon as lb and confidence: 1\n",
      "Indexing: Lesotho as ls and confidence: 1\n",
      "Indexing: Liberia as lr and confidence: 1\n",
      "Indexing: Libya as ly and confidence: 1\n",
      "Indexing: Liechtenstein as li and confidence: 1\n",
      "Indexing: Lithuania as lt and confidence: 1\n",
      "Indexing: Luxembourg as lu and confidence: 1\n",
      "Indexing: Macau S.A.R. as mo and confidence: 1\n",
      "Indexing: Madagascar as mg and confidence: 1\n",
      "Indexing: Malawi as mw and confidence: 1\n",
      "Indexing: Malaysia as my and confidence: 1\n",
      "Indexing: Maldives as mv and confidence: 1\n",
      "Indexing: Mali as ml and confidence: 1\n",
      "Indexing: Malta as mt and confidence: 1\n",
      "Indexing: Marshall Islands as mh and confidence: 1\n",
      "Dropping: {'results': [], 'query': {'text': '', 'parsed': {'country': 'Martinique', 'expected_type': 'unknown'}}}\n",
      "Indexing: Mauritania as mr and confidence: 1\n",
      "Indexing: Mauritius as mu and confidence: 1\n",
      "Dropping: {'results': [], 'query': {'text': '', 'parsed': {'country': 'Mayotte', 'expected_type': 'unknown'}}}\n",
      "Indexing: Mexico as mx and confidence: 1\n",
      "Indexing: Federated States of Micronesia as fm and confidence: 1\n",
      "Indexing: Moldova as md and confidence: 1\n",
      "Indexing: Monaco as mc and confidence: 1\n",
      "Indexing: Mongolia as mn and confidence: 1\n",
      "Indexing: Montenegro as me and confidence: 1\n",
      "Indexing: Montserrat as ms and confidence: 1\n",
      "Indexing: Morocco as ma and confidence: 1\n",
      "Indexing: Mozambique as mz and confidence: 1\n",
      "Indexing: Myanmar as mm and confidence: 1\n",
      "Indexing: Namibia as na and confidence: 1\n",
      "Indexing: Nauru as nr and confidence: 1\n",
      "Indexing: Nepal as np and confidence: 1\n",
      "Indexing: Netherlands as nl and confidence: 1\n",
      "Indexing: France as fr and confidence: 0\n",
      "Indexing: New Zealand as nz and confidence: 1\n",
      "Indexing: Nicaragua as ni and confidence: 1\n",
      "Indexing: Niger as ne and confidence: 1\n",
      "Indexing: Nigeria as ng and confidence: 1\n",
      "Indexing: Niue as nu and confidence: 1\n",
      "Indexing: North Korea as kp and confidence: 1\n",
      "Indexing: North Macedonia as mk and confidence: 1\n",
      "Dropping: {'results': [], 'query': {'text': '', 'parsed': {'country': 'Northern Mariana Islands', 'expected_type': 'unknown'}}}\n",
      "Indexing: Norway as no and confidence: 1\n",
      "Indexing: Oman as om and confidence: 1\n",
      "Indexing: Pakistan as pk and confidence: 1\n",
      "Indexing: Palau as pw and confidence: 1\n",
      "Indexing: Palestinian Territory as ps and confidence: 1\n",
      "Indexing: Panama as pa and confidence: 1\n",
      "Indexing: Papua New Guinea as pg and confidence: 1\n",
      "Indexing: Paraguay as py and confidence: 1\n",
      "Indexing: Peru as pe and confidence: 1\n",
      "Indexing: Philippines as ph and confidence: 1\n",
      "Indexing: Poland as pl and confidence: 1\n",
      "Indexing: Portugal as pt and confidence: 1\n",
      "Dropping: {'results': [], 'query': {'text': '', 'parsed': {'country': 'Puerto Rico', 'expected_type': 'unknown'}}}\n",
      "Indexing: Qatar as qa and confidence: 1\n",
      "Indexing: Congo-Brazzaville as cg and confidence: 1\n",
      "Dropping: {'results': [], 'query': {'text': '', 'parsed': {'country': 'Reunion', 'expected_type': 'unknown'}}}\n",
      "Indexing: Romania as ro and confidence: 1\n",
      "Indexing: Russia as ru and confidence: 1\n"
     ]
    },
    {
     "name": "stdout",
     "output_type": "stream",
     "text": [
      "Indexing: Rwanda as rw and confidence: 1\n",
      "Indexing: St. Lucia as lc and confidence: 0\n",
      "Indexing: Saint Kitts and Nevis as kn and confidence: 1\n",
      "Indexing: Saint Lucia as lc and confidence: 1\n",
      "Indexing: Sint Maarten as sx and confidence: 0\n",
      "Dropping: {'results': [], 'query': {'text': '', 'parsed': {'country': 'Saint Pierre and Miquelon', 'expected_type': 'unknown'}}}\n",
      "Indexing: Saint Vincent and the Grenadines as vc and confidence: 1\n",
      "Indexing: Samoa as ws and confidence: 1\n",
      "Indexing: San Marino as sm and confidence: 1\n",
      "Indexing: São Tomé and Príncipe as st and confidence: 1\n",
      "Indexing: Saudi Arabia as sa and confidence: 1\n",
      "Indexing: Senegal as sn and confidence: 1\n",
      "Indexing: Serbia as rs and confidence: 1\n",
      "Indexing: Seychelles as sc and confidence: 1\n",
      "Indexing: Sierra Leone as sl and confidence: 1\n",
      "Indexing: Singapore as sg and confidence: 1\n",
      "Indexing: Sint Maarten as sx and confidence: 1\n",
      "Indexing: Slovakia as sk and confidence: 1\n",
      "Indexing: Slovenia as si and confidence: 1\n",
      "Indexing: Solomon Islands as sb and confidence: 1\n",
      "Indexing: Somalia as so and confidence: 1\n",
      "Indexing: South Africa as za and confidence: 1\n",
      "Indexing: South Korea as kr and confidence: 1\n",
      "Indexing: South Sudan as ss and confidence: 1\n",
      "Indexing: Spain as es and confidence: 1\n",
      "Indexing: Sri Lanka as lk and confidence: 1\n",
      "Indexing: Sudan as sd and confidence: 1\n",
      "Indexing: Suriname as sr and confidence: 1\n",
      "Indexing: Sweden as se and confidence: 1\n",
      "Indexing: Switzerland as ch and confidence: 1\n",
      "Indexing: Syria as sy and confidence: 1\n",
      "Indexing: Taiwan as tw and confidence: 1\n",
      "Indexing: Tajikistan as tj and confidence: 1\n",
      "Indexing: Tanzania as tz and confidence: 1\n",
      "Indexing: Thailand as th and confidence: 1\n",
      "Indexing: East Timor as tl and confidence: 1\n",
      "Indexing: Togo as tg and confidence: 1\n",
      "Indexing: Tokelau as tk and confidence: 1\n",
      "Indexing: Tonga as to and confidence: 1\n",
      "Indexing: Trinidad and Tobago as tt and confidence: 1\n",
      "Indexing: Tunisia as tn and confidence: 1\n",
      "Indexing: Turkey as tr and confidence: 1\n",
      "Indexing: Turkmenistan as tm and confidence: 1\n",
      "Indexing: Turks and Caicos Islands as tc and confidence: 1\n",
      "Indexing: Tuvalu as tv and confidence: 1\n",
      "Indexing: Uganda as ug and confidence: 1\n",
      "Indexing: Ukraine as ua and confidence: 1\n",
      "Indexing: United Arab Emirates as ae and confidence: 1\n",
      "Indexing: United Kingdom as gb and confidence: 1\n",
      "Indexing: United States as us and confidence: 1\n",
      "Dropping: {'results': [], 'query': {'text': '', 'parsed': {'country': 'United States Virgin Islands', 'expected_type': 'unknown'}}}\n",
      "Indexing: Uruguay as uy and confidence: 1\n",
      "Indexing: Uzbekistan as uz and confidence: 1\n",
      "Indexing: Vanuatu as vu and confidence: 1\n",
      "Dropping: {'results': [], 'query': {'text': '', 'parsed': {'country': 'Vatican City', 'expected_type': 'unknown'}}}\n",
      "Indexing: Venezuela as ve and confidence: 1\n",
      "Indexing: Vietnam as vn and confidence: 1\n",
      "Dropping: {'results': [], 'query': {'text': '', 'parsed': {'country': 'Wallis and Futuna', 'expected_type': 'unknown'}}}\n",
      "Indexing: Western Sahara as eh and confidence: 1\n",
      "Indexing: Yemen as ye and confidence: 1\n",
      "Indexing: Zambia as zm and confidence: 1\n",
      "Indexing: Zimbabwe as zw and confidence: 1\n"
     ]
    }
   ],
   "source": [
    "\n",
    "\n",
    "# Iterate dataset to remove non-countries and normalize name syntax and iso key\n",
    "for index, row in world_data_df.iterrows():\n",
    "\n",
    "    #Set country parameter for current row and call API\n",
    "    params['country'] = world_data_df.loc[index, 'Country/Territory']\n",
    "    current_country = requests.get(base_url, params).json()\n",
    "    \n",
    "    # Attempt to add proper syntax to geo_country and iso_two in base dataframe\n",
    "    try: \n",
    "        world_data_df.loc[index, 'geo_country'] = current_country['results'][0]['country']\n",
    "        world_data_df.loc[index, 'iso_two'] = current_country['results'][0]['country_code']\n",
    "        # Show progress for each loop\n",
    "        print(f\"Indexing: {world_data_df.loc[index, 'geo_country']} as {world_data_df.loc[index, 'iso_two']} and confidence: {current_country['results'][0]['rank']['confidence']}\")\n",
    "\n",
    "        #If the serach confidence is zero, drop the row\n",
    "        if current_country['results'][0]['rank']['confidence'] == 0:\n",
    "            world_data_df = world_data_df.drop(labels=index, axis=0)\n",
    "\n",
    "    #If the above try fails with no country/iso, delete the row\n",
    "    except IndexError:\n",
    "        print(f\"Dropping: {current_country}\")\n",
    "        world_data_df = world_data_df.drop(labels=index, axis=0)\n",
    "        \n",
    "\n",
    "\n",
    "    \n"
   ]
  },
  {
   "cell_type": "code",
   "execution_count": 6,
   "id": "4639e7ff",
   "metadata": {},
   "outputs": [
    {
     "data": {
      "text/html": [
       "<div>\n",
       "<style scoped>\n",
       "    .dataframe tbody tr th:only-of-type {\n",
       "        vertical-align: middle;\n",
       "    }\n",
       "\n",
       "    .dataframe tbody tr th {\n",
       "        vertical-align: top;\n",
       "    }\n",
       "\n",
       "    .dataframe thead th {\n",
       "        text-align: right;\n",
       "    }\n",
       "</style>\n",
       "<table border=\"1\" class=\"dataframe\">\n",
       "  <thead>\n",
       "    <tr style=\"text-align: right;\">\n",
       "      <th></th>\n",
       "      <th>Rank</th>\n",
       "      <th>CCA3</th>\n",
       "      <th>Country/Territory</th>\n",
       "      <th>Capital</th>\n",
       "      <th>Continent</th>\n",
       "      <th>2022 Population</th>\n",
       "      <th>2020 Population</th>\n",
       "      <th>2015 Population</th>\n",
       "      <th>2010 Population</th>\n",
       "      <th>2000 Population</th>\n",
       "      <th>1990 Population</th>\n",
       "      <th>1980 Population</th>\n",
       "      <th>1970 Population</th>\n",
       "      <th>Area (km²)</th>\n",
       "      <th>Density (per km²)</th>\n",
       "      <th>Growth Rate</th>\n",
       "      <th>World Population Percentage</th>\n",
       "      <th>geo_country</th>\n",
       "      <th>iso_two</th>\n",
       "      <th>iso_three</th>\n",
       "    </tr>\n",
       "  </thead>\n",
       "  <tbody>\n",
       "    <tr>\n",
       "      <th>0</th>\n",
       "      <td>36</td>\n",
       "      <td>AFG</td>\n",
       "      <td>Afghanistan</td>\n",
       "      <td>Kabul</td>\n",
       "      <td>Asia</td>\n",
       "      <td>41128771</td>\n",
       "      <td>38972230</td>\n",
       "      <td>33753499</td>\n",
       "      <td>28189672</td>\n",
       "      <td>19542982</td>\n",
       "      <td>10694796</td>\n",
       "      <td>12486631</td>\n",
       "      <td>10752971</td>\n",
       "      <td>652230</td>\n",
       "      <td>63.0587</td>\n",
       "      <td>1.0257</td>\n",
       "      <td>0.52</td>\n",
       "      <td>Afghanistan</td>\n",
       "      <td>af</td>\n",
       "      <td>afg</td>\n",
       "    </tr>\n",
       "    <tr>\n",
       "      <th>1</th>\n",
       "      <td>138</td>\n",
       "      <td>ALB</td>\n",
       "      <td>Albania</td>\n",
       "      <td>Tirana</td>\n",
       "      <td>Europe</td>\n",
       "      <td>2842321</td>\n",
       "      <td>2866849</td>\n",
       "      <td>2882481</td>\n",
       "      <td>2913399</td>\n",
       "      <td>3182021</td>\n",
       "      <td>3295066</td>\n",
       "      <td>2941651</td>\n",
       "      <td>2324731</td>\n",
       "      <td>28748</td>\n",
       "      <td>98.8702</td>\n",
       "      <td>0.9957</td>\n",
       "      <td>0.04</td>\n",
       "      <td>Albania</td>\n",
       "      <td>al</td>\n",
       "      <td>alb</td>\n",
       "    </tr>\n",
       "    <tr>\n",
       "      <th>2</th>\n",
       "      <td>34</td>\n",
       "      <td>DZA</td>\n",
       "      <td>Algeria</td>\n",
       "      <td>Algiers</td>\n",
       "      <td>Africa</td>\n",
       "      <td>44903225</td>\n",
       "      <td>43451666</td>\n",
       "      <td>39543154</td>\n",
       "      <td>35856344</td>\n",
       "      <td>30774621</td>\n",
       "      <td>25518074</td>\n",
       "      <td>18739378</td>\n",
       "      <td>13795915</td>\n",
       "      <td>2381741</td>\n",
       "      <td>18.8531</td>\n",
       "      <td>1.0164</td>\n",
       "      <td>0.56</td>\n",
       "      <td>Algeria</td>\n",
       "      <td>dz</td>\n",
       "      <td>dza</td>\n",
       "    </tr>\n",
       "    <tr>\n",
       "      <th>3</th>\n",
       "      <td>203</td>\n",
       "      <td>AND</td>\n",
       "      <td>Andorra</td>\n",
       "      <td>Andorra la Vella</td>\n",
       "      <td>Europe</td>\n",
       "      <td>79824</td>\n",
       "      <td>77700</td>\n",
       "      <td>71746</td>\n",
       "      <td>71519</td>\n",
       "      <td>66097</td>\n",
       "      <td>53569</td>\n",
       "      <td>35611</td>\n",
       "      <td>19860</td>\n",
       "      <td>468</td>\n",
       "      <td>170.5641</td>\n",
       "      <td>1.0100</td>\n",
       "      <td>0.00</td>\n",
       "      <td>Andorra</td>\n",
       "      <td>ad</td>\n",
       "      <td>and</td>\n",
       "    </tr>\n",
       "    <tr>\n",
       "      <th>4</th>\n",
       "      <td>42</td>\n",
       "      <td>AGO</td>\n",
       "      <td>Angola</td>\n",
       "      <td>Luanda</td>\n",
       "      <td>Africa</td>\n",
       "      <td>35588987</td>\n",
       "      <td>33428485</td>\n",
       "      <td>28127721</td>\n",
       "      <td>23364185</td>\n",
       "      <td>16394062</td>\n",
       "      <td>11828638</td>\n",
       "      <td>8330047</td>\n",
       "      <td>6029700</td>\n",
       "      <td>1246700</td>\n",
       "      <td>28.5466</td>\n",
       "      <td>1.0315</td>\n",
       "      <td>0.45</td>\n",
       "      <td>Angola</td>\n",
       "      <td>ao</td>\n",
       "      <td>ago</td>\n",
       "    </tr>\n",
       "  </tbody>\n",
       "</table>\n",
       "</div>"
      ],
      "text/plain": [
       "   Rank CCA3 Country/Territory           Capital Continent  2022 Population  \\\n",
       "0    36  AFG       Afghanistan             Kabul      Asia         41128771   \n",
       "1   138  ALB           Albania            Tirana    Europe          2842321   \n",
       "2    34  DZA           Algeria           Algiers    Africa         44903225   \n",
       "3   203  AND           Andorra  Andorra la Vella    Europe            79824   \n",
       "4    42  AGO            Angola            Luanda    Africa         35588987   \n",
       "\n",
       "   2020 Population  2015 Population  2010 Population  2000 Population  \\\n",
       "0         38972230         33753499         28189672         19542982   \n",
       "1          2866849          2882481          2913399          3182021   \n",
       "2         43451666         39543154         35856344         30774621   \n",
       "3            77700            71746            71519            66097   \n",
       "4         33428485         28127721         23364185         16394062   \n",
       "\n",
       "   1990 Population  1980 Population  1970 Population  Area (km²)  \\\n",
       "0         10694796         12486631         10752971      652230   \n",
       "1          3295066          2941651          2324731       28748   \n",
       "2         25518074         18739378         13795915     2381741   \n",
       "3            53569            35611            19860         468   \n",
       "4         11828638          8330047          6029700     1246700   \n",
       "\n",
       "   Density (per km²)  Growth Rate  World Population Percentage  geo_country  \\\n",
       "0            63.0587       1.0257                         0.52  Afghanistan   \n",
       "1            98.8702       0.9957                         0.04      Albania   \n",
       "2            18.8531       1.0164                         0.56      Algeria   \n",
       "3           170.5641       1.0100                         0.00      Andorra   \n",
       "4            28.5466       1.0315                         0.45       Angola   \n",
       "\n",
       "  iso_two iso_three  \n",
       "0      af       afg  \n",
       "1      al       alb  \n",
       "2      dz       dza  \n",
       "3      ad       and  \n",
       "4      ao       ago  "
      ]
     },
     "execution_count": 6,
     "metadata": {},
     "output_type": "execute_result"
    }
   ],
   "source": [
    "# https://github.com/stefangabos/world_countries/blob/master/data/countries/_combined/countries.csv\n",
    "\n",
    "# Bring in the countrynames dataset to merge on the two character iso\n",
    "countrynames = pd.read_csv('Datasets/countries.csv')\n",
    "\n",
    "#Rename columns and reduce dataset to just the iso country codes\n",
    "countrynames.rename(columns={'alpha2': 'iso_two', 'alpha3': 'iso_three'}, inplace=True)\n",
    "countrynames = countrynames[['iso_two', 'iso_three']]\n",
    "\n",
    "#Merge the base dataset with the new one containing both iso codes. Merge on two-character iso\n",
    "countryiso = pd.merge(world_data_df, countrynames, on='iso_two', how='left')\n",
    "countryiso['iso_two'].value_counts()\n",
    "countryiso.head()"
   ]
  },
  {
   "cell_type": "code",
   "execution_count": 8,
   "id": "670a2f83",
   "metadata": {},
   "outputs": [],
   "source": [
    "#Check for all rows having same CCA3 and three-character iso\n",
    "for index, row in countryiso.iterrows():\n",
    "    if countryiso.loc[index, 'CCA3'].lower() != countryiso.loc[index, 'iso_three']:\n",
    "        print(f\"{countryiso.loc[index, 'geo_country']} does not have matching iso codes: CCA3 {countryiso.loc[index, 'CCA3']} vs. iso_three {countryiso.loc[index, 'iso_three']}\")\n",
    "        #Delete the row if iso codes don't match\n",
    "        countryiso = countryiso.drop(labels=index, axis=0)"
   ]
  },
  {
   "cell_type": "code",
   "execution_count": null,
   "id": "a1e6339f",
   "metadata": {},
   "outputs": [],
   "source": [
    "\n",
    "# world_data_df.loc[world_data_df['geo_country'] == 'France']"
   ]
  },
  {
   "cell_type": "code",
   "execution_count": null,
   "id": "e785be75",
   "metadata": {},
   "outputs": [],
   "source": [
    "# world_data_df = world_data_df.rename(columns={'Country/Territory': 'country'})\n",
    "\n",
    "\n",
    "# world_data = pd.merge(world_data_df, mapcheck, on='geo_country', how='inner')\n",
    "\n",
    "# world_data['country_y'].value_counts()\n",
    "# for index, row in world_data.iterrows():\n",
    "#     if world_data.loc[index, 'country_x'] != world_data.loc[index, 'country_y']:\n",
    "#         print(world_data.loc[index, 'country_x'])\n",
    "        \n",
    "\n",
    "\n",
    "# duplicates = world_data.loc[world_data.duplicated(subset=['country_x', 'country_y']), 'country_x'].unique()\n",
    "\n",
    "# duplicate_df = []\n",
    "# for x in range(len(duplicates)):\n",
    "#     countryid = duplicates[x]\n",
    "#     for y in range(len(world_data)):\n",
    "#         if countryid == world_data.loc[y, 'country_x']:\n",
    "#             duplicate_df.append(world_data.loc[y, :])\n",
    "        \n",
    "# duplicate_all = pd.DataFrame(duplicate_df)\n",
    "# duplicate_all\n",
    "\n",
    "# for x in range(len(duplicates)):\n",
    "#     countryid = duplicates[x]\n",
    "#     for y in range(len(world_data)):\n",
    "#         if countryid == world_data.loc[y, 'country_x']:\n",
    "#             world_data.drop([y], inplace=True)\n",
    "\n",
    "# duplicates = world_data.loc[world_data.duplicated(subset=['country_x', 'country_y']), 'country_x'].unique()"
   ]
  },
  {
   "cell_type": "code",
   "execution_count": 9,
   "id": "dae32ace",
   "metadata": {},
   "outputs": [
    {
     "name": "stdout",
     "output_type": "stream",
     "text": [
      "Bahamas\n",
      "Czech Republic\n",
      "DR Congo\n",
      "Gambia\n",
      "Hong Kong\n",
      "Ivory Coast\n",
      "Macau\n",
      "Micronesia\n",
      "Palestine\n",
      "Republic of the Congo\n",
      "Sao Tome and Principe\n",
      "Timor-Leste\n"
     ]
    }
   ],
   "source": [
    "#Check to see if API call was useful. It was.\n",
    "for index, row in world_data_df.iterrows():\n",
    "    if world_data_df.loc[index, 'Country/Territory'] != world_data_df.loc[index, 'geo_country']:\n",
    "        print(world_data_df.loc[index, 'Country/Territory'])"
   ]
  },
  {
   "cell_type": "code",
   "execution_count": 10,
   "id": "b9d4afd5",
   "metadata": {},
   "outputs": [],
   "source": [
    "# This was just playing with the datframe trying to find other ways to chart/graph it.\n",
    "# Didn't lead anywhere yet\n",
    "world_data_list = []\n",
    "for index, row in world_data_df.iterrows():\n",
    "    world_data_list.append([world_data_df.loc[index, '1970 Population'], world_data_df.loc[index, '1980 Population'], world_data_df.loc[index, '1990 Population'],\n",
    "                            world_data_df.loc[index, '2000 Population'], world_data_df.loc[index, '2010 Population'], world_data_df.loc[index, '2015 Population'],\n",
    "                            world_data_df.loc[index, '2020 Population'], world_data_df.loc[index, '2022 Population']])\n",
    "\n",
    "world_data_list\n",
    "world_data_graph = pd.DataFrame({'country': world_data_df['geo_country'],\n",
    "                                'area': world_data_df['Area (km²)'],\n",
    "                                 'continent': world_data_df['Continent'],\n",
    "                                'population': world_data_list})\n",
    "\n"
   ]
  },
  {
   "cell_type": "code",
   "execution_count": null,
   "id": "f043fd97",
   "metadata": {},
   "outputs": [],
   "source": [
    "# https://coderzcolumn.com/tutorials/data-science/how-to-convert-static-maps-geopandas-to-interactive-maps-hvplot\n",
    "# https://towardsdatascience.com/how-to-visualize-data-on-top-of-a-map-in-python-using-the-geoviews-library-part-2-e61a48ee6c3d\n",
    "\n",
    "# shapes_df = gpd.read_file('map_shapes/ne_50m_admin_0_countries.shp', driver='ESRI Shapefile')"
   ]
  },
  {
   "cell_type": "code",
   "execution_count": 36,
   "id": "6c5656fa",
   "metadata": {
    "scrolled": true
   },
   "outputs": [
    {
     "data": {
      "application/vnd.plotly.v1+json": {
       "config": {
        "plotlyServerURL": "https://plot.ly"
       },
       "data": [
        {
         "coloraxis": "coloraxis",
         "geo": "geo",
         "hovertemplate": "<b>%{hovertext}</b><br><br>iso_map=%{location}<br>growth_rate_10_22=%{z}<extra></extra>",
         "hovertext": [
          "Afghanistan",
          "Albania",
          "Algeria",
          "Andorra",
          "Angola",
          "Antigua and Barbuda",
          "Argentina",
          "Armenia",
          "Australia",
          "Austria",
          "Azerbaijan",
          "The Bahamas",
          "Bahrain",
          "Bangladesh",
          "Barbados",
          "Belarus",
          "Belgium",
          "Belize",
          "Benin",
          "Bhutan",
          "Bolivia",
          "Bosnia and Herzegovina",
          "Botswana",
          "Brazil",
          "Brunei",
          "Bulgaria",
          "Burkina Faso",
          "Burundi",
          "Cambodia",
          "Cameroon",
          "Canada",
          "Cape Verde",
          "Central African Republic",
          "Chad",
          "Chile",
          "China",
          "Colombia",
          "Comoros",
          "Costa Rica",
          "Croatia",
          "Cuba",
          "Cyprus",
          "Czechia",
          "Denmark",
          "Djibouti",
          "Dominica",
          "Dominican Republic",
          "Democratic Republic of the Congo",
          "Ecuador",
          "Egypt",
          "El Salvador",
          "Equatorial Guinea",
          "Eritrea",
          "Estonia",
          "Eswatini",
          "Ethiopia",
          "Fiji",
          "Finland",
          "France",
          "Gabon",
          "The Gambia",
          "Georgia",
          "Germany",
          "Ghana",
          "Greece",
          "Grenada",
          "Guatemala",
          "Guinea",
          "Guinea-Bissau",
          "Guyana",
          "Haiti",
          "Honduras",
          "Hungary",
          "Iceland",
          "India",
          "Indonesia",
          "Iran",
          "Iraq",
          "Ireland",
          "Israel",
          "Italy",
          "Côte d'Ivoire",
          "Jamaica",
          "Japan",
          "Jordan",
          "Kazakhstan",
          "Kenya",
          "Kiribati",
          "Kuwait",
          "Kyrgyzstan",
          "Laos",
          "Latvia",
          "Lebanon",
          "Lesotho",
          "Liberia",
          "Libya",
          "Liechtenstein",
          "Lithuania",
          "Luxembourg",
          "Madagascar",
          "Malawi",
          "Malaysia",
          "Maldives",
          "Mali",
          "Malta",
          "Marshall Islands",
          "Mauritania",
          "Mauritius",
          "Mexico",
          "Federated States of Micronesia",
          "Moldova",
          "Monaco",
          "Mongolia",
          "Montenegro",
          "Morocco",
          "Mozambique",
          "Myanmar",
          "Namibia",
          "Nauru",
          "Nepal",
          "Netherlands",
          "New Zealand",
          "Nicaragua",
          "Niger",
          "Nigeria",
          "North Korea",
          "North Macedonia",
          "Norway",
          "Oman",
          "Pakistan",
          "Palau",
          "Panama",
          "Papua New Guinea",
          "Paraguay",
          "Peru",
          "Philippines",
          "Poland",
          "Portugal",
          "Qatar",
          "Congo-Brazzaville",
          "Romania",
          "Russia",
          "Rwanda",
          "Saint Kitts and Nevis",
          "Saint Lucia",
          "Saint Vincent and the Grenadines",
          "Samoa",
          "San Marino",
          "São Tomé and Príncipe",
          "Saudi Arabia",
          "Senegal",
          "Serbia",
          "Seychelles",
          "Sierra Leone",
          "Singapore",
          "Slovakia",
          "Slovenia",
          "Solomon Islands",
          "Somalia",
          "South Africa",
          "South Korea",
          "South Sudan",
          "Spain",
          "Sri Lanka",
          "Sudan",
          "Suriname",
          "Sweden",
          "Switzerland",
          "Syria",
          "Tajikistan",
          "Tanzania",
          "Thailand",
          "East Timor",
          "Togo",
          "Tonga",
          "Trinidad and Tobago",
          "Tunisia",
          "Turkey",
          "Turkmenistan",
          "Tuvalu",
          "Uganda",
          "Ukraine",
          "United Arab Emirates",
          "United Kingdom",
          "United States",
          "Uruguay",
          "Uzbekistan",
          "Vanuatu",
          "Venezuela",
          "Vietnam",
          "Yemen",
          "Zambia",
          "Zimbabwe"
         ],
         "locations": [
          "AFG",
          "ALB",
          "DZA",
          "AND",
          "AGO",
          "ATG",
          "ARG",
          "ARM",
          "AUS",
          "AUT",
          "AZE",
          "BHS",
          "BHR",
          "BGD",
          "BRB",
          "BLR",
          "BEL",
          "BLZ",
          "BEN",
          "BTN",
          "BOL",
          "BIH",
          "BWA",
          "BRA",
          "BRN",
          "BGR",
          "BFA",
          "BDI",
          "KHM",
          "CMR",
          "CAN",
          "CPV",
          "CAF",
          "TCD",
          "CHL",
          "CHN",
          "COL",
          "COM",
          "CRI",
          "HRV",
          "CUB",
          "CYP",
          "CZE",
          "DNK",
          "DJI",
          "DMA",
          "DOM",
          "COD",
          "ECU",
          "EGY",
          "SLV",
          "GNQ",
          "ERI",
          "EST",
          "SWZ",
          "ETH",
          "FJI",
          "FIN",
          "FRA",
          "GAB",
          "GMB",
          "GEO",
          "DEU",
          "GHA",
          "GRC",
          "GRD",
          "GTM",
          "GIN",
          "GNB",
          "GUY",
          "HTI",
          "HND",
          "HUN",
          "ISL",
          "IND",
          "IDN",
          "IRN",
          "IRQ",
          "IRL",
          "ISR",
          "ITA",
          "CIV",
          "JAM",
          "JPN",
          "JOR",
          "KAZ",
          "KEN",
          "KIR",
          "KWT",
          "KGZ",
          "LAO",
          "LVA",
          "LBN",
          "LSO",
          "LBR",
          "LBY",
          "LIE",
          "LTU",
          "LUX",
          "MDG",
          "MWI",
          "MYS",
          "MDV",
          "MLI",
          "MLT",
          "MHL",
          "MRT",
          "MUS",
          "MEX",
          "FSM",
          "MDA",
          "MCO",
          "MNG",
          "MNE",
          "MAR",
          "MOZ",
          "MMR",
          "NAM",
          "NRU",
          "NPL",
          "NLD",
          "NZL",
          "NIC",
          "NER",
          "NGA",
          "PRK",
          "MKD",
          "NOR",
          "OMN",
          "PAK",
          "PLW",
          "PAN",
          "PNG",
          "PRY",
          "PER",
          "PHL",
          "POL",
          "PRT",
          "QAT",
          "COG",
          "ROU",
          "RUS",
          "RWA",
          "KNA",
          "LCA",
          "VCT",
          "WSM",
          "SMR",
          "STP",
          "SAU",
          "SEN",
          "SRB",
          "SYC",
          "SLE",
          "SGP",
          "SVK",
          "SVN",
          "SLB",
          "SOM",
          "ZAF",
          "KOR",
          "SSD",
          "ESP",
          "LKA",
          "SDN",
          "SUR",
          "SWE",
          "CHE",
          "SYR",
          "TJK",
          "TZA",
          "THA",
          "TLS",
          "TGO",
          "TON",
          "TTO",
          "TUN",
          "TUR",
          "TKM",
          "TUV",
          "UGA",
          "UKR",
          "ARE",
          "GBR",
          "USA",
          "URY",
          "UZB",
          "VUT",
          "VEN",
          "VNM",
          "YEM",
          "ZMB",
          "ZWE"
         ],
         "name": "",
         "type": "choropleth",
         "z": [
          3.1980067670738244,
          -0.20561722478636968,
          1.8925960164498434,
          0.9197124544099156,
          3.569150922826947,
          0.7526167045416754,
          0.8530172614454212,
          -0.4815713048078041,
          1.4519700898378396,
          0.5573472671773549,
          0.9589629156969703,
          0.7848200108386383,
          1.6226244175277404,
          1.1979624314118142,
          0.20765088270162657,
          -0.1698233911980318,
          0.5773061478375308,
          1.9324153992159587,
          2.9267638363900783,
          0.8662887738540181,
          1.5006799396945825,
          -1.36017758799577,
          1.9278175290383004,
          0.7711122989806807,
          1.0511469834108,
          -0.9361398872789639,
          2.8853713730006003,
          2.9186580278018237,
          1.2981064489297145,
          2.8698433229934706,
          1.0402685410351387,
          1.0832312846981385,
          1.511353274290994,
          3.3790506864963987,
          1.1925706686485738,
          0.46801131583382727,
          1.2262115387893457,
          2.0486751379131807,
          0.9552255142688981,
          -0.669466984650946,
          -0.057921921639181306,
          0.856930182839255,
          0.023252371849769027,
          0.48442223882432245,
          1.6665603470561452,
          0.47027512840711605,
          1.161514090681881,
          3.386561520120801,
          1.537294019822899,
          2.0255396683534155,
          0.2981330086607059,
          3.6089181577518614,
          1.3196920700313752,
          -0.03431714561035193,
          0.7400147260925083,
          2.7364702858246215,
          0.22367707632273692,
          0.27165931123822595,
          0.2866374285106055,
          2.8201349627943184,
          2.824025646404227,
          -0.20303843872181426,
          0.20714817449520861,
          2.2688604657792544,
          -0.5037442924359481,
          0.797085928019281,
          1.7191439310758172,
          2.5286201768025984,
          2.4911991669845035,
          0.653359350679894,
          1.3672834941464984,
          1.7711995392965196,
          -0.0163002283973257,
          1.3271427296813743,
          1.114987262629663,
          1.0164476127561883,
          1.3516646376867891,
          2.9845610235694764,
          0.8748311795118147,
          1.762932295903541,
          -0.11001122441038902,
          2.4264653832189342,
          0.28057394616642917,
          -0.2743038934364228,
          4.14623595894037,
          1.2923769812485775,
          2.218998148720841,
          1.6372739661000502,
          3.146826369937994,
          1.59513200909156,
          1.465344374687616,
          -1.0538096214058101,
          0.7887876163672258,
          1.0974957919895445,
          2.3346833683155266,
          0.4021984812903501,
          0.7565981696016078,
          -1.096357536032233,
          2.0594415695594614,
          2.6120973716175833,
          2.7598609541222174,
          1.401624470548124,
          3.1366513783803285,
          3.1738707798071752,
          2.03519874685123,
          -2.067948755713045,
          2.7516722856078646,
          0.10419972740249861,
          1.0463322345985349,
          0.4956149089857309,
          -0.9679014083547766,
          0.7912437431134789,
          1.9275932105512261,
          -0.05247187132561004,
          1.1993106034593248,
          3.01874206414372,
          0.7740726461519687,
          1.690398534161508,
          1.7881311516466436,
          0.9838286838324883,
          0.4628922287826409,
          1.4816334063824321,
          1.435953109616439,
          3.854091944541893,
          2.581620561013054,
          0.4552742715922653,
          -0.0009114545225119564,
          0.8838403129347361,
          3.928846402840769,
          1.6204154994668318,
          -0.22065540897949765,
          1.6474242357676472,
          2.452950698955947,
          1.3562409635367478,
          1.2800989780426208,
          1.678395664328547,
          0.2680083982702586,
          -0.25341095776525435,
          3.8463194793939337,
          2.50280947214776,
          -0.28131261662597273,
          0.085160833958553,
          2.4457487775623843,
          0.04454330079488589,
          0.42488946845333775,
          -0.41811355655554383,
          1.1151766900141302,
          0.5255422845018121,
          1.8660129695833527,
          1.7943307045735546,
          2.732683158183913,
          -0.4834233074267891,
          1.2384953974122093,
          2.449615181249598,
          1.2246661250735036,
          0.37369316687396736,
          0.24993567501370162,
          2.4706084013359053,
          3.222779865845249,
          1.2196731360397672,
          0.49872102561543397,
          0.9743704633522254,
          0.17471233753314497,
          0.4574579375825394,
          2.7777582603943696,
          1.036903091253416,
          0.9822921926599282,
          0.9290247725516343,
          -0.07955380402653311,
          2.248598317335615,
          3.1562879071817207,
          0.4089316029001866,
          1.7556380461244636,
          2.509934054008367,
          -0.040833598235445745,
          0.6869340104989075,
          1.0541970212951224,
          1.287602400471699,
          1.6759659465739096,
          0.582844041658559,
          3.209474032445314,
          -1.1626194441711424,
          0.8969680145779702,
          0.6096963362671737,
          0.6984480803902127,
          0.17269728726669875,
          1.6022718188786644,
          2.412467492249304,
          -0.12074927502349064,
          0.9734667182987211,
          2.606870527098515,
          3.153026134673187,
          2.0190865179815054
         ]
        }
       ],
       "layout": {
        "coloraxis": {
         "colorbar": {
          "title": {
           "text": "growth_rate_10_22"
          }
         },
         "colorscale": [
          [
           0,
           "rgb(103,0,31)"
          ],
          [
           0.1,
           "rgb(178,24,43)"
          ],
          [
           0.2,
           "rgb(214,96,77)"
          ],
          [
           0.3,
           "rgb(244,165,130)"
          ],
          [
           0.4,
           "rgb(253,219,199)"
          ],
          [
           0.5,
           "rgb(247,247,247)"
          ],
          [
           0.6,
           "rgb(209,229,240)"
          ],
          [
           0.7,
           "rgb(146,197,222)"
          ],
          [
           0.8,
           "rgb(67,147,195)"
          ],
          [
           0.9,
           "rgb(33,102,172)"
          ],
          [
           1,
           "rgb(5,48,97)"
          ]
         ]
        },
        "geo": {
         "center": {},
         "domain": {
          "x": [
           0,
           1
          ],
          "y": [
           0,
           1
          ]
         }
        },
        "legend": {
         "tracegroupgap": 0
        },
        "margin": {
         "t": 60
        },
        "template": {
         "data": {
          "bar": [
           {
            "error_x": {
             "color": "#2a3f5f"
            },
            "error_y": {
             "color": "#2a3f5f"
            },
            "marker": {
             "line": {
              "color": "#E5ECF6",
              "width": 0.5
             },
             "pattern": {
              "fillmode": "overlay",
              "size": 10,
              "solidity": 0.2
             }
            },
            "type": "bar"
           }
          ],
          "barpolar": [
           {
            "marker": {
             "line": {
              "color": "#E5ECF6",
              "width": 0.5
             },
             "pattern": {
              "fillmode": "overlay",
              "size": 10,
              "solidity": 0.2
             }
            },
            "type": "barpolar"
           }
          ],
          "carpet": [
           {
            "aaxis": {
             "endlinecolor": "#2a3f5f",
             "gridcolor": "white",
             "linecolor": "white",
             "minorgridcolor": "white",
             "startlinecolor": "#2a3f5f"
            },
            "baxis": {
             "endlinecolor": "#2a3f5f",
             "gridcolor": "white",
             "linecolor": "white",
             "minorgridcolor": "white",
             "startlinecolor": "#2a3f5f"
            },
            "type": "carpet"
           }
          ],
          "choropleth": [
           {
            "colorbar": {
             "outlinewidth": 0,
             "ticks": ""
            },
            "type": "choropleth"
           }
          ],
          "contour": [
           {
            "colorbar": {
             "outlinewidth": 0,
             "ticks": ""
            },
            "colorscale": [
             [
              0,
              "#0d0887"
             ],
             [
              0.1111111111111111,
              "#46039f"
             ],
             [
              0.2222222222222222,
              "#7201a8"
             ],
             [
              0.3333333333333333,
              "#9c179e"
             ],
             [
              0.4444444444444444,
              "#bd3786"
             ],
             [
              0.5555555555555556,
              "#d8576b"
             ],
             [
              0.6666666666666666,
              "#ed7953"
             ],
             [
              0.7777777777777778,
              "#fb9f3a"
             ],
             [
              0.8888888888888888,
              "#fdca26"
             ],
             [
              1,
              "#f0f921"
             ]
            ],
            "type": "contour"
           }
          ],
          "contourcarpet": [
           {
            "colorbar": {
             "outlinewidth": 0,
             "ticks": ""
            },
            "type": "contourcarpet"
           }
          ],
          "heatmap": [
           {
            "colorbar": {
             "outlinewidth": 0,
             "ticks": ""
            },
            "colorscale": [
             [
              0,
              "#0d0887"
             ],
             [
              0.1111111111111111,
              "#46039f"
             ],
             [
              0.2222222222222222,
              "#7201a8"
             ],
             [
              0.3333333333333333,
              "#9c179e"
             ],
             [
              0.4444444444444444,
              "#bd3786"
             ],
             [
              0.5555555555555556,
              "#d8576b"
             ],
             [
              0.6666666666666666,
              "#ed7953"
             ],
             [
              0.7777777777777778,
              "#fb9f3a"
             ],
             [
              0.8888888888888888,
              "#fdca26"
             ],
             [
              1,
              "#f0f921"
             ]
            ],
            "type": "heatmap"
           }
          ],
          "heatmapgl": [
           {
            "colorbar": {
             "outlinewidth": 0,
             "ticks": ""
            },
            "colorscale": [
             [
              0,
              "#0d0887"
             ],
             [
              0.1111111111111111,
              "#46039f"
             ],
             [
              0.2222222222222222,
              "#7201a8"
             ],
             [
              0.3333333333333333,
              "#9c179e"
             ],
             [
              0.4444444444444444,
              "#bd3786"
             ],
             [
              0.5555555555555556,
              "#d8576b"
             ],
             [
              0.6666666666666666,
              "#ed7953"
             ],
             [
              0.7777777777777778,
              "#fb9f3a"
             ],
             [
              0.8888888888888888,
              "#fdca26"
             ],
             [
              1,
              "#f0f921"
             ]
            ],
            "type": "heatmapgl"
           }
          ],
          "histogram": [
           {
            "marker": {
             "pattern": {
              "fillmode": "overlay",
              "size": 10,
              "solidity": 0.2
             }
            },
            "type": "histogram"
           }
          ],
          "histogram2d": [
           {
            "colorbar": {
             "outlinewidth": 0,
             "ticks": ""
            },
            "colorscale": [
             [
              0,
              "#0d0887"
             ],
             [
              0.1111111111111111,
              "#46039f"
             ],
             [
              0.2222222222222222,
              "#7201a8"
             ],
             [
              0.3333333333333333,
              "#9c179e"
             ],
             [
              0.4444444444444444,
              "#bd3786"
             ],
             [
              0.5555555555555556,
              "#d8576b"
             ],
             [
              0.6666666666666666,
              "#ed7953"
             ],
             [
              0.7777777777777778,
              "#fb9f3a"
             ],
             [
              0.8888888888888888,
              "#fdca26"
             ],
             [
              1,
              "#f0f921"
             ]
            ],
            "type": "histogram2d"
           }
          ],
          "histogram2dcontour": [
           {
            "colorbar": {
             "outlinewidth": 0,
             "ticks": ""
            },
            "colorscale": [
             [
              0,
              "#0d0887"
             ],
             [
              0.1111111111111111,
              "#46039f"
             ],
             [
              0.2222222222222222,
              "#7201a8"
             ],
             [
              0.3333333333333333,
              "#9c179e"
             ],
             [
              0.4444444444444444,
              "#bd3786"
             ],
             [
              0.5555555555555556,
              "#d8576b"
             ],
             [
              0.6666666666666666,
              "#ed7953"
             ],
             [
              0.7777777777777778,
              "#fb9f3a"
             ],
             [
              0.8888888888888888,
              "#fdca26"
             ],
             [
              1,
              "#f0f921"
             ]
            ],
            "type": "histogram2dcontour"
           }
          ],
          "mesh3d": [
           {
            "colorbar": {
             "outlinewidth": 0,
             "ticks": ""
            },
            "type": "mesh3d"
           }
          ],
          "parcoords": [
           {
            "line": {
             "colorbar": {
              "outlinewidth": 0,
              "ticks": ""
             }
            },
            "type": "parcoords"
           }
          ],
          "pie": [
           {
            "automargin": true,
            "type": "pie"
           }
          ],
          "scatter": [
           {
            "fillpattern": {
             "fillmode": "overlay",
             "size": 10,
             "solidity": 0.2
            },
            "type": "scatter"
           }
          ],
          "scatter3d": [
           {
            "line": {
             "colorbar": {
              "outlinewidth": 0,
              "ticks": ""
             }
            },
            "marker": {
             "colorbar": {
              "outlinewidth": 0,
              "ticks": ""
             }
            },
            "type": "scatter3d"
           }
          ],
          "scattercarpet": [
           {
            "marker": {
             "colorbar": {
              "outlinewidth": 0,
              "ticks": ""
             }
            },
            "type": "scattercarpet"
           }
          ],
          "scattergeo": [
           {
            "marker": {
             "colorbar": {
              "outlinewidth": 0,
              "ticks": ""
             }
            },
            "type": "scattergeo"
           }
          ],
          "scattergl": [
           {
            "marker": {
             "colorbar": {
              "outlinewidth": 0,
              "ticks": ""
             }
            },
            "type": "scattergl"
           }
          ],
          "scattermapbox": [
           {
            "marker": {
             "colorbar": {
              "outlinewidth": 0,
              "ticks": ""
             }
            },
            "type": "scattermapbox"
           }
          ],
          "scatterpolar": [
           {
            "marker": {
             "colorbar": {
              "outlinewidth": 0,
              "ticks": ""
             }
            },
            "type": "scatterpolar"
           }
          ],
          "scatterpolargl": [
           {
            "marker": {
             "colorbar": {
              "outlinewidth": 0,
              "ticks": ""
             }
            },
            "type": "scatterpolargl"
           }
          ],
          "scatterternary": [
           {
            "marker": {
             "colorbar": {
              "outlinewidth": 0,
              "ticks": ""
             }
            },
            "type": "scatterternary"
           }
          ],
          "surface": [
           {
            "colorbar": {
             "outlinewidth": 0,
             "ticks": ""
            },
            "colorscale": [
             [
              0,
              "#0d0887"
             ],
             [
              0.1111111111111111,
              "#46039f"
             ],
             [
              0.2222222222222222,
              "#7201a8"
             ],
             [
              0.3333333333333333,
              "#9c179e"
             ],
             [
              0.4444444444444444,
              "#bd3786"
             ],
             [
              0.5555555555555556,
              "#d8576b"
             ],
             [
              0.6666666666666666,
              "#ed7953"
             ],
             [
              0.7777777777777778,
              "#fb9f3a"
             ],
             [
              0.8888888888888888,
              "#fdca26"
             ],
             [
              1,
              "#f0f921"
             ]
            ],
            "type": "surface"
           }
          ],
          "table": [
           {
            "cells": {
             "fill": {
              "color": "#EBF0F8"
             },
             "line": {
              "color": "white"
             }
            },
            "header": {
             "fill": {
              "color": "#C8D4E3"
             },
             "line": {
              "color": "white"
             }
            },
            "type": "table"
           }
          ]
         },
         "layout": {
          "annotationdefaults": {
           "arrowcolor": "#2a3f5f",
           "arrowhead": 0,
           "arrowwidth": 1
          },
          "autotypenumbers": "strict",
          "coloraxis": {
           "colorbar": {
            "outlinewidth": 0,
            "ticks": ""
           }
          },
          "colorscale": {
           "diverging": [
            [
             0,
             "#8e0152"
            ],
            [
             0.1,
             "#c51b7d"
            ],
            [
             0.2,
             "#de77ae"
            ],
            [
             0.3,
             "#f1b6da"
            ],
            [
             0.4,
             "#fde0ef"
            ],
            [
             0.5,
             "#f7f7f7"
            ],
            [
             0.6,
             "#e6f5d0"
            ],
            [
             0.7,
             "#b8e186"
            ],
            [
             0.8,
             "#7fbc41"
            ],
            [
             0.9,
             "#4d9221"
            ],
            [
             1,
             "#276419"
            ]
           ],
           "sequential": [
            [
             0,
             "#0d0887"
            ],
            [
             0.1111111111111111,
             "#46039f"
            ],
            [
             0.2222222222222222,
             "#7201a8"
            ],
            [
             0.3333333333333333,
             "#9c179e"
            ],
            [
             0.4444444444444444,
             "#bd3786"
            ],
            [
             0.5555555555555556,
             "#d8576b"
            ],
            [
             0.6666666666666666,
             "#ed7953"
            ],
            [
             0.7777777777777778,
             "#fb9f3a"
            ],
            [
             0.8888888888888888,
             "#fdca26"
            ],
            [
             1,
             "#f0f921"
            ]
           ],
           "sequentialminus": [
            [
             0,
             "#0d0887"
            ],
            [
             0.1111111111111111,
             "#46039f"
            ],
            [
             0.2222222222222222,
             "#7201a8"
            ],
            [
             0.3333333333333333,
             "#9c179e"
            ],
            [
             0.4444444444444444,
             "#bd3786"
            ],
            [
             0.5555555555555556,
             "#d8576b"
            ],
            [
             0.6666666666666666,
             "#ed7953"
            ],
            [
             0.7777777777777778,
             "#fb9f3a"
            ],
            [
             0.8888888888888888,
             "#fdca26"
            ],
            [
             1,
             "#f0f921"
            ]
           ]
          },
          "colorway": [
           "#636efa",
           "#EF553B",
           "#00cc96",
           "#ab63fa",
           "#FFA15A",
           "#19d3f3",
           "#FF6692",
           "#B6E880",
           "#FF97FF",
           "#FECB52"
          ],
          "font": {
           "color": "#2a3f5f"
          },
          "geo": {
           "bgcolor": "white",
           "lakecolor": "white",
           "landcolor": "#E5ECF6",
           "showlakes": true,
           "showland": true,
           "subunitcolor": "white"
          },
          "hoverlabel": {
           "align": "left"
          },
          "hovermode": "closest",
          "mapbox": {
           "style": "light"
          },
          "paper_bgcolor": "white",
          "plot_bgcolor": "#E5ECF6",
          "polar": {
           "angularaxis": {
            "gridcolor": "white",
            "linecolor": "white",
            "ticks": ""
           },
           "bgcolor": "#E5ECF6",
           "radialaxis": {
            "gridcolor": "white",
            "linecolor": "white",
            "ticks": ""
           }
          },
          "scene": {
           "xaxis": {
            "backgroundcolor": "#E5ECF6",
            "gridcolor": "white",
            "gridwidth": 2,
            "linecolor": "white",
            "showbackground": true,
            "ticks": "",
            "zerolinecolor": "white"
           },
           "yaxis": {
            "backgroundcolor": "#E5ECF6",
            "gridcolor": "white",
            "gridwidth": 2,
            "linecolor": "white",
            "showbackground": true,
            "ticks": "",
            "zerolinecolor": "white"
           },
           "zaxis": {
            "backgroundcolor": "#E5ECF6",
            "gridcolor": "white",
            "gridwidth": 2,
            "linecolor": "white",
            "showbackground": true,
            "ticks": "",
            "zerolinecolor": "white"
           }
          },
          "shapedefaults": {
           "line": {
            "color": "#2a3f5f"
           }
          },
          "ternary": {
           "aaxis": {
            "gridcolor": "white",
            "linecolor": "white",
            "ticks": ""
           },
           "baxis": {
            "gridcolor": "white",
            "linecolor": "white",
            "ticks": ""
           },
           "bgcolor": "#E5ECF6",
           "caxis": {
            "gridcolor": "white",
            "linecolor": "white",
            "ticks": ""
           }
          },
          "title": {
           "x": 0.05
          },
          "xaxis": {
           "automargin": true,
           "gridcolor": "white",
           "linecolor": "white",
           "ticks": "",
           "title": {
            "standoff": 15
           },
           "zerolinecolor": "white",
           "zerolinewidth": 2
          },
          "yaxis": {
           "automargin": true,
           "gridcolor": "white",
           "linecolor": "white",
           "ticks": "",
           "title": {
            "standoff": 15
           },
           "zerolinecolor": "white",
           "zerolinewidth": 2
          }
         }
        }
       }
      },
      "text/html": [
       "<div>                            <div id=\"f4bd35c1-e9b2-4201-9c72-6b5e12d40fe9\" class=\"plotly-graph-div\" style=\"height:525px; width:100%;\"></div>            <script type=\"text/javascript\">                require([\"plotly\"], function(Plotly) {                    window.PLOTLYENV=window.PLOTLYENV || {};                                    if (document.getElementById(\"f4bd35c1-e9b2-4201-9c72-6b5e12d40fe9\")) {                    Plotly.newPlot(                        \"f4bd35c1-e9b2-4201-9c72-6b5e12d40fe9\",                        [{\"coloraxis\":\"coloraxis\",\"geo\":\"geo\",\"hovertemplate\":\"<b>%{hovertext}</b><br><br>iso_map=%{location}<br>growth_rate_10_22=%{z}<extra></extra>\",\"hovertext\":[\"Afghanistan\",\"Albania\",\"Algeria\",\"Andorra\",\"Angola\",\"Antigua and Barbuda\",\"Argentina\",\"Armenia\",\"Australia\",\"Austria\",\"Azerbaijan\",\"The Bahamas\",\"Bahrain\",\"Bangladesh\",\"Barbados\",\"Belarus\",\"Belgium\",\"Belize\",\"Benin\",\"Bhutan\",\"Bolivia\",\"Bosnia and Herzegovina\",\"Botswana\",\"Brazil\",\"Brunei\",\"Bulgaria\",\"Burkina Faso\",\"Burundi\",\"Cambodia\",\"Cameroon\",\"Canada\",\"Cape Verde\",\"Central African Republic\",\"Chad\",\"Chile\",\"China\",\"Colombia\",\"Comoros\",\"Costa Rica\",\"Croatia\",\"Cuba\",\"Cyprus\",\"Czechia\",\"Denmark\",\"Djibouti\",\"Dominica\",\"Dominican Republic\",\"Democratic Republic of the Congo\",\"Ecuador\",\"Egypt\",\"El Salvador\",\"Equatorial Guinea\",\"Eritrea\",\"Estonia\",\"Eswatini\",\"Ethiopia\",\"Fiji\",\"Finland\",\"France\",\"Gabon\",\"The Gambia\",\"Georgia\",\"Germany\",\"Ghana\",\"Greece\",\"Grenada\",\"Guatemala\",\"Guinea\",\"Guinea-Bissau\",\"Guyana\",\"Haiti\",\"Honduras\",\"Hungary\",\"Iceland\",\"India\",\"Indonesia\",\"Iran\",\"Iraq\",\"Ireland\",\"Israel\",\"Italy\",\"C\\u00f4te d'Ivoire\",\"Jamaica\",\"Japan\",\"Jordan\",\"Kazakhstan\",\"Kenya\",\"Kiribati\",\"Kuwait\",\"Kyrgyzstan\",\"Laos\",\"Latvia\",\"Lebanon\",\"Lesotho\",\"Liberia\",\"Libya\",\"Liechtenstein\",\"Lithuania\",\"Luxembourg\",\"Madagascar\",\"Malawi\",\"Malaysia\",\"Maldives\",\"Mali\",\"Malta\",\"Marshall Islands\",\"Mauritania\",\"Mauritius\",\"Mexico\",\"Federated States of Micronesia\",\"Moldova\",\"Monaco\",\"Mongolia\",\"Montenegro\",\"Morocco\",\"Mozambique\",\"Myanmar\",\"Namibia\",\"Nauru\",\"Nepal\",\"Netherlands\",\"New Zealand\",\"Nicaragua\",\"Niger\",\"Nigeria\",\"North Korea\",\"North Macedonia\",\"Norway\",\"Oman\",\"Pakistan\",\"Palau\",\"Panama\",\"Papua New Guinea\",\"Paraguay\",\"Peru\",\"Philippines\",\"Poland\",\"Portugal\",\"Qatar\",\"Congo-Brazzaville\",\"Romania\",\"Russia\",\"Rwanda\",\"Saint Kitts and Nevis\",\"Saint Lucia\",\"Saint Vincent and the Grenadines\",\"Samoa\",\"San Marino\",\"S\\u00e3o Tom\\u00e9 and Pr\\u00edncipe\",\"Saudi Arabia\",\"Senegal\",\"Serbia\",\"Seychelles\",\"Sierra Leone\",\"Singapore\",\"Slovakia\",\"Slovenia\",\"Solomon Islands\",\"Somalia\",\"South Africa\",\"South Korea\",\"South Sudan\",\"Spain\",\"Sri Lanka\",\"Sudan\",\"Suriname\",\"Sweden\",\"Switzerland\",\"Syria\",\"Tajikistan\",\"Tanzania\",\"Thailand\",\"East Timor\",\"Togo\",\"Tonga\",\"Trinidad and Tobago\",\"Tunisia\",\"Turkey\",\"Turkmenistan\",\"Tuvalu\",\"Uganda\",\"Ukraine\",\"United Arab Emirates\",\"United Kingdom\",\"United States\",\"Uruguay\",\"Uzbekistan\",\"Vanuatu\",\"Venezuela\",\"Vietnam\",\"Yemen\",\"Zambia\",\"Zimbabwe\"],\"locations\":[\"AFG\",\"ALB\",\"DZA\",\"AND\",\"AGO\",\"ATG\",\"ARG\",\"ARM\",\"AUS\",\"AUT\",\"AZE\",\"BHS\",\"BHR\",\"BGD\",\"BRB\",\"BLR\",\"BEL\",\"BLZ\",\"BEN\",\"BTN\",\"BOL\",\"BIH\",\"BWA\",\"BRA\",\"BRN\",\"BGR\",\"BFA\",\"BDI\",\"KHM\",\"CMR\",\"CAN\",\"CPV\",\"CAF\",\"TCD\",\"CHL\",\"CHN\",\"COL\",\"COM\",\"CRI\",\"HRV\",\"CUB\",\"CYP\",\"CZE\",\"DNK\",\"DJI\",\"DMA\",\"DOM\",\"COD\",\"ECU\",\"EGY\",\"SLV\",\"GNQ\",\"ERI\",\"EST\",\"SWZ\",\"ETH\",\"FJI\",\"FIN\",\"FRA\",\"GAB\",\"GMB\",\"GEO\",\"DEU\",\"GHA\",\"GRC\",\"GRD\",\"GTM\",\"GIN\",\"GNB\",\"GUY\",\"HTI\",\"HND\",\"HUN\",\"ISL\",\"IND\",\"IDN\",\"IRN\",\"IRQ\",\"IRL\",\"ISR\",\"ITA\",\"CIV\",\"JAM\",\"JPN\",\"JOR\",\"KAZ\",\"KEN\",\"KIR\",\"KWT\",\"KGZ\",\"LAO\",\"LVA\",\"LBN\",\"LSO\",\"LBR\",\"LBY\",\"LIE\",\"LTU\",\"LUX\",\"MDG\",\"MWI\",\"MYS\",\"MDV\",\"MLI\",\"MLT\",\"MHL\",\"MRT\",\"MUS\",\"MEX\",\"FSM\",\"MDA\",\"MCO\",\"MNG\",\"MNE\",\"MAR\",\"MOZ\",\"MMR\",\"NAM\",\"NRU\",\"NPL\",\"NLD\",\"NZL\",\"NIC\",\"NER\",\"NGA\",\"PRK\",\"MKD\",\"NOR\",\"OMN\",\"PAK\",\"PLW\",\"PAN\",\"PNG\",\"PRY\",\"PER\",\"PHL\",\"POL\",\"PRT\",\"QAT\",\"COG\",\"ROU\",\"RUS\",\"RWA\",\"KNA\",\"LCA\",\"VCT\",\"WSM\",\"SMR\",\"STP\",\"SAU\",\"SEN\",\"SRB\",\"SYC\",\"SLE\",\"SGP\",\"SVK\",\"SVN\",\"SLB\",\"SOM\",\"ZAF\",\"KOR\",\"SSD\",\"ESP\",\"LKA\",\"SDN\",\"SUR\",\"SWE\",\"CHE\",\"SYR\",\"TJK\",\"TZA\",\"THA\",\"TLS\",\"TGO\",\"TON\",\"TTO\",\"TUN\",\"TUR\",\"TKM\",\"TUV\",\"UGA\",\"UKR\",\"ARE\",\"GBR\",\"USA\",\"URY\",\"UZB\",\"VUT\",\"VEN\",\"VNM\",\"YEM\",\"ZMB\",\"ZWE\"],\"name\":\"\",\"z\":[3.1980067670738244,-0.20561722478636968,1.8925960164498434,0.9197124544099156,3.569150922826947,0.7526167045416754,0.8530172614454212,-0.4815713048078041,1.4519700898378396,0.5573472671773549,0.9589629156969703,0.7848200108386383,1.6226244175277404,1.1979624314118142,0.20765088270162657,-0.1698233911980318,0.5773061478375308,1.9324153992159587,2.9267638363900783,0.8662887738540181,1.5006799396945825,-1.36017758799577,1.9278175290383004,0.7711122989806807,1.0511469834108,-0.9361398872789639,2.8853713730006003,2.9186580278018237,1.2981064489297145,2.8698433229934706,1.0402685410351387,1.0832312846981385,1.511353274290994,3.3790506864963987,1.1925706686485738,0.46801131583382727,1.2262115387893457,2.0486751379131807,0.9552255142688981,-0.669466984650946,-0.057921921639181306,0.856930182839255,0.023252371849769027,0.48442223882432245,1.6665603470561452,0.47027512840711605,1.161514090681881,3.386561520120801,1.537294019822899,2.0255396683534155,0.2981330086607059,3.6089181577518614,1.3196920700313752,-0.03431714561035193,0.7400147260925083,2.7364702858246215,0.22367707632273692,0.27165931123822595,0.2866374285106055,2.8201349627943184,2.824025646404227,-0.20303843872181426,0.20714817449520861,2.2688604657792544,-0.5037442924359481,0.797085928019281,1.7191439310758172,2.5286201768025984,2.4911991669845035,0.653359350679894,1.3672834941464984,1.7711995392965196,-0.0163002283973257,1.3271427296813743,1.114987262629663,1.0164476127561883,1.3516646376867891,2.9845610235694764,0.8748311795118147,1.762932295903541,-0.11001122441038902,2.4264653832189342,0.28057394616642917,-0.2743038934364228,4.14623595894037,1.2923769812485775,2.218998148720841,1.6372739661000502,3.146826369937994,1.59513200909156,1.465344374687616,-1.0538096214058101,0.7887876163672258,1.0974957919895445,2.3346833683155266,0.4021984812903501,0.7565981696016078,-1.096357536032233,2.0594415695594614,2.6120973716175833,2.7598609541222174,1.401624470548124,3.1366513783803285,3.1738707798071752,2.03519874685123,-2.067948755713045,2.7516722856078646,0.10419972740249861,1.0463322345985349,0.4956149089857309,-0.9679014083547766,0.7912437431134789,1.9275932105512261,-0.05247187132561004,1.1993106034593248,3.01874206414372,0.7740726461519687,1.690398534161508,1.7881311516466436,0.9838286838324883,0.4628922287826409,1.4816334063824321,1.435953109616439,3.854091944541893,2.581620561013054,0.4552742715922653,-0.0009114545225119564,0.8838403129347361,3.928846402840769,1.6204154994668318,-0.22065540897949765,1.6474242357676472,2.452950698955947,1.3562409635367478,1.2800989780426208,1.678395664328547,0.2680083982702586,-0.25341095776525435,3.8463194793939337,2.50280947214776,-0.28131261662597273,0.085160833958553,2.4457487775623843,0.04454330079488589,0.42488946845333775,-0.41811355655554383,1.1151766900141302,0.5255422845018121,1.8660129695833527,1.7943307045735546,2.732683158183913,-0.4834233074267891,1.2384953974122093,2.449615181249598,1.2246661250735036,0.37369316687396736,0.24993567501370162,2.4706084013359053,3.222779865845249,1.2196731360397672,0.49872102561543397,0.9743704633522254,0.17471233753314497,0.4574579375825394,2.7777582603943696,1.036903091253416,0.9822921926599282,0.9290247725516343,-0.07955380402653311,2.248598317335615,3.1562879071817207,0.4089316029001866,1.7556380461244636,2.509934054008367,-0.040833598235445745,0.6869340104989075,1.0541970212951224,1.287602400471699,1.6759659465739096,0.582844041658559,3.209474032445314,-1.1626194441711424,0.8969680145779702,0.6096963362671737,0.6984480803902127,0.17269728726669875,1.6022718188786644,2.412467492249304,-0.12074927502349064,0.9734667182987211,2.606870527098515,3.153026134673187,2.0190865179815054],\"type\":\"choropleth\"}],                        {\"template\":{\"data\":{\"histogram2dcontour\":[{\"type\":\"histogram2dcontour\",\"colorbar\":{\"outlinewidth\":0,\"ticks\":\"\"},\"colorscale\":[[0.0,\"#0d0887\"],[0.1111111111111111,\"#46039f\"],[0.2222222222222222,\"#7201a8\"],[0.3333333333333333,\"#9c179e\"],[0.4444444444444444,\"#bd3786\"],[0.5555555555555556,\"#d8576b\"],[0.6666666666666666,\"#ed7953\"],[0.7777777777777778,\"#fb9f3a\"],[0.8888888888888888,\"#fdca26\"],[1.0,\"#f0f921\"]]}],\"choropleth\":[{\"type\":\"choropleth\",\"colorbar\":{\"outlinewidth\":0,\"ticks\":\"\"}}],\"histogram2d\":[{\"type\":\"histogram2d\",\"colorbar\":{\"outlinewidth\":0,\"ticks\":\"\"},\"colorscale\":[[0.0,\"#0d0887\"],[0.1111111111111111,\"#46039f\"],[0.2222222222222222,\"#7201a8\"],[0.3333333333333333,\"#9c179e\"],[0.4444444444444444,\"#bd3786\"],[0.5555555555555556,\"#d8576b\"],[0.6666666666666666,\"#ed7953\"],[0.7777777777777778,\"#fb9f3a\"],[0.8888888888888888,\"#fdca26\"],[1.0,\"#f0f921\"]]}],\"heatmap\":[{\"type\":\"heatmap\",\"colorbar\":{\"outlinewidth\":0,\"ticks\":\"\"},\"colorscale\":[[0.0,\"#0d0887\"],[0.1111111111111111,\"#46039f\"],[0.2222222222222222,\"#7201a8\"],[0.3333333333333333,\"#9c179e\"],[0.4444444444444444,\"#bd3786\"],[0.5555555555555556,\"#d8576b\"],[0.6666666666666666,\"#ed7953\"],[0.7777777777777778,\"#fb9f3a\"],[0.8888888888888888,\"#fdca26\"],[1.0,\"#f0f921\"]]}],\"heatmapgl\":[{\"type\":\"heatmapgl\",\"colorbar\":{\"outlinewidth\":0,\"ticks\":\"\"},\"colorscale\":[[0.0,\"#0d0887\"],[0.1111111111111111,\"#46039f\"],[0.2222222222222222,\"#7201a8\"],[0.3333333333333333,\"#9c179e\"],[0.4444444444444444,\"#bd3786\"],[0.5555555555555556,\"#d8576b\"],[0.6666666666666666,\"#ed7953\"],[0.7777777777777778,\"#fb9f3a\"],[0.8888888888888888,\"#fdca26\"],[1.0,\"#f0f921\"]]}],\"contourcarpet\":[{\"type\":\"contourcarpet\",\"colorbar\":{\"outlinewidth\":0,\"ticks\":\"\"}}],\"contour\":[{\"type\":\"contour\",\"colorbar\":{\"outlinewidth\":0,\"ticks\":\"\"},\"colorscale\":[[0.0,\"#0d0887\"],[0.1111111111111111,\"#46039f\"],[0.2222222222222222,\"#7201a8\"],[0.3333333333333333,\"#9c179e\"],[0.4444444444444444,\"#bd3786\"],[0.5555555555555556,\"#d8576b\"],[0.6666666666666666,\"#ed7953\"],[0.7777777777777778,\"#fb9f3a\"],[0.8888888888888888,\"#fdca26\"],[1.0,\"#f0f921\"]]}],\"surface\":[{\"type\":\"surface\",\"colorbar\":{\"outlinewidth\":0,\"ticks\":\"\"},\"colorscale\":[[0.0,\"#0d0887\"],[0.1111111111111111,\"#46039f\"],[0.2222222222222222,\"#7201a8\"],[0.3333333333333333,\"#9c179e\"],[0.4444444444444444,\"#bd3786\"],[0.5555555555555556,\"#d8576b\"],[0.6666666666666666,\"#ed7953\"],[0.7777777777777778,\"#fb9f3a\"],[0.8888888888888888,\"#fdca26\"],[1.0,\"#f0f921\"]]}],\"mesh3d\":[{\"type\":\"mesh3d\",\"colorbar\":{\"outlinewidth\":0,\"ticks\":\"\"}}],\"scatter\":[{\"fillpattern\":{\"fillmode\":\"overlay\",\"size\":10,\"solidity\":0.2},\"type\":\"scatter\"}],\"parcoords\":[{\"type\":\"parcoords\",\"line\":{\"colorbar\":{\"outlinewidth\":0,\"ticks\":\"\"}}}],\"scatterpolargl\":[{\"type\":\"scatterpolargl\",\"marker\":{\"colorbar\":{\"outlinewidth\":0,\"ticks\":\"\"}}}],\"bar\":[{\"error_x\":{\"color\":\"#2a3f5f\"},\"error_y\":{\"color\":\"#2a3f5f\"},\"marker\":{\"line\":{\"color\":\"#E5ECF6\",\"width\":0.5},\"pattern\":{\"fillmode\":\"overlay\",\"size\":10,\"solidity\":0.2}},\"type\":\"bar\"}],\"scattergeo\":[{\"type\":\"scattergeo\",\"marker\":{\"colorbar\":{\"outlinewidth\":0,\"ticks\":\"\"}}}],\"scatterpolar\":[{\"type\":\"scatterpolar\",\"marker\":{\"colorbar\":{\"outlinewidth\":0,\"ticks\":\"\"}}}],\"histogram\":[{\"marker\":{\"pattern\":{\"fillmode\":\"overlay\",\"size\":10,\"solidity\":0.2}},\"type\":\"histogram\"}],\"scattergl\":[{\"type\":\"scattergl\",\"marker\":{\"colorbar\":{\"outlinewidth\":0,\"ticks\":\"\"}}}],\"scatter3d\":[{\"type\":\"scatter3d\",\"line\":{\"colorbar\":{\"outlinewidth\":0,\"ticks\":\"\"}},\"marker\":{\"colorbar\":{\"outlinewidth\":0,\"ticks\":\"\"}}}],\"scattermapbox\":[{\"type\":\"scattermapbox\",\"marker\":{\"colorbar\":{\"outlinewidth\":0,\"ticks\":\"\"}}}],\"scatterternary\":[{\"type\":\"scatterternary\",\"marker\":{\"colorbar\":{\"outlinewidth\":0,\"ticks\":\"\"}}}],\"scattercarpet\":[{\"type\":\"scattercarpet\",\"marker\":{\"colorbar\":{\"outlinewidth\":0,\"ticks\":\"\"}}}],\"carpet\":[{\"aaxis\":{\"endlinecolor\":\"#2a3f5f\",\"gridcolor\":\"white\",\"linecolor\":\"white\",\"minorgridcolor\":\"white\",\"startlinecolor\":\"#2a3f5f\"},\"baxis\":{\"endlinecolor\":\"#2a3f5f\",\"gridcolor\":\"white\",\"linecolor\":\"white\",\"minorgridcolor\":\"white\",\"startlinecolor\":\"#2a3f5f\"},\"type\":\"carpet\"}],\"table\":[{\"cells\":{\"fill\":{\"color\":\"#EBF0F8\"},\"line\":{\"color\":\"white\"}},\"header\":{\"fill\":{\"color\":\"#C8D4E3\"},\"line\":{\"color\":\"white\"}},\"type\":\"table\"}],\"barpolar\":[{\"marker\":{\"line\":{\"color\":\"#E5ECF6\",\"width\":0.5},\"pattern\":{\"fillmode\":\"overlay\",\"size\":10,\"solidity\":0.2}},\"type\":\"barpolar\"}],\"pie\":[{\"automargin\":true,\"type\":\"pie\"}]},\"layout\":{\"autotypenumbers\":\"strict\",\"colorway\":[\"#636efa\",\"#EF553B\",\"#00cc96\",\"#ab63fa\",\"#FFA15A\",\"#19d3f3\",\"#FF6692\",\"#B6E880\",\"#FF97FF\",\"#FECB52\"],\"font\":{\"color\":\"#2a3f5f\"},\"hovermode\":\"closest\",\"hoverlabel\":{\"align\":\"left\"},\"paper_bgcolor\":\"white\",\"plot_bgcolor\":\"#E5ECF6\",\"polar\":{\"bgcolor\":\"#E5ECF6\",\"angularaxis\":{\"gridcolor\":\"white\",\"linecolor\":\"white\",\"ticks\":\"\"},\"radialaxis\":{\"gridcolor\":\"white\",\"linecolor\":\"white\",\"ticks\":\"\"}},\"ternary\":{\"bgcolor\":\"#E5ECF6\",\"aaxis\":{\"gridcolor\":\"white\",\"linecolor\":\"white\",\"ticks\":\"\"},\"baxis\":{\"gridcolor\":\"white\",\"linecolor\":\"white\",\"ticks\":\"\"},\"caxis\":{\"gridcolor\":\"white\",\"linecolor\":\"white\",\"ticks\":\"\"}},\"coloraxis\":{\"colorbar\":{\"outlinewidth\":0,\"ticks\":\"\"}},\"colorscale\":{\"sequential\":[[0.0,\"#0d0887\"],[0.1111111111111111,\"#46039f\"],[0.2222222222222222,\"#7201a8\"],[0.3333333333333333,\"#9c179e\"],[0.4444444444444444,\"#bd3786\"],[0.5555555555555556,\"#d8576b\"],[0.6666666666666666,\"#ed7953\"],[0.7777777777777778,\"#fb9f3a\"],[0.8888888888888888,\"#fdca26\"],[1.0,\"#f0f921\"]],\"sequentialminus\":[[0.0,\"#0d0887\"],[0.1111111111111111,\"#46039f\"],[0.2222222222222222,\"#7201a8\"],[0.3333333333333333,\"#9c179e\"],[0.4444444444444444,\"#bd3786\"],[0.5555555555555556,\"#d8576b\"],[0.6666666666666666,\"#ed7953\"],[0.7777777777777778,\"#fb9f3a\"],[0.8888888888888888,\"#fdca26\"],[1.0,\"#f0f921\"]],\"diverging\":[[0,\"#8e0152\"],[0.1,\"#c51b7d\"],[0.2,\"#de77ae\"],[0.3,\"#f1b6da\"],[0.4,\"#fde0ef\"],[0.5,\"#f7f7f7\"],[0.6,\"#e6f5d0\"],[0.7,\"#b8e186\"],[0.8,\"#7fbc41\"],[0.9,\"#4d9221\"],[1,\"#276419\"]]},\"xaxis\":{\"gridcolor\":\"white\",\"linecolor\":\"white\",\"ticks\":\"\",\"title\":{\"standoff\":15},\"zerolinecolor\":\"white\",\"automargin\":true,\"zerolinewidth\":2},\"yaxis\":{\"gridcolor\":\"white\",\"linecolor\":\"white\",\"ticks\":\"\",\"title\":{\"standoff\":15},\"zerolinecolor\":\"white\",\"automargin\":true,\"zerolinewidth\":2},\"scene\":{\"xaxis\":{\"backgroundcolor\":\"#E5ECF6\",\"gridcolor\":\"white\",\"linecolor\":\"white\",\"showbackground\":true,\"ticks\":\"\",\"zerolinecolor\":\"white\",\"gridwidth\":2},\"yaxis\":{\"backgroundcolor\":\"#E5ECF6\",\"gridcolor\":\"white\",\"linecolor\":\"white\",\"showbackground\":true,\"ticks\":\"\",\"zerolinecolor\":\"white\",\"gridwidth\":2},\"zaxis\":{\"backgroundcolor\":\"#E5ECF6\",\"gridcolor\":\"white\",\"linecolor\":\"white\",\"showbackground\":true,\"ticks\":\"\",\"zerolinecolor\":\"white\",\"gridwidth\":2}},\"shapedefaults\":{\"line\":{\"color\":\"#2a3f5f\"}},\"annotationdefaults\":{\"arrowcolor\":\"#2a3f5f\",\"arrowhead\":0,\"arrowwidth\":1},\"geo\":{\"bgcolor\":\"white\",\"landcolor\":\"#E5ECF6\",\"subunitcolor\":\"white\",\"showland\":true,\"showlakes\":true,\"lakecolor\":\"white\"},\"title\":{\"x\":0.05},\"mapbox\":{\"style\":\"light\"}}},\"geo\":{\"domain\":{\"x\":[0.0,1.0],\"y\":[0.0,1.0]},\"center\":{}},\"coloraxis\":{\"colorbar\":{\"title\":{\"text\":\"growth_rate_10_22\"}},\"colorscale\":[[0.0,\"rgb(103,0,31)\"],[0.1,\"rgb(178,24,43)\"],[0.2,\"rgb(214,96,77)\"],[0.3,\"rgb(244,165,130)\"],[0.4,\"rgb(253,219,199)\"],[0.5,\"rgb(247,247,247)\"],[0.6,\"rgb(209,229,240)\"],[0.7,\"rgb(146,197,222)\"],[0.8,\"rgb(67,147,195)\"],[0.9,\"rgb(33,102,172)\"],[1.0,\"rgb(5,48,97)\"]]},\"legend\":{\"tracegroupgap\":0},\"margin\":{\"t\":60}},                        {\"responsive\": true}                    ).then(function(){\n",
       "                            \n",
       "var gd = document.getElementById('f4bd35c1-e9b2-4201-9c72-6b5e12d40fe9');\n",
       "var x = new MutationObserver(function (mutations, observer) {{\n",
       "        var display = window.getComputedStyle(gd).display;\n",
       "        if (!display || display === 'none') {{\n",
       "            console.log([gd, 'removed!']);\n",
       "            Plotly.purge(gd);\n",
       "            observer.disconnect();\n",
       "        }}\n",
       "}});\n",
       "\n",
       "// Listen for the removal of the full notebook cells\n",
       "var notebookContainer = gd.closest('#notebook-container');\n",
       "if (notebookContainer) {{\n",
       "    x.observe(notebookContainer, {childList: true});\n",
       "}}\n",
       "\n",
       "// Listen for the clearing of the current output cell\n",
       "var outputEl = gd.closest('.output');\n",
       "if (outputEl) {{\n",
       "    x.observe(outputEl, {childList: true});\n",
       "}}\n",
       "\n",
       "                        })                };                });            </script>        </div>"
      ]
     },
     "metadata": {},
     "output_type": "display_data"
    }
   ],
   "source": [
    "import plotly.express as px\n",
    "\n",
    "#Mapping figure from GET LINK\n",
    "# dataframe is first variable, columns are customizations.\n",
    "fig = px.choropleth(country_cleaned, locations=\"iso_map\",\n",
    "                    color=\"growth_rate_10_22\", \n",
    "                    hover_name=\"country\",\n",
    "                    color_continuous_scale=px.colors.sequential.RdBu)\n",
    "fig.show()"
   ]
  },
  {
   "cell_type": "code",
   "execution_count": 24,
   "id": "48bccc25",
   "metadata": {},
   "outputs": [
    {
     "data": {
      "text/html": [
       "<div>\n",
       "<style scoped>\n",
       "    .dataframe tbody tr th:only-of-type {\n",
       "        vertical-align: middle;\n",
       "    }\n",
       "\n",
       "    .dataframe tbody tr th {\n",
       "        vertical-align: top;\n",
       "    }\n",
       "\n",
       "    .dataframe thead th {\n",
       "        text-align: right;\n",
       "    }\n",
       "</style>\n",
       "<table border=\"1\" class=\"dataframe\">\n",
       "  <thead>\n",
       "    <tr style=\"text-align: right;\">\n",
       "      <th></th>\n",
       "      <th>country</th>\n",
       "      <th>iso_map</th>\n",
       "      <th>2022_pop</th>\n",
       "      <th>2020_pop</th>\n",
       "      <th>2015_pop</th>\n",
       "      <th>2010_pop</th>\n",
       "      <th>2000_pop</th>\n",
       "      <th>1990_pop</th>\n",
       "      <th>1980_pop</th>\n",
       "      <th>1970_pop</th>\n",
       "      <th>area (km)</th>\n",
       "      <th>density</th>\n",
       "      <th>iso_two</th>\n",
       "      <th>iso_three</th>\n",
       "      <th>Capital</th>\n",
       "      <th>Continent</th>\n",
       "    </tr>\n",
       "  </thead>\n",
       "  <tbody>\n",
       "    <tr>\n",
       "      <th>0</th>\n",
       "      <td>Afghanistan</td>\n",
       "      <td>AFG</td>\n",
       "      <td>41128771</td>\n",
       "      <td>38972230</td>\n",
       "      <td>33753499</td>\n",
       "      <td>28189672</td>\n",
       "      <td>19542982</td>\n",
       "      <td>10694796</td>\n",
       "      <td>12486631</td>\n",
       "      <td>10752971</td>\n",
       "      <td>652230</td>\n",
       "      <td>63.0587</td>\n",
       "      <td>af</td>\n",
       "      <td>afg</td>\n",
       "      <td>Kabul</td>\n",
       "      <td>Asia</td>\n",
       "    </tr>\n",
       "    <tr>\n",
       "      <th>1</th>\n",
       "      <td>Albania</td>\n",
       "      <td>ALB</td>\n",
       "      <td>2842321</td>\n",
       "      <td>2866849</td>\n",
       "      <td>2882481</td>\n",
       "      <td>2913399</td>\n",
       "      <td>3182021</td>\n",
       "      <td>3295066</td>\n",
       "      <td>2941651</td>\n",
       "      <td>2324731</td>\n",
       "      <td>28748</td>\n",
       "      <td>98.8702</td>\n",
       "      <td>al</td>\n",
       "      <td>alb</td>\n",
       "      <td>Tirana</td>\n",
       "      <td>Europe</td>\n",
       "    </tr>\n",
       "    <tr>\n",
       "      <th>2</th>\n",
       "      <td>Algeria</td>\n",
       "      <td>DZA</td>\n",
       "      <td>44903225</td>\n",
       "      <td>43451666</td>\n",
       "      <td>39543154</td>\n",
       "      <td>35856344</td>\n",
       "      <td>30774621</td>\n",
       "      <td>25518074</td>\n",
       "      <td>18739378</td>\n",
       "      <td>13795915</td>\n",
       "      <td>2381741</td>\n",
       "      <td>18.8531</td>\n",
       "      <td>dz</td>\n",
       "      <td>dza</td>\n",
       "      <td>Algiers</td>\n",
       "      <td>Africa</td>\n",
       "    </tr>\n",
       "    <tr>\n",
       "      <th>3</th>\n",
       "      <td>Andorra</td>\n",
       "      <td>AND</td>\n",
       "      <td>79824</td>\n",
       "      <td>77700</td>\n",
       "      <td>71746</td>\n",
       "      <td>71519</td>\n",
       "      <td>66097</td>\n",
       "      <td>53569</td>\n",
       "      <td>35611</td>\n",
       "      <td>19860</td>\n",
       "      <td>468</td>\n",
       "      <td>170.5641</td>\n",
       "      <td>ad</td>\n",
       "      <td>and</td>\n",
       "      <td>Andorra la Vella</td>\n",
       "      <td>Europe</td>\n",
       "    </tr>\n",
       "    <tr>\n",
       "      <th>4</th>\n",
       "      <td>Angola</td>\n",
       "      <td>AGO</td>\n",
       "      <td>35588987</td>\n",
       "      <td>33428485</td>\n",
       "      <td>28127721</td>\n",
       "      <td>23364185</td>\n",
       "      <td>16394062</td>\n",
       "      <td>11828638</td>\n",
       "      <td>8330047</td>\n",
       "      <td>6029700</td>\n",
       "      <td>1246700</td>\n",
       "      <td>28.5466</td>\n",
       "      <td>ao</td>\n",
       "      <td>ago</td>\n",
       "      <td>Luanda</td>\n",
       "      <td>Africa</td>\n",
       "    </tr>\n",
       "  </tbody>\n",
       "</table>\n",
       "</div>"
      ],
      "text/plain": [
       "       country iso_map  2022_pop  2020_pop  2015_pop  2010_pop  2000_pop  \\\n",
       "0  Afghanistan     AFG  41128771  38972230  33753499  28189672  19542982   \n",
       "1      Albania     ALB   2842321   2866849   2882481   2913399   3182021   \n",
       "2      Algeria     DZA  44903225  43451666  39543154  35856344  30774621   \n",
       "3      Andorra     AND     79824     77700     71746     71519     66097   \n",
       "4       Angola     AGO  35588987  33428485  28127721  23364185  16394062   \n",
       "\n",
       "   1990_pop  1980_pop  1970_pop  area (km)   density iso_two iso_three  \\\n",
       "0  10694796  12486631  10752971     652230   63.0587      af       afg   \n",
       "1   3295066   2941651   2324731      28748   98.8702      al       alb   \n",
       "2  25518074  18739378  13795915    2381741   18.8531      dz       dza   \n",
       "3     53569     35611     19860        468  170.5641      ad       and   \n",
       "4  11828638   8330047   6029700    1246700   28.5466      ao       ago   \n",
       "\n",
       "            Capital Continent  \n",
       "0             Kabul      Asia  \n",
       "1            Tirana    Europe  \n",
       "2           Algiers    Africa  \n",
       "3  Andorra la Vella    Europe  \n",
       "4            Luanda    Africa  "
      ]
     },
     "execution_count": 24,
     "metadata": {},
     "output_type": "execute_result"
    }
   ],
   "source": [
    "# Clean the new dataframe \n",
    "\n",
    "countryiso.head()\n",
    "countryiso.rename(columns={'Country/Territory': 'org_country',\n",
    "                          'CCA3': 'iso_map',\n",
    "                          '2022 Population': '2022_pop',\n",
    "                           '2020 Population': '2020_pop',\n",
    "                           '2015 Population': '2015_pop',\n",
    "                           '2010 Population': '2010_pop',\n",
    "                           '2000 Population': '2000_pop',\n",
    "                           '1990 Population': '1990_pop',\n",
    "                           '1980 Population': '1980_pop',\n",
    "                           '1970 Population': '1970_pop',\n",
    "                          'Area (km²)': 'area (km)',\n",
    "                          'Density (per km²)': 'density',\n",
    "                          'World Population Percentage': 'percent_pop',\n",
    "                          'geo_country': 'country'}, inplace=True)\n",
    "\n",
    "country_cleaned = countryiso.reindex(columns=['country', 'iso_map', '2022_pop', '2020_pop', '2015_pop', '2010_pop', '2000_pop', \n",
    "                            '1990_pop', '1980_pop', '1970_pop', 'area (km)', 'density', 'iso_two', 'iso_three',\n",
    "                           'Capital', 'Continent'])\n",
    "\n",
    "country_cleaned.head()"
   ]
  },
  {
   "cell_type": "code",
   "execution_count": 37,
   "id": "b3bd59c7",
   "metadata": {},
   "outputs": [
    {
     "data": {
      "text/html": [
       "<div>\n",
       "<style scoped>\n",
       "    .dataframe tbody tr th:only-of-type {\n",
       "        vertical-align: middle;\n",
       "    }\n",
       "\n",
       "    .dataframe tbody tr th {\n",
       "        vertical-align: top;\n",
       "    }\n",
       "\n",
       "    .dataframe thead th {\n",
       "        text-align: right;\n",
       "    }\n",
       "</style>\n",
       "<table border=\"1\" class=\"dataframe\">\n",
       "  <thead>\n",
       "    <tr style=\"text-align: right;\">\n",
       "      <th></th>\n",
       "      <th>country</th>\n",
       "      <th>iso_map</th>\n",
       "      <th>2022_pop</th>\n",
       "      <th>2020_pop</th>\n",
       "      <th>2015_pop</th>\n",
       "      <th>2010_pop</th>\n",
       "      <th>2000_pop</th>\n",
       "      <th>1990_pop</th>\n",
       "      <th>1980_pop</th>\n",
       "      <th>1970_pop</th>\n",
       "      <th>area (km)</th>\n",
       "      <th>density</th>\n",
       "      <th>iso_two</th>\n",
       "      <th>iso_three</th>\n",
       "      <th>Capital</th>\n",
       "      <th>Continent</th>\n",
       "      <th>growth_rate_10_22</th>\n",
       "    </tr>\n",
       "  </thead>\n",
       "  <tbody>\n",
       "    <tr>\n",
       "      <th>0</th>\n",
       "      <td>Afghanistan</td>\n",
       "      <td>AFG</td>\n",
       "      <td>41128771</td>\n",
       "      <td>38972230</td>\n",
       "      <td>33753499</td>\n",
       "      <td>28189672</td>\n",
       "      <td>19542982</td>\n",
       "      <td>10694796</td>\n",
       "      <td>12486631</td>\n",
       "      <td>10752971</td>\n",
       "      <td>652230</td>\n",
       "      <td>63.0587</td>\n",
       "      <td>af</td>\n",
       "      <td>afg</td>\n",
       "      <td>Kabul</td>\n",
       "      <td>Asia</td>\n",
       "      <td>3.198007</td>\n",
       "    </tr>\n",
       "    <tr>\n",
       "      <th>1</th>\n",
       "      <td>Albania</td>\n",
       "      <td>ALB</td>\n",
       "      <td>2842321</td>\n",
       "      <td>2866849</td>\n",
       "      <td>2882481</td>\n",
       "      <td>2913399</td>\n",
       "      <td>3182021</td>\n",
       "      <td>3295066</td>\n",
       "      <td>2941651</td>\n",
       "      <td>2324731</td>\n",
       "      <td>28748</td>\n",
       "      <td>98.8702</td>\n",
       "      <td>al</td>\n",
       "      <td>alb</td>\n",
       "      <td>Tirana</td>\n",
       "      <td>Europe</td>\n",
       "      <td>-0.205617</td>\n",
       "    </tr>\n",
       "    <tr>\n",
       "      <th>2</th>\n",
       "      <td>Algeria</td>\n",
       "      <td>DZA</td>\n",
       "      <td>44903225</td>\n",
       "      <td>43451666</td>\n",
       "      <td>39543154</td>\n",
       "      <td>35856344</td>\n",
       "      <td>30774621</td>\n",
       "      <td>25518074</td>\n",
       "      <td>18739378</td>\n",
       "      <td>13795915</td>\n",
       "      <td>2381741</td>\n",
       "      <td>18.8531</td>\n",
       "      <td>dz</td>\n",
       "      <td>dza</td>\n",
       "      <td>Algiers</td>\n",
       "      <td>Africa</td>\n",
       "      <td>1.892596</td>\n",
       "    </tr>\n",
       "    <tr>\n",
       "      <th>3</th>\n",
       "      <td>Andorra</td>\n",
       "      <td>AND</td>\n",
       "      <td>79824</td>\n",
       "      <td>77700</td>\n",
       "      <td>71746</td>\n",
       "      <td>71519</td>\n",
       "      <td>66097</td>\n",
       "      <td>53569</td>\n",
       "      <td>35611</td>\n",
       "      <td>19860</td>\n",
       "      <td>468</td>\n",
       "      <td>170.5641</td>\n",
       "      <td>ad</td>\n",
       "      <td>and</td>\n",
       "      <td>Andorra la Vella</td>\n",
       "      <td>Europe</td>\n",
       "      <td>0.919712</td>\n",
       "    </tr>\n",
       "    <tr>\n",
       "      <th>4</th>\n",
       "      <td>Angola</td>\n",
       "      <td>AGO</td>\n",
       "      <td>35588987</td>\n",
       "      <td>33428485</td>\n",
       "      <td>28127721</td>\n",
       "      <td>23364185</td>\n",
       "      <td>16394062</td>\n",
       "      <td>11828638</td>\n",
       "      <td>8330047</td>\n",
       "      <td>6029700</td>\n",
       "      <td>1246700</td>\n",
       "      <td>28.5466</td>\n",
       "      <td>ao</td>\n",
       "      <td>ago</td>\n",
       "      <td>Luanda</td>\n",
       "      <td>Africa</td>\n",
       "      <td>3.569151</td>\n",
       "    </tr>\n",
       "  </tbody>\n",
       "</table>\n",
       "</div>"
      ],
      "text/plain": [
       "       country iso_map  2022_pop  2020_pop  2015_pop  2010_pop  2000_pop  \\\n",
       "0  Afghanistan     AFG  41128771  38972230  33753499  28189672  19542982   \n",
       "1      Albania     ALB   2842321   2866849   2882481   2913399   3182021   \n",
       "2      Algeria     DZA  44903225  43451666  39543154  35856344  30774621   \n",
       "3      Andorra     AND     79824     77700     71746     71519     66097   \n",
       "4       Angola     AGO  35588987  33428485  28127721  23364185  16394062   \n",
       "\n",
       "   1990_pop  1980_pop  1970_pop  area (km)   density iso_two iso_three  \\\n",
       "0  10694796  12486631  10752971     652230   63.0587      af       afg   \n",
       "1   3295066   2941651   2324731      28748   98.8702      al       alb   \n",
       "2  25518074  18739378  13795915    2381741   18.8531      dz       dza   \n",
       "3     53569     35611     19860        468  170.5641      ad       and   \n",
       "4  11828638   8330047   6029700    1246700   28.5466      ao       ago   \n",
       "\n",
       "            Capital Continent  growth_rate_10_22  \n",
       "0             Kabul      Asia           3.198007  \n",
       "1            Tirana    Europe          -0.205617  \n",
       "2           Algiers    Africa           1.892596  \n",
       "3  Andorra la Vella    Europe           0.919712  \n",
       "4            Luanda    Africa           3.569151  "
      ]
     },
     "execution_count": 37,
     "metadata": {},
     "output_type": "execute_result"
    }
   ],
   "source": [
    "country_cleaned['growth_rate_10_22'] = (((country_cleaned['2022_pop'] / country_cleaned['2010_pop']) ** (1/12)) - 1)  * 100\n",
    "# https://ca.indeed.com/career-advice/career-development/how-to-calculate-growth-rate\n",
    "country_cleaned.head()\n",
    "\n",
    "\n",
    "country_cleaned.to_csv('Datasets\\cleaned_base.csv')\n",
    "country_cleaned.head()"
   ]
  }
 ],
 "metadata": {
  "kernelspec": {
   "display_name": "Python 3 (ipykernel)",
   "language": "python",
   "name": "python3"
  },
  "language_info": {
   "codemirror_mode": {
    "name": "ipython",
    "version": 3
   },
   "file_extension": ".py",
   "mimetype": "text/x-python",
   "name": "python",
   "nbconvert_exporter": "python",
   "pygments_lexer": "ipython3",
   "version": "3.10.11"
  }
 },
 "nbformat": 4,
 "nbformat_minor": 5
}
